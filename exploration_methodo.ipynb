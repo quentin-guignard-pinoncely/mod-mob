{
 "cells": [
  {
   "attachments": {},
   "cell_type": "markdown",
   "metadata": {},
   "source": [
    "# <a id='toc1_'></a>[Modélisation des mobilités quotidiennes des individus](#toc0_)\n",
    "\n",
    "Le but de ce notebook est d'explorer une méthodologie pour prédire les séquences de déplacements d'un individu à partir de ses caratéristiques socio-économiques.  \n",
    "Ces premiers travaux ont pour objectifs de qualifier la pertinence de l'utilisation des algorithmes du traitement du langage naturel pour cette tâche.  \n",
    "\n",
    "\n",
    "Définitions : \n",
    "- **Déplacement** : un déplacement est défini par un triplet (mode de déplacement, motif de déplacement, distance parcourue)\n",
    "- **Séquence de déplacements** : c'est une suite ordonnée de déplacement effectué par un individu sur une journée.\n",
    "\n",
    "Cette métohodologie se divise en 2 parties :\n",
    "1. Apprentissage d'un modèle d'embedding pour effectuer un plongement sémentique des couples (mode, motif)\n",
    "2. Apprentissage d'un RNN \"vector to sequence\" pour la prédiction d'une séquence de déplacement à partir d'un vecteur de caratistique socio-économique "
   ]
  },
  {
   "attachments": {},
   "cell_type": "markdown",
   "metadata": {},
   "source": [
    "**Sommaire**<a id='toc0_'></a>    \n",
    "- [Création dataset](#toc1_1_)    \n",
    "  - [Récupération Data from mobility](#toc1_1_1_)    \n",
    "  - [Préprocessing des données](#toc1_1_2_)    \n",
    "- [Embedding des couples (MODE, MOTIF)](#toc1_2_)    \n",
    "  - [Description du modèle](#toc1_2_1_)    \n",
    "  - [Entrainement du modèle](#toc1_2_2_)    \n",
    "  - [Data viz des 2 premières dimensions de l'emmbedings](#toc1_2_3_)    \n",
    "- [RNN vector to Sequence](#toc1_3_)    \n",
    "  - [Description du modèle](#toc1_3_1_)    \n",
    "  - [Entrainement du modèle](#toc1_3_2_)    \n",
    "  - [Exemple de prédiction](#toc1_3_3_)    \n",
    "\n",
    "<!-- vscode-jupyter-toc-config\n",
    "\tnumbering=false\n",
    "\tanchor=true\n",
    "\tflat=false\n",
    "\tminLevel=1\n",
    "\tmaxLevel=6\n",
    "\t/vscode-jupyter-toc-config -->\n",
    "<!-- THIS CELL WILL BE REPLACED ON TOC UPDATE. DO NOT WRITE YOUR TEXT IN THIS CELL -->"
   ]
  },
  {
   "cell_type": "code",
   "execution_count": 1,
   "metadata": {},
   "outputs": [],
   "source": [
    "import pandas as pd\n",
    "import plotly.express as px\n",
    "from core import DataGetter, Mob2Vec, Features2Trajectory"
   ]
  },
  {
   "attachments": {},
   "cell_type": "markdown",
   "metadata": {},
   "source": [
    "## <a id='toc1_1_'></a>[Création dataset](#toc0_)"
   ]
  },
  {
   "attachments": {},
   "cell_type": "markdown",
   "metadata": {},
   "source": [
    "### <a id='toc1_1_1_'></a>[Récupération des données](#toc0_)\n",
    "Les données utilisées sont issues de l'Enquète Mobilité des Personnes 2019 (EMP). Elles sont récupérées via le package mobility."
   ]
  },
  {
   "cell_type": "code",
   "execution_count": 2,
   "metadata": {},
   "outputs": [
    {
     "name": "stderr",
     "output_type": "stream",
     "text": [
      "c:\\Users\\Quentin\\Desktop\\ign\\core\\data_getter.py:73: FutureWarning: Indexing with multiple keys (implicitly converted to a tuple of keys) will be deprecated, use a list instead.\n",
      "  self.trajectories.groupby(self.column_id)[\n"
     ]
    }
   ],
   "source": [
    "data = DataGetter(n_individus=10000, group_modalities=True)\n",
    "data.get_features()\n",
    "data.get_trajectories()"
   ]
  },
  {
   "attachments": {},
   "cell_type": "markdown",
   "metadata": {},
   "source": [
    "### <a id='toc1_1_2_'></a>[Préprocessing des données](#toc0_)"
   ]
  },
  {
   "cell_type": "code",
   "execution_count": 3,
   "metadata": {},
   "outputs": [],
   "source": [
    "data.pad_trajectories()\n",
    "data.distance_standardization()"
   ]
  },
  {
   "attachments": {},
   "cell_type": "markdown",
   "metadata": {},
   "source": [
    "## <a id='toc1_2_'></a>[Embedding des couples (MODE, MOTIF)](#toc0_)\n",
    "\n",
    "L'objectif de ce modèle est d'apprendre un plongement sémentique de notre vocabulaire de déplacements.\n",
    "\n",
    "Nous apprenons un modèle équivalent à word2vec : \"un déplacement, définit par le couple (motif, mode), est à une trajectoire, ce qu'un mot est à une phrase\""
   ]
  },
  {
   "attachments": {},
   "cell_type": "markdown",
   "metadata": {},
   "source": [
    "### <a id='toc1_2_1_'></a>[Description du modèle](#toc0_)"
   ]
  },
  {
   "cell_type": "code",
   "execution_count": 4,
   "metadata": {},
   "outputs": [
    {
     "name": "stdout",
     "output_type": "stream",
     "text": [
      "Model: \"sequential\"\n",
      "_________________________________________________________________\n",
      " Layer (type)                Output Shape              Param #   \n",
      "=================================================================\n",
      " embedding (Embedding)       (None, 4, 2)              164       \n",
      "                                                                 \n",
      " global_average_pooling1d (G  (None, 2)                0         \n",
      " lobalAveragePooling1D)                                          \n",
      "                                                                 \n",
      " dense (Dense)               (None, 82)                246       \n",
      "                                                                 \n",
      "=================================================================\n",
      "Total params: 410\n",
      "Trainable params: 410\n",
      "Non-trainable params: 0\n",
      "_________________________________________________________________\n"
     ]
    }
   ],
   "source": [
    "mob2vec = Mob2Vec(data, window_size=2, embedding_dim=2)\n",
    "mob2vec.model.summary()"
   ]
  },
  {
   "attachments": {},
   "cell_type": "markdown",
   "metadata": {},
   "source": [
    "### <a id='toc1_2_2_'></a>[Entrainement du modèle](#toc0_)"
   ]
  },
  {
   "cell_type": "code",
   "execution_count": 5,
   "metadata": {},
   "outputs": [
    {
     "name": "stdout",
     "output_type": "stream",
     "text": [
      "Epoch 1/20\n",
      "98/98 [==============================] - 1s 3ms/step - loss: 4.3095 - val_loss: 4.1958\n",
      "Epoch 2/20\n",
      "98/98 [==============================] - 0s 2ms/step - loss: 4.0538 - val_loss: 3.8837\n",
      "Epoch 3/20\n",
      "98/98 [==============================] - 0s 2ms/step - loss: 3.7023 - val_loss: 3.4977\n",
      "Epoch 4/20\n",
      "98/98 [==============================] - 0s 2ms/step - loss: 3.3110 - val_loss: 3.1086\n",
      "Epoch 5/20\n",
      "98/98 [==============================] - 0s 2ms/step - loss: 2.9501 - val_loss: 2.7805\n",
      "Epoch 6/20\n",
      "98/98 [==============================] - 0s 2ms/step - loss: 2.6720 - val_loss: 2.5496\n",
      "Epoch 7/20\n",
      "98/98 [==============================] - 0s 2ms/step - loss: 2.4915 - val_loss: 2.4123\n",
      "Epoch 8/20\n",
      "98/98 [==============================] - 0s 2ms/step - loss: 2.3910 - val_loss: 2.3392\n",
      "Epoch 9/20\n",
      "98/98 [==============================] - 0s 2ms/step - loss: 2.3372 - val_loss: 2.2989\n",
      "Epoch 10/20\n",
      "98/98 [==============================] - 0s 2ms/step - loss: 2.3054 - val_loss: 2.2733\n",
      "Epoch 11/20\n",
      "98/98 [==============================] - 0s 2ms/step - loss: 2.2835 - val_loss: 2.2544\n",
      "Epoch 12/20\n",
      "98/98 [==============================] - 0s 2ms/step - loss: 2.2665 - val_loss: 2.2391\n",
      "Epoch 13/20\n",
      "98/98 [==============================] - 0s 2ms/step - loss: 2.2520 - val_loss: 2.2257\n",
      "Epoch 14/20\n",
      "98/98 [==============================] - 0s 2ms/step - loss: 2.2387 - val_loss: 2.2129\n",
      "Epoch 15/20\n",
      "98/98 [==============================] - 0s 2ms/step - loss: 2.2257 - val_loss: 2.2004\n",
      "Epoch 16/20\n",
      "98/98 [==============================] - 0s 2ms/step - loss: 2.2123 - val_loss: 2.1870\n",
      "Epoch 17/20\n",
      "98/98 [==============================] - 0s 2ms/step - loss: 2.1975 - val_loss: 2.1721\n",
      "Epoch 18/20\n",
      "98/98 [==============================] - 0s 2ms/step - loss: 2.1810 - val_loss: 2.1552\n",
      "Epoch 19/20\n",
      "98/98 [==============================] - 0s 2ms/step - loss: 2.1621 - val_loss: 2.1360\n",
      "Epoch 20/20\n",
      "98/98 [==============================] - 0s 2ms/step - loss: 2.1409 - val_loss: 2.1149\n"
     ]
    }
   ],
   "source": [
    "mob2vec.fit()"
   ]
  },
  {
   "cell_type": "code",
   "execution_count": 6,
   "metadata": {},
   "outputs": [
    {
     "data": {
      "application/vnd.plotly.v1+json": {
       "config": {
        "plotlyServerURL": "https://plot.ly"
       },
       "data": [
        {
         "hovertemplate": "variable=loss<br>index=%{x}<br>value=%{y}<extra></extra>",
         "legendgroup": "loss",
         "line": {
          "color": "#636efa",
          "dash": "solid"
         },
         "marker": {
          "symbol": "circle"
         },
         "mode": "lines",
         "name": "loss",
         "orientation": "v",
         "showlegend": true,
         "type": "scatter",
         "x": [
          0,
          1,
          2,
          3,
          4,
          5,
          6,
          7,
          8,
          9,
          10,
          11,
          12,
          13,
          14,
          15,
          16,
          17,
          18,
          19
         ],
         "xaxis": "x",
         "y": [
          4.309508800506592,
          4.053836345672607,
          3.7022879123687744,
          3.311004400253296,
          2.9500834941864014,
          2.6719775199890137,
          2.491537570953369,
          2.3910093307495117,
          2.3372292518615723,
          2.3053975105285645,
          2.2835099697113037,
          2.2665231227874756,
          2.2520182132720947,
          2.238706588745117,
          2.225726366043091,
          2.212263345718384,
          2.197545289993286,
          2.180967092514038,
          2.162095785140991,
          2.140889883041382
         ],
         "yaxis": "y"
        },
        {
         "hovertemplate": "variable=val_loss<br>index=%{x}<br>value=%{y}<extra></extra>",
         "legendgroup": "val_loss",
         "line": {
          "color": "#EF553B",
          "dash": "solid"
         },
         "marker": {
          "symbol": "circle"
         },
         "mode": "lines",
         "name": "val_loss",
         "orientation": "v",
         "showlegend": true,
         "type": "scatter",
         "x": [
          0,
          1,
          2,
          3,
          4,
          5,
          6,
          7,
          8,
          9,
          10,
          11,
          12,
          13,
          14,
          15,
          16,
          17,
          18,
          19
         ],
         "xaxis": "x",
         "y": [
          4.195803165435791,
          3.883711576461792,
          3.497746706008911,
          3.1086039543151855,
          2.7805302143096924,
          2.5496277809143066,
          2.4123423099517822,
          2.339186191558838,
          2.2988884449005127,
          2.2732841968536377,
          2.2543795108795166,
          2.2390687465667725,
          2.225672960281372,
          2.212928056716919,
          2.200369358062744,
          2.1869609355926514,
          2.172095775604248,
          2.1552298069000244,
          2.1360414028167725,
          2.114881753921509
         ],
         "yaxis": "y"
        }
       ],
       "layout": {
        "legend": {
         "title": {
          "text": "variable"
         },
         "tracegroupgap": 0
        },
        "margin": {
         "t": 60
        },
        "template": {
         "data": {
          "bar": [
           {
            "error_x": {
             "color": "#2a3f5f"
            },
            "error_y": {
             "color": "#2a3f5f"
            },
            "marker": {
             "line": {
              "color": "#E5ECF6",
              "width": 0.5
             },
             "pattern": {
              "fillmode": "overlay",
              "size": 10,
              "solidity": 0.2
             }
            },
            "type": "bar"
           }
          ],
          "barpolar": [
           {
            "marker": {
             "line": {
              "color": "#E5ECF6",
              "width": 0.5
             },
             "pattern": {
              "fillmode": "overlay",
              "size": 10,
              "solidity": 0.2
             }
            },
            "type": "barpolar"
           }
          ],
          "carpet": [
           {
            "aaxis": {
             "endlinecolor": "#2a3f5f",
             "gridcolor": "white",
             "linecolor": "white",
             "minorgridcolor": "white",
             "startlinecolor": "#2a3f5f"
            },
            "baxis": {
             "endlinecolor": "#2a3f5f",
             "gridcolor": "white",
             "linecolor": "white",
             "minorgridcolor": "white",
             "startlinecolor": "#2a3f5f"
            },
            "type": "carpet"
           }
          ],
          "choropleth": [
           {
            "colorbar": {
             "outlinewidth": 0,
             "ticks": ""
            },
            "type": "choropleth"
           }
          ],
          "contour": [
           {
            "colorbar": {
             "outlinewidth": 0,
             "ticks": ""
            },
            "colorscale": [
             [
              0,
              "#0d0887"
             ],
             [
              0.1111111111111111,
              "#46039f"
             ],
             [
              0.2222222222222222,
              "#7201a8"
             ],
             [
              0.3333333333333333,
              "#9c179e"
             ],
             [
              0.4444444444444444,
              "#bd3786"
             ],
             [
              0.5555555555555556,
              "#d8576b"
             ],
             [
              0.6666666666666666,
              "#ed7953"
             ],
             [
              0.7777777777777778,
              "#fb9f3a"
             ],
             [
              0.8888888888888888,
              "#fdca26"
             ],
             [
              1,
              "#f0f921"
             ]
            ],
            "type": "contour"
           }
          ],
          "contourcarpet": [
           {
            "colorbar": {
             "outlinewidth": 0,
             "ticks": ""
            },
            "type": "contourcarpet"
           }
          ],
          "heatmap": [
           {
            "colorbar": {
             "outlinewidth": 0,
             "ticks": ""
            },
            "colorscale": [
             [
              0,
              "#0d0887"
             ],
             [
              0.1111111111111111,
              "#46039f"
             ],
             [
              0.2222222222222222,
              "#7201a8"
             ],
             [
              0.3333333333333333,
              "#9c179e"
             ],
             [
              0.4444444444444444,
              "#bd3786"
             ],
             [
              0.5555555555555556,
              "#d8576b"
             ],
             [
              0.6666666666666666,
              "#ed7953"
             ],
             [
              0.7777777777777778,
              "#fb9f3a"
             ],
             [
              0.8888888888888888,
              "#fdca26"
             ],
             [
              1,
              "#f0f921"
             ]
            ],
            "type": "heatmap"
           }
          ],
          "heatmapgl": [
           {
            "colorbar": {
             "outlinewidth": 0,
             "ticks": ""
            },
            "colorscale": [
             [
              0,
              "#0d0887"
             ],
             [
              0.1111111111111111,
              "#46039f"
             ],
             [
              0.2222222222222222,
              "#7201a8"
             ],
             [
              0.3333333333333333,
              "#9c179e"
             ],
             [
              0.4444444444444444,
              "#bd3786"
             ],
             [
              0.5555555555555556,
              "#d8576b"
             ],
             [
              0.6666666666666666,
              "#ed7953"
             ],
             [
              0.7777777777777778,
              "#fb9f3a"
             ],
             [
              0.8888888888888888,
              "#fdca26"
             ],
             [
              1,
              "#f0f921"
             ]
            ],
            "type": "heatmapgl"
           }
          ],
          "histogram": [
           {
            "marker": {
             "pattern": {
              "fillmode": "overlay",
              "size": 10,
              "solidity": 0.2
             }
            },
            "type": "histogram"
           }
          ],
          "histogram2d": [
           {
            "colorbar": {
             "outlinewidth": 0,
             "ticks": ""
            },
            "colorscale": [
             [
              0,
              "#0d0887"
             ],
             [
              0.1111111111111111,
              "#46039f"
             ],
             [
              0.2222222222222222,
              "#7201a8"
             ],
             [
              0.3333333333333333,
              "#9c179e"
             ],
             [
              0.4444444444444444,
              "#bd3786"
             ],
             [
              0.5555555555555556,
              "#d8576b"
             ],
             [
              0.6666666666666666,
              "#ed7953"
             ],
             [
              0.7777777777777778,
              "#fb9f3a"
             ],
             [
              0.8888888888888888,
              "#fdca26"
             ],
             [
              1,
              "#f0f921"
             ]
            ],
            "type": "histogram2d"
           }
          ],
          "histogram2dcontour": [
           {
            "colorbar": {
             "outlinewidth": 0,
             "ticks": ""
            },
            "colorscale": [
             [
              0,
              "#0d0887"
             ],
             [
              0.1111111111111111,
              "#46039f"
             ],
             [
              0.2222222222222222,
              "#7201a8"
             ],
             [
              0.3333333333333333,
              "#9c179e"
             ],
             [
              0.4444444444444444,
              "#bd3786"
             ],
             [
              0.5555555555555556,
              "#d8576b"
             ],
             [
              0.6666666666666666,
              "#ed7953"
             ],
             [
              0.7777777777777778,
              "#fb9f3a"
             ],
             [
              0.8888888888888888,
              "#fdca26"
             ],
             [
              1,
              "#f0f921"
             ]
            ],
            "type": "histogram2dcontour"
           }
          ],
          "mesh3d": [
           {
            "colorbar": {
             "outlinewidth": 0,
             "ticks": ""
            },
            "type": "mesh3d"
           }
          ],
          "parcoords": [
           {
            "line": {
             "colorbar": {
              "outlinewidth": 0,
              "ticks": ""
             }
            },
            "type": "parcoords"
           }
          ],
          "pie": [
           {
            "automargin": true,
            "type": "pie"
           }
          ],
          "scatter": [
           {
            "fillpattern": {
             "fillmode": "overlay",
             "size": 10,
             "solidity": 0.2
            },
            "type": "scatter"
           }
          ],
          "scatter3d": [
           {
            "line": {
             "colorbar": {
              "outlinewidth": 0,
              "ticks": ""
             }
            },
            "marker": {
             "colorbar": {
              "outlinewidth": 0,
              "ticks": ""
             }
            },
            "type": "scatter3d"
           }
          ],
          "scattercarpet": [
           {
            "marker": {
             "colorbar": {
              "outlinewidth": 0,
              "ticks": ""
             }
            },
            "type": "scattercarpet"
           }
          ],
          "scattergeo": [
           {
            "marker": {
             "colorbar": {
              "outlinewidth": 0,
              "ticks": ""
             }
            },
            "type": "scattergeo"
           }
          ],
          "scattergl": [
           {
            "marker": {
             "colorbar": {
              "outlinewidth": 0,
              "ticks": ""
             }
            },
            "type": "scattergl"
           }
          ],
          "scattermapbox": [
           {
            "marker": {
             "colorbar": {
              "outlinewidth": 0,
              "ticks": ""
             }
            },
            "type": "scattermapbox"
           }
          ],
          "scatterpolar": [
           {
            "marker": {
             "colorbar": {
              "outlinewidth": 0,
              "ticks": ""
             }
            },
            "type": "scatterpolar"
           }
          ],
          "scatterpolargl": [
           {
            "marker": {
             "colorbar": {
              "outlinewidth": 0,
              "ticks": ""
             }
            },
            "type": "scatterpolargl"
           }
          ],
          "scatterternary": [
           {
            "marker": {
             "colorbar": {
              "outlinewidth": 0,
              "ticks": ""
             }
            },
            "type": "scatterternary"
           }
          ],
          "surface": [
           {
            "colorbar": {
             "outlinewidth": 0,
             "ticks": ""
            },
            "colorscale": [
             [
              0,
              "#0d0887"
             ],
             [
              0.1111111111111111,
              "#46039f"
             ],
             [
              0.2222222222222222,
              "#7201a8"
             ],
             [
              0.3333333333333333,
              "#9c179e"
             ],
             [
              0.4444444444444444,
              "#bd3786"
             ],
             [
              0.5555555555555556,
              "#d8576b"
             ],
             [
              0.6666666666666666,
              "#ed7953"
             ],
             [
              0.7777777777777778,
              "#fb9f3a"
             ],
             [
              0.8888888888888888,
              "#fdca26"
             ],
             [
              1,
              "#f0f921"
             ]
            ],
            "type": "surface"
           }
          ],
          "table": [
           {
            "cells": {
             "fill": {
              "color": "#EBF0F8"
             },
             "line": {
              "color": "white"
             }
            },
            "header": {
             "fill": {
              "color": "#C8D4E3"
             },
             "line": {
              "color": "white"
             }
            },
            "type": "table"
           }
          ]
         },
         "layout": {
          "annotationdefaults": {
           "arrowcolor": "#2a3f5f",
           "arrowhead": 0,
           "arrowwidth": 1
          },
          "autotypenumbers": "strict",
          "coloraxis": {
           "colorbar": {
            "outlinewidth": 0,
            "ticks": ""
           }
          },
          "colorscale": {
           "diverging": [
            [
             0,
             "#8e0152"
            ],
            [
             0.1,
             "#c51b7d"
            ],
            [
             0.2,
             "#de77ae"
            ],
            [
             0.3,
             "#f1b6da"
            ],
            [
             0.4,
             "#fde0ef"
            ],
            [
             0.5,
             "#f7f7f7"
            ],
            [
             0.6,
             "#e6f5d0"
            ],
            [
             0.7,
             "#b8e186"
            ],
            [
             0.8,
             "#7fbc41"
            ],
            [
             0.9,
             "#4d9221"
            ],
            [
             1,
             "#276419"
            ]
           ],
           "sequential": [
            [
             0,
             "#0d0887"
            ],
            [
             0.1111111111111111,
             "#46039f"
            ],
            [
             0.2222222222222222,
             "#7201a8"
            ],
            [
             0.3333333333333333,
             "#9c179e"
            ],
            [
             0.4444444444444444,
             "#bd3786"
            ],
            [
             0.5555555555555556,
             "#d8576b"
            ],
            [
             0.6666666666666666,
             "#ed7953"
            ],
            [
             0.7777777777777778,
             "#fb9f3a"
            ],
            [
             0.8888888888888888,
             "#fdca26"
            ],
            [
             1,
             "#f0f921"
            ]
           ],
           "sequentialminus": [
            [
             0,
             "#0d0887"
            ],
            [
             0.1111111111111111,
             "#46039f"
            ],
            [
             0.2222222222222222,
             "#7201a8"
            ],
            [
             0.3333333333333333,
             "#9c179e"
            ],
            [
             0.4444444444444444,
             "#bd3786"
            ],
            [
             0.5555555555555556,
             "#d8576b"
            ],
            [
             0.6666666666666666,
             "#ed7953"
            ],
            [
             0.7777777777777778,
             "#fb9f3a"
            ],
            [
             0.8888888888888888,
             "#fdca26"
            ],
            [
             1,
             "#f0f921"
            ]
           ]
          },
          "colorway": [
           "#636efa",
           "#EF553B",
           "#00cc96",
           "#ab63fa",
           "#FFA15A",
           "#19d3f3",
           "#FF6692",
           "#B6E880",
           "#FF97FF",
           "#FECB52"
          ],
          "font": {
           "color": "#2a3f5f"
          },
          "geo": {
           "bgcolor": "white",
           "lakecolor": "white",
           "landcolor": "#E5ECF6",
           "showlakes": true,
           "showland": true,
           "subunitcolor": "white"
          },
          "hoverlabel": {
           "align": "left"
          },
          "hovermode": "closest",
          "mapbox": {
           "style": "light"
          },
          "paper_bgcolor": "white",
          "plot_bgcolor": "#E5ECF6",
          "polar": {
           "angularaxis": {
            "gridcolor": "white",
            "linecolor": "white",
            "ticks": ""
           },
           "bgcolor": "#E5ECF6",
           "radialaxis": {
            "gridcolor": "white",
            "linecolor": "white",
            "ticks": ""
           }
          },
          "scene": {
           "xaxis": {
            "backgroundcolor": "#E5ECF6",
            "gridcolor": "white",
            "gridwidth": 2,
            "linecolor": "white",
            "showbackground": true,
            "ticks": "",
            "zerolinecolor": "white"
           },
           "yaxis": {
            "backgroundcolor": "#E5ECF6",
            "gridcolor": "white",
            "gridwidth": 2,
            "linecolor": "white",
            "showbackground": true,
            "ticks": "",
            "zerolinecolor": "white"
           },
           "zaxis": {
            "backgroundcolor": "#E5ECF6",
            "gridcolor": "white",
            "gridwidth": 2,
            "linecolor": "white",
            "showbackground": true,
            "ticks": "",
            "zerolinecolor": "white"
           }
          },
          "shapedefaults": {
           "line": {
            "color": "#2a3f5f"
           }
          },
          "ternary": {
           "aaxis": {
            "gridcolor": "white",
            "linecolor": "white",
            "ticks": ""
           },
           "baxis": {
            "gridcolor": "white",
            "linecolor": "white",
            "ticks": ""
           },
           "bgcolor": "#E5ECF6",
           "caxis": {
            "gridcolor": "white",
            "linecolor": "white",
            "ticks": ""
           }
          },
          "title": {
           "x": 0.05
          },
          "xaxis": {
           "automargin": true,
           "gridcolor": "white",
           "linecolor": "white",
           "ticks": "",
           "title": {
            "standoff": 15
           },
           "zerolinecolor": "white",
           "zerolinewidth": 2
          },
          "yaxis": {
           "automargin": true,
           "gridcolor": "white",
           "linecolor": "white",
           "ticks": "",
           "title": {
            "standoff": 15
           },
           "zerolinecolor": "white",
           "zerolinewidth": 2
          }
         }
        },
        "xaxis": {
         "anchor": "y",
         "domain": [
          0,
          1
         ],
         "title": {
          "text": "index"
         }
        },
        "yaxis": {
         "anchor": "x",
         "domain": [
          0,
          1
         ],
         "title": {
          "text": "value"
         }
        }
       }
      }
     },
     "metadata": {},
     "output_type": "display_data"
    }
   ],
   "source": [
    "px.line(pd.DataFrame(mob2vec.history.history))"
   ]
  },
  {
   "attachments": {},
   "cell_type": "markdown",
   "metadata": {},
   "source": [
    "### <a id='toc1_2_3_'></a>[Data viz des 2 premières dimensions de l'emmbedings](#toc0_)"
   ]
  },
  {
   "cell_type": "code",
   "execution_count": 7,
   "metadata": {},
   "outputs": [
    {
     "data": {
      "application/vnd.plotly.v1+json": {
       "config": {
        "plotlyServerURL": "https://plot.ly"
       },
       "data": [
        {
         "hovertemplate": "Motif=<pad><br>Mode=<pad><br>x=%{x}<br>y=%{y}<extra></extra>",
         "legendgroup": "<pad>, <pad>",
         "marker": {
          "color": "#636efa",
          "symbol": "circle"
         },
         "mode": "markers",
         "name": "<pad>, <pad>",
         "orientation": "v",
         "showlegend": true,
         "type": "scatter",
         "x": [
          1.4762556552886963
         ],
         "xaxis": "x",
         "y": [
          1.2514411211013794
         ],
         "yaxis": "y"
        },
        {
         "hovertemplate": "Motif=3<br>Mode=1<br>x=%{x}<br>y=%{y}<extra></extra>",
         "legendgroup": "3, 1",
         "marker": {
          "color": "#EF553B",
          "symbol": "diamond"
         },
         "mode": "markers",
         "name": "3, 1",
         "orientation": "v",
         "showlegend": true,
         "type": "scatter",
         "x": [
          0.5170623660087585
         ],
         "xaxis": "x",
         "y": [
          -0.12373511493206024
         ],
         "yaxis": "y"
        },
        {
         "hovertemplate": "Motif=3<br>Mode=3<br>x=%{x}<br>y=%{y}<extra></extra>",
         "legendgroup": "3, 3",
         "marker": {
          "color": "#EF553B",
          "symbol": "square"
         },
         "mode": "markers",
         "name": "3, 3",
         "orientation": "v",
         "showlegend": true,
         "type": "scatter",
         "x": [
          -0.03270561620593071
         ],
         "xaxis": "x",
         "y": [
          1.1628162860870361
         ],
         "yaxis": "y"
        },
        {
         "hovertemplate": "Motif=3<br>Mode=5<br>x=%{x}<br>y=%{y}<extra></extra>",
         "legendgroup": "3, 5",
         "marker": {
          "color": "#EF553B",
          "symbol": "x"
         },
         "mode": "markers",
         "name": "3, 5",
         "orientation": "v",
         "showlegend": true,
         "type": "scatter",
         "x": [
          0.05137599632143974
         ],
         "xaxis": "x",
         "y": [
          -0.33017247915267944
         ],
         "yaxis": "y"
        },
        {
         "hovertemplate": "Motif=3<br>Mode=2<br>x=%{x}<br>y=%{y}<extra></extra>",
         "legendgroup": "3, 2",
         "marker": {
          "color": "#EF553B",
          "symbol": "cross"
         },
         "mode": "markers",
         "name": "3, 2",
         "orientation": "v",
         "showlegend": true,
         "type": "scatter",
         "x": [
          -0.3388802707195282
         ],
         "xaxis": "x",
         "y": [
          -0.5680093765258789
         ],
         "yaxis": "y"
        },
        {
         "hovertemplate": "Motif=3<br>Mode=9<br>x=%{x}<br>y=%{y}<extra></extra>",
         "legendgroup": "3, 9",
         "marker": {
          "color": "#EF553B",
          "symbol": "circle"
         },
         "mode": "markers",
         "name": "3, 9",
         "orientation": "v",
         "showlegend": true,
         "type": "scatter",
         "x": [
          -0.06499812006950378
         ],
         "xaxis": "x",
         "y": [
          -0.0008544345619156957
         ],
         "yaxis": "y"
        },
        {
         "hovertemplate": "Motif=3<br>Mode=4<br>x=%{x}<br>y=%{y}<extra></extra>",
         "legendgroup": "3, 4",
         "marker": {
          "color": "#EF553B",
          "symbol": "diamond"
         },
         "mode": "markers",
         "name": "3, 4",
         "orientation": "v",
         "showlegend": true,
         "type": "scatter",
         "x": [
          0.050492409616708755
         ],
         "xaxis": "x",
         "y": [
          -0.29844653606414795
         ],
         "yaxis": "y"
        },
        {
         "hovertemplate": "Motif=3<br>Mode=6<br>x=%{x}<br>y=%{y}<extra></extra>",
         "legendgroup": "3, 6",
         "marker": {
          "color": "#EF553B",
          "symbol": "square"
         },
         "mode": "markers",
         "name": "3, 6",
         "orientation": "v",
         "showlegend": true,
         "type": "scatter",
         "x": [
          0.006810831371694803
         ],
         "xaxis": "x",
         "y": [
          0.02286640740931034
         ],
         "yaxis": "y"
        },
        {
         "hovertemplate": "Motif=3<br>Mode=8<br>x=%{x}<br>y=%{y}<extra></extra>",
         "legendgroup": "3, 8",
         "marker": {
          "color": "#EF553B",
          "symbol": "x"
         },
         "mode": "markers",
         "name": "3, 8",
         "orientation": "v",
         "showlegend": true,
         "type": "scatter",
         "x": [
          -0.053613848984241486
         ],
         "xaxis": "x",
         "y": [
          0.013327689841389656
         ],
         "yaxis": "y"
        },
        {
         "hovertemplate": "Motif=3<br>Mode=7<br>x=%{x}<br>y=%{y}<extra></extra>",
         "legendgroup": "3, 7",
         "marker": {
          "color": "#EF553B",
          "symbol": "cross"
         },
         "mode": "markers",
         "name": "3, 7",
         "orientation": "v",
         "showlegend": true,
         "type": "scatter",
         "x": [
          -0.02128484845161438
         ],
         "xaxis": "x",
         "y": [
          0.019146617501974106
         ],
         "yaxis": "y"
        },
        {
         "hovertemplate": "Motif=2<br>Mode=1<br>x=%{x}<br>y=%{y}<extra></extra>",
         "legendgroup": "2, 1",
         "marker": {
          "color": "#00cc96",
          "symbol": "diamond"
         },
         "mode": "markers",
         "name": "2, 1",
         "orientation": "v",
         "showlegend": true,
         "type": "scatter",
         "x": [
          0.6176251769065857
         ],
         "xaxis": "x",
         "y": [
          -0.3816809058189392
         ],
         "yaxis": "y"
        },
        {
         "hovertemplate": "Motif=2<br>Mode=3<br>x=%{x}<br>y=%{y}<extra></extra>",
         "legendgroup": "2, 3",
         "marker": {
          "color": "#00cc96",
          "symbol": "square"
         },
         "mode": "markers",
         "name": "2, 3",
         "orientation": "v",
         "showlegend": true,
         "type": "scatter",
         "x": [
          -0.015061885118484497
         ],
         "xaxis": "x",
         "y": [
          1.2954415082931519
         ],
         "yaxis": "y"
        },
        {
         "hovertemplate": "Motif=2<br>Mode=5<br>x=%{x}<br>y=%{y}<extra></extra>",
         "legendgroup": "2, 5",
         "marker": {
          "color": "#00cc96",
          "symbol": "x"
         },
         "mode": "markers",
         "name": "2, 5",
         "orientation": "v",
         "showlegend": true,
         "type": "scatter",
         "x": [
          -0.023118900135159492
         ],
         "xaxis": "x",
         "y": [
          -0.4667401909828186
         ],
         "yaxis": "y"
        },
        {
         "hovertemplate": "Motif=2<br>Mode=2<br>x=%{x}<br>y=%{y}<extra></extra>",
         "legendgroup": "2, 2",
         "marker": {
          "color": "#00cc96",
          "symbol": "cross"
         },
         "mode": "markers",
         "name": "2, 2",
         "orientation": "v",
         "showlegend": true,
         "type": "scatter",
         "x": [
          -0.21203291416168213
         ],
         "xaxis": "x",
         "y": [
          -0.8960168957710266
         ],
         "yaxis": "y"
        },
        {
         "hovertemplate": "Motif=2<br>Mode=9<br>x=%{x}<br>y=%{y}<extra></extra>",
         "legendgroup": "2, 9",
         "marker": {
          "color": "#00cc96",
          "symbol": "circle"
         },
         "mode": "markers",
         "name": "2, 9",
         "orientation": "v",
         "showlegend": true,
         "type": "scatter",
         "x": [
          -0.0025541081558912992
         ],
         "xaxis": "x",
         "y": [
          -0.055557362735271454
         ],
         "yaxis": "y"
        },
        {
         "hovertemplate": "Motif=2<br>Mode=4<br>x=%{x}<br>y=%{y}<extra></extra>",
         "legendgroup": "2, 4",
         "marker": {
          "color": "#00cc96",
          "symbol": "diamond"
         },
         "mode": "markers",
         "name": "2, 4",
         "orientation": "v",
         "showlegend": true,
         "type": "scatter",
         "x": [
          -0.18406233191490173
         ],
         "xaxis": "x",
         "y": [
          -0.3588649034500122
         ],
         "yaxis": "y"
        },
        {
         "hovertemplate": "Motif=2<br>Mode=6<br>x=%{x}<br>y=%{y}<extra></extra>",
         "legendgroup": "2, 6",
         "marker": {
          "color": "#00cc96",
          "symbol": "square"
         },
         "mode": "markers",
         "name": "2, 6",
         "orientation": "v",
         "showlegend": true,
         "type": "scatter",
         "x": [
          -0.013776516541838646
         ],
         "xaxis": "x",
         "y": [
          0.013382448814809322
         ],
         "yaxis": "y"
        },
        {
         "hovertemplate": "Motif=2<br>Mode=8<br>x=%{x}<br>y=%{y}<extra></extra>",
         "legendgroup": "2, 8",
         "marker": {
          "color": "#00cc96",
          "symbol": "x"
         },
         "mode": "markers",
         "name": "2, 8",
         "orientation": "v",
         "showlegend": true,
         "type": "scatter",
         "x": [
          -0.0193069726228714
         ],
         "xaxis": "x",
         "y": [
          -0.032885998487472534
         ],
         "yaxis": "y"
        },
        {
         "hovertemplate": "Motif=2<br>Mode=7<br>x=%{x}<br>y=%{y}<extra></extra>",
         "legendgroup": "2, 7",
         "marker": {
          "color": "#00cc96",
          "symbol": "cross"
         },
         "mode": "markers",
         "name": "2, 7",
         "orientation": "v",
         "showlegend": true,
         "type": "scatter",
         "x": [
          0.02110152505338192
         ],
         "xaxis": "x",
         "y": [
          -0.08661747723817825
         ],
         "yaxis": "y"
        },
        {
         "hovertemplate": "Motif=1<br>Mode=1<br>x=%{x}<br>y=%{y}<extra></extra>",
         "legendgroup": "1, 1",
         "marker": {
          "color": "#ab63fa",
          "symbol": "diamond"
         },
         "mode": "markers",
         "name": "1, 1",
         "orientation": "v",
         "showlegend": true,
         "type": "scatter",
         "x": [
          1.4437977075576782
         ],
         "xaxis": "x",
         "y": [
          0.5136051774024963
         ],
         "yaxis": "y"
        },
        {
         "hovertemplate": "Motif=1<br>Mode=3<br>x=%{x}<br>y=%{y}<extra></extra>",
         "legendgroup": "1, 3",
         "marker": {
          "color": "#ab63fa",
          "symbol": "square"
         },
         "mode": "markers",
         "name": "1, 3",
         "orientation": "v",
         "showlegend": true,
         "type": "scatter",
         "x": [
          1.266850233078003
         ],
         "xaxis": "x",
         "y": [
          1.4630208015441895
         ],
         "yaxis": "y"
        },
        {
         "hovertemplate": "Motif=1<br>Mode=5<br>x=%{x}<br>y=%{y}<extra></extra>",
         "legendgroup": "1, 5",
         "marker": {
          "color": "#ab63fa",
          "symbol": "x"
         },
         "mode": "markers",
         "name": "1, 5",
         "orientation": "v",
         "showlegend": true,
         "type": "scatter",
         "x": [
          1.1848530769348145
         ],
         "xaxis": "x",
         "y": [
          0.0929325670003891
         ],
         "yaxis": "y"
        },
        {
         "hovertemplate": "Motif=1<br>Mode=2<br>x=%{x}<br>y=%{y}<extra></extra>",
         "legendgroup": "1, 2",
         "marker": {
          "color": "#ab63fa",
          "symbol": "cross"
         },
         "mode": "markers",
         "name": "1, 2",
         "orientation": "v",
         "showlegend": true,
         "type": "scatter",
         "x": [
          1.0258969068527222
         ],
         "xaxis": "x",
         "y": [
          -0.03911072760820389
         ],
         "yaxis": "y"
        },
        {
         "hovertemplate": "Motif=1<br>Mode=9<br>x=%{x}<br>y=%{y}<extra></extra>",
         "legendgroup": "1, 9",
         "marker": {
          "color": "#ab63fa",
          "symbol": "circle"
         },
         "mode": "markers",
         "name": "1, 9",
         "orientation": "v",
         "showlegend": true,
         "type": "scatter",
         "x": [
          0.27182474732398987
         ],
         "xaxis": "x",
         "y": [
          -0.05918211117386818
         ],
         "yaxis": "y"
        },
        {
         "hovertemplate": "Motif=1<br>Mode=4<br>x=%{x}<br>y=%{y}<extra></extra>",
         "legendgroup": "1, 4",
         "marker": {
          "color": "#ab63fa",
          "symbol": "diamond"
         },
         "mode": "markers",
         "name": "1, 4",
         "orientation": "v",
         "showlegend": true,
         "type": "scatter",
         "x": [
          0.5981573462486267
         ],
         "xaxis": "x",
         "y": [
          0.13994890451431274
         ],
         "yaxis": "y"
        },
        {
         "hovertemplate": "Motif=1<br>Mode=6<br>x=%{x}<br>y=%{y}<extra></extra>",
         "legendgroup": "1, 6",
         "marker": {
          "color": "#ab63fa",
          "symbol": "square"
         },
         "mode": "markers",
         "name": "1, 6",
         "orientation": "v",
         "showlegend": true,
         "type": "scatter",
         "x": [
          0.3213025629520416
         ],
         "xaxis": "x",
         "y": [
          0.07007907330989838
         ],
         "yaxis": "y"
        },
        {
         "hovertemplate": "Motif=1<br>Mode=8<br>x=%{x}<br>y=%{y}<extra></extra>",
         "legendgroup": "1, 8",
         "marker": {
          "color": "#ab63fa",
          "symbol": "x"
         },
         "mode": "markers",
         "name": "1, 8",
         "orientation": "v",
         "showlegend": true,
         "type": "scatter",
         "x": [
          0.3993968665599823
         ],
         "xaxis": "x",
         "y": [
          0.36258482933044434
         ],
         "yaxis": "y"
        },
        {
         "hovertemplate": "Motif=1<br>Mode=7<br>x=%{x}<br>y=%{y}<extra></extra>",
         "legendgroup": "1, 7",
         "marker": {
          "color": "#ab63fa",
          "symbol": "cross"
         },
         "mode": "markers",
         "name": "1, 7",
         "orientation": "v",
         "showlegend": true,
         "type": "scatter",
         "x": [
          -0.022176070138812065
         ],
         "xaxis": "x",
         "y": [
          0.00925794243812561
         ],
         "yaxis": "y"
        },
        {
         "hovertemplate": "Motif=9<br>Mode=1<br>x=%{x}<br>y=%{y}<extra></extra>",
         "legendgroup": "9, 1",
         "marker": {
          "color": "#FFA15A",
          "symbol": "diamond"
         },
         "mode": "markers",
         "name": "9, 1",
         "orientation": "v",
         "showlegend": true,
         "type": "scatter",
         "x": [
          0.2029036581516266
         ],
         "xaxis": "x",
         "y": [
          -0.18752974271774292
         ],
         "yaxis": "y"
        },
        {
         "hovertemplate": "Motif=9<br>Mode=3<br>x=%{x}<br>y=%{y}<extra></extra>",
         "legendgroup": "9, 3",
         "marker": {
          "color": "#FFA15A",
          "symbol": "square"
         },
         "mode": "markers",
         "name": "9, 3",
         "orientation": "v",
         "showlegend": true,
         "type": "scatter",
         "x": [
          0.15638969838619232
         ],
         "xaxis": "x",
         "y": [
          1.4100464582443237
         ],
         "yaxis": "y"
        },
        {
         "hovertemplate": "Motif=9<br>Mode=5<br>x=%{x}<br>y=%{y}<extra></extra>",
         "legendgroup": "9, 5",
         "marker": {
          "color": "#FFA15A",
          "symbol": "x"
         },
         "mode": "markers",
         "name": "9, 5",
         "orientation": "v",
         "showlegend": true,
         "type": "scatter",
         "x": [
          0.17124395072460175
         ],
         "xaxis": "x",
         "y": [
          -0.46172764897346497
         ],
         "yaxis": "y"
        },
        {
         "hovertemplate": "Motif=9<br>Mode=2<br>x=%{x}<br>y=%{y}<extra></extra>",
         "legendgroup": "9, 2",
         "marker": {
          "color": "#FFA15A",
          "symbol": "cross"
         },
         "mode": "markers",
         "name": "9, 2",
         "orientation": "v",
         "showlegend": true,
         "type": "scatter",
         "x": [
          -0.23612356185913086
         ],
         "xaxis": "x",
         "y": [
          -0.9609926342964172
         ],
         "yaxis": "y"
        },
        {
         "hovertemplate": "Motif=9<br>Mode=9<br>x=%{x}<br>y=%{y}<extra></extra>",
         "legendgroup": "9, 9",
         "marker": {
          "color": "#FFA15A",
          "symbol": "circle"
         },
         "mode": "markers",
         "name": "9, 9",
         "orientation": "v",
         "showlegend": true,
         "type": "scatter",
         "x": [
          -0.37736132740974426
         ],
         "xaxis": "x",
         "y": [
          -0.37824079394340515
         ],
         "yaxis": "y"
        },
        {
         "hovertemplate": "Motif=9<br>Mode=4<br>x=%{x}<br>y=%{y}<extra></extra>",
         "legendgroup": "9, 4",
         "marker": {
          "color": "#FFA15A",
          "symbol": "diamond"
         },
         "mode": "markers",
         "name": "9, 4",
         "orientation": "v",
         "showlegend": true,
         "type": "scatter",
         "x": [
          -0.060141853988170624
         ],
         "xaxis": "x",
         "y": [
          -0.04439835622906685
         ],
         "yaxis": "y"
        },
        {
         "hovertemplate": "Motif=9<br>Mode=6<br>x=%{x}<br>y=%{y}<extra></extra>",
         "legendgroup": "9, 6",
         "marker": {
          "color": "#FFA15A",
          "symbol": "square"
         },
         "mode": "markers",
         "name": "9, 6",
         "orientation": "v",
         "showlegend": true,
         "type": "scatter",
         "x": [
          0.051133375614881516
         ],
         "xaxis": "x",
         "y": [
          -0.12118162214756012
         ],
         "yaxis": "y"
        },
        {
         "hovertemplate": "Motif=9<br>Mode=8<br>x=%{x}<br>y=%{y}<extra></extra>",
         "legendgroup": "9, 8",
         "marker": {
          "color": "#FFA15A",
          "symbol": "x"
         },
         "mode": "markers",
         "name": "9, 8",
         "orientation": "v",
         "showlegend": true,
         "type": "scatter",
         "x": [
          -0.053038712590932846
         ],
         "xaxis": "x",
         "y": [
          -0.06897477805614471
         ],
         "yaxis": "y"
        },
        {
         "hovertemplate": "Motif=9<br>Mode=7<br>x=%{x}<br>y=%{y}<extra></extra>",
         "legendgroup": "9, 7",
         "marker": {
          "color": "#FFA15A",
          "symbol": "cross"
         },
         "mode": "markers",
         "name": "9, 7",
         "orientation": "v",
         "showlegend": true,
         "type": "scatter",
         "x": [
          -0.022218503057956696
         ],
         "xaxis": "x",
         "y": [
          -0.012953447178006172
         ],
         "yaxis": "y"
        },
        {
         "hovertemplate": "Motif=7<br>Mode=1<br>x=%{x}<br>y=%{y}<extra></extra>",
         "legendgroup": "7, 1",
         "marker": {
          "color": "#19d3f3",
          "symbol": "diamond"
         },
         "mode": "markers",
         "name": "7, 1",
         "orientation": "v",
         "showlegend": true,
         "type": "scatter",
         "x": [
          0.5668305158615112
         ],
         "xaxis": "x",
         "y": [
          -0.07002369314432144
         ],
         "yaxis": "y"
        },
        {
         "hovertemplate": "Motif=7<br>Mode=3<br>x=%{x}<br>y=%{y}<extra></extra>",
         "legendgroup": "7, 3",
         "marker": {
          "color": "#19d3f3",
          "symbol": "square"
         },
         "mode": "markers",
         "name": "7, 3",
         "orientation": "v",
         "showlegend": true,
         "type": "scatter",
         "x": [
          0.17999455332756042
         ],
         "xaxis": "x",
         "y": [
          1.320452094078064
         ],
         "yaxis": "y"
        },
        {
         "hovertemplate": "Motif=7<br>Mode=5<br>x=%{x}<br>y=%{y}<extra></extra>",
         "legendgroup": "7, 5",
         "marker": {
          "color": "#19d3f3",
          "symbol": "x"
         },
         "mode": "markers",
         "name": "7, 5",
         "orientation": "v",
         "showlegend": true,
         "type": "scatter",
         "x": [
          0.1009606346487999
         ],
         "xaxis": "x",
         "y": [
          -0.47077155113220215
         ],
         "yaxis": "y"
        },
        {
         "hovertemplate": "Motif=7<br>Mode=2<br>x=%{x}<br>y=%{y}<extra></extra>",
         "legendgroup": "7, 2",
         "marker": {
          "color": "#19d3f3",
          "symbol": "cross"
         },
         "mode": "markers",
         "name": "7, 2",
         "orientation": "v",
         "showlegend": true,
         "type": "scatter",
         "x": [
          -0.26839202642440796
         ],
         "xaxis": "x",
         "y": [
          -0.6213552355766296
         ],
         "yaxis": "y"
        },
        {
         "hovertemplate": "Motif=7<br>Mode=9<br>x=%{x}<br>y=%{y}<extra></extra>",
         "legendgroup": "7, 9",
         "marker": {
          "color": "#19d3f3",
          "symbol": "circle"
         },
         "mode": "markers",
         "name": "7, 9",
         "orientation": "v",
         "showlegend": true,
         "type": "scatter",
         "x": [
          0.09543009847402573
         ],
         "xaxis": "x",
         "y": [
          0.17851375043392181
         ],
         "yaxis": "y"
        },
        {
         "hovertemplate": "Motif=7<br>Mode=4<br>x=%{x}<br>y=%{y}<extra></extra>",
         "legendgroup": "7, 4",
         "marker": {
          "color": "#19d3f3",
          "symbol": "diamond"
         },
         "mode": "markers",
         "name": "7, 4",
         "orientation": "v",
         "showlegend": true,
         "type": "scatter",
         "x": [
          -0.19316279888153076
         ],
         "xaxis": "x",
         "y": [
          -0.005450733937323093
         ],
         "yaxis": "y"
        },
        {
         "hovertemplate": "Motif=7<br>Mode=6<br>x=%{x}<br>y=%{y}<extra></extra>",
         "legendgroup": "7, 6",
         "marker": {
          "color": "#19d3f3",
          "symbol": "square"
         },
         "mode": "markers",
         "name": "7, 6",
         "orientation": "v",
         "showlegend": true,
         "type": "scatter",
         "x": [
          0.12599875032901764
         ],
         "xaxis": "x",
         "y": [
          0.1912774294614792
         ],
         "yaxis": "y"
        },
        {
         "hovertemplate": "Motif=7<br>Mode=8<br>x=%{x}<br>y=%{y}<extra></extra>",
         "legendgroup": "7, 8",
         "marker": {
          "color": "#19d3f3",
          "symbol": "x"
         },
         "mode": "markers",
         "name": "7, 8",
         "orientation": "v",
         "showlegend": true,
         "type": "scatter",
         "x": [
          -0.05044401064515114
         ],
         "xaxis": "x",
         "y": [
          0.04129944369196892
         ],
         "yaxis": "y"
        },
        {
         "hovertemplate": "Motif=7<br>Mode=7<br>x=%{x}<br>y=%{y}<extra></extra>",
         "legendgroup": "7, 7",
         "marker": {
          "color": "#19d3f3",
          "symbol": "cross"
         },
         "mode": "markers",
         "name": "7, 7",
         "orientation": "v",
         "showlegend": true,
         "type": "scatter",
         "x": [
          -0.037564825266599655
         ],
         "xaxis": "x",
         "y": [
          0.022047048434615135
         ],
         "yaxis": "y"
        },
        {
         "hovertemplate": "Motif=6<br>Mode=1<br>x=%{x}<br>y=%{y}<extra></extra>",
         "legendgroup": "6, 1",
         "marker": {
          "color": "#FF6692",
          "symbol": "diamond"
         },
         "mode": "markers",
         "name": "6, 1",
         "orientation": "v",
         "showlegend": true,
         "type": "scatter",
         "x": [
          0.22763250768184662
         ],
         "xaxis": "x",
         "y": [
          -0.7145384550094604
         ],
         "yaxis": "y"
        },
        {
         "hovertemplate": "Motif=6<br>Mode=3<br>x=%{x}<br>y=%{y}<extra></extra>",
         "legendgroup": "6, 3",
         "marker": {
          "color": "#FF6692",
          "symbol": "square"
         },
         "mode": "markers",
         "name": "6, 3",
         "orientation": "v",
         "showlegend": true,
         "type": "scatter",
         "x": [
          -0.4711534380912781
         ],
         "xaxis": "x",
         "y": [
          1.2903633117675781
         ],
         "yaxis": "y"
        },
        {
         "hovertemplate": "Motif=6<br>Mode=5<br>x=%{x}<br>y=%{y}<extra></extra>",
         "legendgroup": "6, 5",
         "marker": {
          "color": "#FF6692",
          "symbol": "x"
         },
         "mode": "markers",
         "name": "6, 5",
         "orientation": "v",
         "showlegend": true,
         "type": "scatter",
         "x": [
          -0.04699421301484108
         ],
         "xaxis": "x",
         "y": [
          -0.210648313164711
         ],
         "yaxis": "y"
        },
        {
         "hovertemplate": "Motif=6<br>Mode=2<br>x=%{x}<br>y=%{y}<extra></extra>",
         "legendgroup": "6, 2",
         "marker": {
          "color": "#FF6692",
          "symbol": "cross"
         },
         "mode": "markers",
         "name": "6, 2",
         "orientation": "v",
         "showlegend": true,
         "type": "scatter",
         "x": [
          -0.45792436599731445
         ],
         "xaxis": "x",
         "y": [
          -0.7331519722938538
         ],
         "yaxis": "y"
        },
        {
         "hovertemplate": "Motif=6<br>Mode=9<br>x=%{x}<br>y=%{y}<extra></extra>",
         "legendgroup": "6, 9",
         "marker": {
          "color": "#FF6692",
          "symbol": "circle"
         },
         "mode": "markers",
         "name": "6, 9",
         "orientation": "v",
         "showlegend": true,
         "type": "scatter",
         "x": [
          -0.1668473184108734
         ],
         "xaxis": "x",
         "y": [
          -0.1241130381822586
         ],
         "yaxis": "y"
        },
        {
         "hovertemplate": "Motif=6<br>Mode=4<br>x=%{x}<br>y=%{y}<extra></extra>",
         "legendgroup": "6, 4",
         "marker": {
          "color": "#FF6692",
          "symbol": "diamond"
         },
         "mode": "markers",
         "name": "6, 4",
         "orientation": "v",
         "showlegend": true,
         "type": "scatter",
         "x": [
          -0.13418082892894745
         ],
         "xaxis": "x",
         "y": [
          -0.3031439781188965
         ],
         "yaxis": "y"
        },
        {
         "hovertemplate": "Motif=6<br>Mode=6<br>x=%{x}<br>y=%{y}<extra></extra>",
         "legendgroup": "6, 6",
         "marker": {
          "color": "#FF6692",
          "symbol": "square"
         },
         "mode": "markers",
         "name": "6, 6",
         "orientation": "v",
         "showlegend": true,
         "type": "scatter",
         "x": [
          -0.1421273797750473
         ],
         "xaxis": "x",
         "y": [
          -0.04273262247443199
         ],
         "yaxis": "y"
        },
        {
         "hovertemplate": "Motif=6<br>Mode=8<br>x=%{x}<br>y=%{y}<extra></extra>",
         "legendgroup": "6, 8",
         "marker": {
          "color": "#FF6692",
          "symbol": "x"
         },
         "mode": "markers",
         "name": "6, 8",
         "orientation": "v",
         "showlegend": true,
         "type": "scatter",
         "x": [
          -0.09715922921895981
         ],
         "xaxis": "x",
         "y": [
          0.004800866823643446
         ],
         "yaxis": "y"
        },
        {
         "hovertemplate": "Motif=6<br>Mode=7<br>x=%{x}<br>y=%{y}<extra></extra>",
         "legendgroup": "6, 7",
         "marker": {
          "color": "#FF6692",
          "symbol": "cross"
         },
         "mode": "markers",
         "name": "6, 7",
         "orientation": "v",
         "showlegend": true,
         "type": "scatter",
         "x": [
          0.2752394378185272
         ],
         "xaxis": "x",
         "y": [
          0.31949782371520996
         ],
         "yaxis": "y"
        },
        {
         "hovertemplate": "Motif=5<br>Mode=1<br>x=%{x}<br>y=%{y}<extra></extra>",
         "legendgroup": "5, 1",
         "marker": {
          "color": "#B6E880",
          "symbol": "diamond"
         },
         "mode": "markers",
         "name": "5, 1",
         "orientation": "v",
         "showlegend": true,
         "type": "scatter",
         "x": [
          0.43842315673828125
         ],
         "xaxis": "x",
         "y": [
          0.005705090705305338
         ],
         "yaxis": "y"
        },
        {
         "hovertemplate": "Motif=5<br>Mode=3<br>x=%{x}<br>y=%{y}<extra></extra>",
         "legendgroup": "5, 3",
         "marker": {
          "color": "#B6E880",
          "symbol": "square"
         },
         "mode": "markers",
         "name": "5, 3",
         "orientation": "v",
         "showlegend": true,
         "type": "scatter",
         "x": [
          0.20118138194084167
         ],
         "xaxis": "x",
         "y": [
          1.3574079275131226
         ],
         "yaxis": "y"
        },
        {
         "hovertemplate": "Motif=5<br>Mode=5<br>x=%{x}<br>y=%{y}<extra></extra>",
         "legendgroup": "5, 5",
         "marker": {
          "color": "#B6E880",
          "symbol": "x"
         },
         "mode": "markers",
         "name": "5, 5",
         "orientation": "v",
         "showlegend": true,
         "type": "scatter",
         "x": [
          0.2982790470123291
         ],
         "xaxis": "x",
         "y": [
          -0.219113290309906
         ],
         "yaxis": "y"
        },
        {
         "hovertemplate": "Motif=5<br>Mode=2<br>x=%{x}<br>y=%{y}<extra></extra>",
         "legendgroup": "5, 2",
         "marker": {
          "color": "#B6E880",
          "symbol": "cross"
         },
         "mode": "markers",
         "name": "5, 2",
         "orientation": "v",
         "showlegend": true,
         "type": "scatter",
         "x": [
          -0.35372552275657654
         ],
         "xaxis": "x",
         "y": [
          -0.5804766416549683
         ],
         "yaxis": "y"
        },
        {
         "hovertemplate": "Motif=5<br>Mode=9<br>x=%{x}<br>y=%{y}<extra></extra>",
         "legendgroup": "5, 9",
         "marker": {
          "color": "#B6E880",
          "symbol": "circle"
         },
         "mode": "markers",
         "name": "5, 9",
         "orientation": "v",
         "showlegend": true,
         "type": "scatter",
         "x": [
          0.014881033450365067
         ],
         "xaxis": "x",
         "y": [
          -0.13954958319664001
         ],
         "yaxis": "y"
        },
        {
         "hovertemplate": "Motif=5<br>Mode=4<br>x=%{x}<br>y=%{y}<extra></extra>",
         "legendgroup": "5, 4",
         "marker": {
          "color": "#B6E880",
          "symbol": "diamond"
         },
         "mode": "markers",
         "name": "5, 4",
         "orientation": "v",
         "showlegend": true,
         "type": "scatter",
         "x": [
          0.0968722403049469
         ],
         "xaxis": "x",
         "y": [
          0.0836779773235321
         ],
         "yaxis": "y"
        },
        {
         "hovertemplate": "Motif=5<br>Mode=6<br>x=%{x}<br>y=%{y}<extra></extra>",
         "legendgroup": "5, 6",
         "marker": {
          "color": "#B6E880",
          "symbol": "square"
         },
         "mode": "markers",
         "name": "5, 6",
         "orientation": "v",
         "showlegend": true,
         "type": "scatter",
         "x": [
          0.2666162848472595
         ],
         "xaxis": "x",
         "y": [
          0.2648763060569763
         ],
         "yaxis": "y"
        },
        {
         "hovertemplate": "Motif=5<br>Mode=8<br>x=%{x}<br>y=%{y}<extra></extra>",
         "legendgroup": "5, 8",
         "marker": {
          "color": "#B6E880",
          "symbol": "x"
         },
         "mode": "markers",
         "name": "5, 8",
         "orientation": "v",
         "showlegend": true,
         "type": "scatter",
         "x": [
          0.08509167283773422
         ],
         "xaxis": "x",
         "y": [
          -0.02318223938345909
         ],
         "yaxis": "y"
        },
        {
         "hovertemplate": "Motif=5<br>Mode=7<br>x=%{x}<br>y=%{y}<extra></extra>",
         "legendgroup": "5, 7",
         "marker": {
          "color": "#B6E880",
          "symbol": "cross"
         },
         "mode": "markers",
         "name": "5, 7",
         "orientation": "v",
         "showlegend": true,
         "type": "scatter",
         "x": [
          0.06429356336593628
         ],
         "xaxis": "x",
         "y": [
          0.08288352936506271
         ],
         "yaxis": "y"
        },
        {
         "hovertemplate": "Motif=4<br>Mode=1<br>x=%{x}<br>y=%{y}<extra></extra>",
         "legendgroup": "4, 1",
         "marker": {
          "color": "#FF97FF",
          "symbol": "diamond"
         },
         "mode": "markers",
         "name": "4, 1",
         "orientation": "v",
         "showlegend": true,
         "type": "scatter",
         "x": [
          0.40364909172058105
         ],
         "xaxis": "x",
         "y": [
          0.020708616822957993
         ],
         "yaxis": "y"
        },
        {
         "hovertemplate": "Motif=4<br>Mode=3<br>x=%{x}<br>y=%{y}<extra></extra>",
         "legendgroup": "4, 3",
         "marker": {
          "color": "#FF97FF",
          "symbol": "square"
         },
         "mode": "markers",
         "name": "4, 3",
         "orientation": "v",
         "showlegend": true,
         "type": "scatter",
         "x": [
          -0.06212690472602844
         ],
         "xaxis": "x",
         "y": [
          1.135271668434143
         ],
         "yaxis": "y"
        },
        {
         "hovertemplate": "Motif=4<br>Mode=5<br>x=%{x}<br>y=%{y}<extra></extra>",
         "legendgroup": "4, 5",
         "marker": {
          "color": "#FF97FF",
          "symbol": "x"
         },
         "mode": "markers",
         "name": "4, 5",
         "orientation": "v",
         "showlegend": true,
         "type": "scatter",
         "x": [
          0.15947885811328888
         ],
         "xaxis": "x",
         "y": [
          -0.12172555923461914
         ],
         "yaxis": "y"
        },
        {
         "hovertemplate": "Motif=4<br>Mode=2<br>x=%{x}<br>y=%{y}<extra></extra>",
         "legendgroup": "4, 2",
         "marker": {
          "color": "#FF97FF",
          "symbol": "cross"
         },
         "mode": "markers",
         "name": "4, 2",
         "orientation": "v",
         "showlegend": true,
         "type": "scatter",
         "x": [
          0.016409259289503098
         ],
         "xaxis": "x",
         "y": [
          -0.2476377636194229
         ],
         "yaxis": "y"
        },
        {
         "hovertemplate": "Motif=4<br>Mode=9<br>x=%{x}<br>y=%{y}<extra></extra>",
         "legendgroup": "4, 9",
         "marker": {
          "color": "#FF97FF",
          "symbol": "circle"
         },
         "mode": "markers",
         "name": "4, 9",
         "orientation": "v",
         "showlegend": true,
         "type": "scatter",
         "x": [
          -0.03644474968314171
         ],
         "xaxis": "x",
         "y": [
          -0.08577190339565277
         ],
         "yaxis": "y"
        },
        {
         "hovertemplate": "Motif=4<br>Mode=4<br>x=%{x}<br>y=%{y}<extra></extra>",
         "legendgroup": "4, 4",
         "marker": {
          "color": "#FF97FF",
          "symbol": "diamond"
         },
         "mode": "markers",
         "name": "4, 4",
         "orientation": "v",
         "showlegend": true,
         "type": "scatter",
         "x": [
          0.02594563737511635
         ],
         "xaxis": "x",
         "y": [
          0.05002470314502716
         ],
         "yaxis": "y"
        },
        {
         "hovertemplate": "Motif=4<br>Mode=6<br>x=%{x}<br>y=%{y}<extra></extra>",
         "legendgroup": "4, 6",
         "marker": {
          "color": "#FF97FF",
          "symbol": "square"
         },
         "mode": "markers",
         "name": "4, 6",
         "orientation": "v",
         "showlegend": true,
         "type": "scatter",
         "x": [
          0.07951459288597107
         ],
         "xaxis": "x",
         "y": [
          0.03412652760744095
         ],
         "yaxis": "y"
        },
        {
         "hovertemplate": "Motif=4<br>Mode=8<br>x=%{x}<br>y=%{y}<extra></extra>",
         "legendgroup": "4, 8",
         "marker": {
          "color": "#FF97FF",
          "symbol": "x"
         },
         "mode": "markers",
         "name": "4, 8",
         "orientation": "v",
         "showlegend": true,
         "type": "scatter",
         "x": [
          -0.0793752521276474
         ],
         "xaxis": "x",
         "y": [
          0.0914580300450325
         ],
         "yaxis": "y"
        },
        {
         "hovertemplate": "Motif=4<br>Mode=7<br>x=%{x}<br>y=%{y}<extra></extra>",
         "legendgroup": "4, 7",
         "marker": {
          "color": "#FF97FF",
          "symbol": "cross"
         },
         "mode": "markers",
         "name": "4, 7",
         "orientation": "v",
         "showlegend": true,
         "type": "scatter",
         "x": [
          0.036530181765556335
         ],
         "xaxis": "x",
         "y": [
          0.013032478280365467
         ],
         "yaxis": "y"
        },
        {
         "hovertemplate": "Motif=8<br>Mode=1<br>x=%{x}<br>y=%{y}<extra></extra>",
         "legendgroup": "8, 1",
         "marker": {
          "color": "#FECB52",
          "symbol": "diamond"
         },
         "mode": "markers",
         "name": "8, 1",
         "orientation": "v",
         "showlegend": true,
         "type": "scatter",
         "x": [
          0.43264853954315186
         ],
         "xaxis": "x",
         "y": [
          0.14697061479091644
         ],
         "yaxis": "y"
        },
        {
         "hovertemplate": "Motif=8<br>Mode=3<br>x=%{x}<br>y=%{y}<extra></extra>",
         "legendgroup": "8, 3",
         "marker": {
          "color": "#FECB52",
          "symbol": "square"
         },
         "mode": "markers",
         "name": "8, 3",
         "orientation": "v",
         "showlegend": true,
         "type": "scatter",
         "x": [
          0.490782231092453
         ],
         "xaxis": "x",
         "y": [
          0.9503506422042847
         ],
         "yaxis": "y"
        },
        {
         "hovertemplate": "Motif=8<br>Mode=5<br>x=%{x}<br>y=%{y}<extra></extra>",
         "legendgroup": "8, 5",
         "marker": {
          "color": "#FECB52",
          "symbol": "x"
         },
         "mode": "markers",
         "name": "8, 5",
         "orientation": "v",
         "showlegend": true,
         "type": "scatter",
         "x": [
          0.2891911268234253
         ],
         "xaxis": "x",
         "y": [
          0.15182818472385406
         ],
         "yaxis": "y"
        },
        {
         "hovertemplate": "Motif=8<br>Mode=2<br>x=%{x}<br>y=%{y}<extra></extra>",
         "legendgroup": "8, 2",
         "marker": {
          "color": "#FECB52",
          "symbol": "cross"
         },
         "mode": "markers",
         "name": "8, 2",
         "orientation": "v",
         "showlegend": true,
         "type": "scatter",
         "x": [
          0.13737571239471436
         ],
         "xaxis": "x",
         "y": [
          0.006420792546123266
         ],
         "yaxis": "y"
        },
        {
         "hovertemplate": "Motif=8<br>Mode=9<br>x=%{x}<br>y=%{y}<extra></extra>",
         "legendgroup": "8, 9",
         "marker": {
          "color": "#FECB52",
          "symbol": "circle"
         },
         "mode": "markers",
         "name": "8, 9",
         "orientation": "v",
         "showlegend": true,
         "type": "scatter",
         "x": [
          -0.007157722022384405
         ],
         "xaxis": "x",
         "y": [
          0.020510796457529068
         ],
         "yaxis": "y"
        },
        {
         "hovertemplate": "Motif=8<br>Mode=4<br>x=%{x}<br>y=%{y}<extra></extra>",
         "legendgroup": "8, 4",
         "marker": {
          "color": "#FECB52",
          "symbol": "diamond"
         },
         "mode": "markers",
         "name": "8, 4",
         "orientation": "v",
         "showlegend": true,
         "type": "scatter",
         "x": [
          0.0666007250547409
         ],
         "xaxis": "x",
         "y": [
          0.0063599650748074055
         ],
         "yaxis": "y"
        },
        {
         "hovertemplate": "Motif=8<br>Mode=6<br>x=%{x}<br>y=%{y}<extra></extra>",
         "legendgroup": "8, 6",
         "marker": {
          "color": "#FECB52",
          "symbol": "square"
         },
         "mode": "markers",
         "name": "8, 6",
         "orientation": "v",
         "showlegend": true,
         "type": "scatter",
         "x": [
          0.009930212050676346
         ],
         "xaxis": "x",
         "y": [
          -0.030855998396873474
         ],
         "yaxis": "y"
        },
        {
         "hovertemplate": "Motif=8<br>Mode=8<br>x=%{x}<br>y=%{y}<extra></extra>",
         "legendgroup": "8, 8",
         "marker": {
          "color": "#FECB52",
          "symbol": "x"
         },
         "mode": "markers",
         "name": "8, 8",
         "orientation": "v",
         "showlegend": true,
         "type": "scatter",
         "x": [
          0.03154727444052696
         ],
         "xaxis": "x",
         "y": [
          -0.09758634865283966
         ],
         "yaxis": "y"
        },
        {
         "hovertemplate": "Motif=8<br>Mode=7<br>x=%{x}<br>y=%{y}<extra></extra>",
         "legendgroup": "8, 7",
         "marker": {
          "color": "#FECB52",
          "symbol": "cross"
         },
         "mode": "markers",
         "name": "8, 7",
         "orientation": "v",
         "showlegend": true,
         "type": "scatter",
         "x": [
          -0.005885997787117958
         ],
         "xaxis": "x",
         "y": [
          0.005810854956507683
         ],
         "yaxis": "y"
        }
       ],
       "layout": {
        "legend": {
         "title": {
          "text": "Motif, Mode"
         },
         "tracegroupgap": 0
        },
        "margin": {
         "t": 60
        },
        "template": {
         "data": {
          "bar": [
           {
            "error_x": {
             "color": "#2a3f5f"
            },
            "error_y": {
             "color": "#2a3f5f"
            },
            "marker": {
             "line": {
              "color": "#E5ECF6",
              "width": 0.5
             },
             "pattern": {
              "fillmode": "overlay",
              "size": 10,
              "solidity": 0.2
             }
            },
            "type": "bar"
           }
          ],
          "barpolar": [
           {
            "marker": {
             "line": {
              "color": "#E5ECF6",
              "width": 0.5
             },
             "pattern": {
              "fillmode": "overlay",
              "size": 10,
              "solidity": 0.2
             }
            },
            "type": "barpolar"
           }
          ],
          "carpet": [
           {
            "aaxis": {
             "endlinecolor": "#2a3f5f",
             "gridcolor": "white",
             "linecolor": "white",
             "minorgridcolor": "white",
             "startlinecolor": "#2a3f5f"
            },
            "baxis": {
             "endlinecolor": "#2a3f5f",
             "gridcolor": "white",
             "linecolor": "white",
             "minorgridcolor": "white",
             "startlinecolor": "#2a3f5f"
            },
            "type": "carpet"
           }
          ],
          "choropleth": [
           {
            "colorbar": {
             "outlinewidth": 0,
             "ticks": ""
            },
            "type": "choropleth"
           }
          ],
          "contour": [
           {
            "colorbar": {
             "outlinewidth": 0,
             "ticks": ""
            },
            "colorscale": [
             [
              0,
              "#0d0887"
             ],
             [
              0.1111111111111111,
              "#46039f"
             ],
             [
              0.2222222222222222,
              "#7201a8"
             ],
             [
              0.3333333333333333,
              "#9c179e"
             ],
             [
              0.4444444444444444,
              "#bd3786"
             ],
             [
              0.5555555555555556,
              "#d8576b"
             ],
             [
              0.6666666666666666,
              "#ed7953"
             ],
             [
              0.7777777777777778,
              "#fb9f3a"
             ],
             [
              0.8888888888888888,
              "#fdca26"
             ],
             [
              1,
              "#f0f921"
             ]
            ],
            "type": "contour"
           }
          ],
          "contourcarpet": [
           {
            "colorbar": {
             "outlinewidth": 0,
             "ticks": ""
            },
            "type": "contourcarpet"
           }
          ],
          "heatmap": [
           {
            "colorbar": {
             "outlinewidth": 0,
             "ticks": ""
            },
            "colorscale": [
             [
              0,
              "#0d0887"
             ],
             [
              0.1111111111111111,
              "#46039f"
             ],
             [
              0.2222222222222222,
              "#7201a8"
             ],
             [
              0.3333333333333333,
              "#9c179e"
             ],
             [
              0.4444444444444444,
              "#bd3786"
             ],
             [
              0.5555555555555556,
              "#d8576b"
             ],
             [
              0.6666666666666666,
              "#ed7953"
             ],
             [
              0.7777777777777778,
              "#fb9f3a"
             ],
             [
              0.8888888888888888,
              "#fdca26"
             ],
             [
              1,
              "#f0f921"
             ]
            ],
            "type": "heatmap"
           }
          ],
          "heatmapgl": [
           {
            "colorbar": {
             "outlinewidth": 0,
             "ticks": ""
            },
            "colorscale": [
             [
              0,
              "#0d0887"
             ],
             [
              0.1111111111111111,
              "#46039f"
             ],
             [
              0.2222222222222222,
              "#7201a8"
             ],
             [
              0.3333333333333333,
              "#9c179e"
             ],
             [
              0.4444444444444444,
              "#bd3786"
             ],
             [
              0.5555555555555556,
              "#d8576b"
             ],
             [
              0.6666666666666666,
              "#ed7953"
             ],
             [
              0.7777777777777778,
              "#fb9f3a"
             ],
             [
              0.8888888888888888,
              "#fdca26"
             ],
             [
              1,
              "#f0f921"
             ]
            ],
            "type": "heatmapgl"
           }
          ],
          "histogram": [
           {
            "marker": {
             "pattern": {
              "fillmode": "overlay",
              "size": 10,
              "solidity": 0.2
             }
            },
            "type": "histogram"
           }
          ],
          "histogram2d": [
           {
            "colorbar": {
             "outlinewidth": 0,
             "ticks": ""
            },
            "colorscale": [
             [
              0,
              "#0d0887"
             ],
             [
              0.1111111111111111,
              "#46039f"
             ],
             [
              0.2222222222222222,
              "#7201a8"
             ],
             [
              0.3333333333333333,
              "#9c179e"
             ],
             [
              0.4444444444444444,
              "#bd3786"
             ],
             [
              0.5555555555555556,
              "#d8576b"
             ],
             [
              0.6666666666666666,
              "#ed7953"
             ],
             [
              0.7777777777777778,
              "#fb9f3a"
             ],
             [
              0.8888888888888888,
              "#fdca26"
             ],
             [
              1,
              "#f0f921"
             ]
            ],
            "type": "histogram2d"
           }
          ],
          "histogram2dcontour": [
           {
            "colorbar": {
             "outlinewidth": 0,
             "ticks": ""
            },
            "colorscale": [
             [
              0,
              "#0d0887"
             ],
             [
              0.1111111111111111,
              "#46039f"
             ],
             [
              0.2222222222222222,
              "#7201a8"
             ],
             [
              0.3333333333333333,
              "#9c179e"
             ],
             [
              0.4444444444444444,
              "#bd3786"
             ],
             [
              0.5555555555555556,
              "#d8576b"
             ],
             [
              0.6666666666666666,
              "#ed7953"
             ],
             [
              0.7777777777777778,
              "#fb9f3a"
             ],
             [
              0.8888888888888888,
              "#fdca26"
             ],
             [
              1,
              "#f0f921"
             ]
            ],
            "type": "histogram2dcontour"
           }
          ],
          "mesh3d": [
           {
            "colorbar": {
             "outlinewidth": 0,
             "ticks": ""
            },
            "type": "mesh3d"
           }
          ],
          "parcoords": [
           {
            "line": {
             "colorbar": {
              "outlinewidth": 0,
              "ticks": ""
             }
            },
            "type": "parcoords"
           }
          ],
          "pie": [
           {
            "automargin": true,
            "type": "pie"
           }
          ],
          "scatter": [
           {
            "fillpattern": {
             "fillmode": "overlay",
             "size": 10,
             "solidity": 0.2
            },
            "type": "scatter"
           }
          ],
          "scatter3d": [
           {
            "line": {
             "colorbar": {
              "outlinewidth": 0,
              "ticks": ""
             }
            },
            "marker": {
             "colorbar": {
              "outlinewidth": 0,
              "ticks": ""
             }
            },
            "type": "scatter3d"
           }
          ],
          "scattercarpet": [
           {
            "marker": {
             "colorbar": {
              "outlinewidth": 0,
              "ticks": ""
             }
            },
            "type": "scattercarpet"
           }
          ],
          "scattergeo": [
           {
            "marker": {
             "colorbar": {
              "outlinewidth": 0,
              "ticks": ""
             }
            },
            "type": "scattergeo"
           }
          ],
          "scattergl": [
           {
            "marker": {
             "colorbar": {
              "outlinewidth": 0,
              "ticks": ""
             }
            },
            "type": "scattergl"
           }
          ],
          "scattermapbox": [
           {
            "marker": {
             "colorbar": {
              "outlinewidth": 0,
              "ticks": ""
             }
            },
            "type": "scattermapbox"
           }
          ],
          "scatterpolar": [
           {
            "marker": {
             "colorbar": {
              "outlinewidth": 0,
              "ticks": ""
             }
            },
            "type": "scatterpolar"
           }
          ],
          "scatterpolargl": [
           {
            "marker": {
             "colorbar": {
              "outlinewidth": 0,
              "ticks": ""
             }
            },
            "type": "scatterpolargl"
           }
          ],
          "scatterternary": [
           {
            "marker": {
             "colorbar": {
              "outlinewidth": 0,
              "ticks": ""
             }
            },
            "type": "scatterternary"
           }
          ],
          "surface": [
           {
            "colorbar": {
             "outlinewidth": 0,
             "ticks": ""
            },
            "colorscale": [
             [
              0,
              "#0d0887"
             ],
             [
              0.1111111111111111,
              "#46039f"
             ],
             [
              0.2222222222222222,
              "#7201a8"
             ],
             [
              0.3333333333333333,
              "#9c179e"
             ],
             [
              0.4444444444444444,
              "#bd3786"
             ],
             [
              0.5555555555555556,
              "#d8576b"
             ],
             [
              0.6666666666666666,
              "#ed7953"
             ],
             [
              0.7777777777777778,
              "#fb9f3a"
             ],
             [
              0.8888888888888888,
              "#fdca26"
             ],
             [
              1,
              "#f0f921"
             ]
            ],
            "type": "surface"
           }
          ],
          "table": [
           {
            "cells": {
             "fill": {
              "color": "#EBF0F8"
             },
             "line": {
              "color": "white"
             }
            },
            "header": {
             "fill": {
              "color": "#C8D4E3"
             },
             "line": {
              "color": "white"
             }
            },
            "type": "table"
           }
          ]
         },
         "layout": {
          "annotationdefaults": {
           "arrowcolor": "#2a3f5f",
           "arrowhead": 0,
           "arrowwidth": 1
          },
          "autotypenumbers": "strict",
          "coloraxis": {
           "colorbar": {
            "outlinewidth": 0,
            "ticks": ""
           }
          },
          "colorscale": {
           "diverging": [
            [
             0,
             "#8e0152"
            ],
            [
             0.1,
             "#c51b7d"
            ],
            [
             0.2,
             "#de77ae"
            ],
            [
             0.3,
             "#f1b6da"
            ],
            [
             0.4,
             "#fde0ef"
            ],
            [
             0.5,
             "#f7f7f7"
            ],
            [
             0.6,
             "#e6f5d0"
            ],
            [
             0.7,
             "#b8e186"
            ],
            [
             0.8,
             "#7fbc41"
            ],
            [
             0.9,
             "#4d9221"
            ],
            [
             1,
             "#276419"
            ]
           ],
           "sequential": [
            [
             0,
             "#0d0887"
            ],
            [
             0.1111111111111111,
             "#46039f"
            ],
            [
             0.2222222222222222,
             "#7201a8"
            ],
            [
             0.3333333333333333,
             "#9c179e"
            ],
            [
             0.4444444444444444,
             "#bd3786"
            ],
            [
             0.5555555555555556,
             "#d8576b"
            ],
            [
             0.6666666666666666,
             "#ed7953"
            ],
            [
             0.7777777777777778,
             "#fb9f3a"
            ],
            [
             0.8888888888888888,
             "#fdca26"
            ],
            [
             1,
             "#f0f921"
            ]
           ],
           "sequentialminus": [
            [
             0,
             "#0d0887"
            ],
            [
             0.1111111111111111,
             "#46039f"
            ],
            [
             0.2222222222222222,
             "#7201a8"
            ],
            [
             0.3333333333333333,
             "#9c179e"
            ],
            [
             0.4444444444444444,
             "#bd3786"
            ],
            [
             0.5555555555555556,
             "#d8576b"
            ],
            [
             0.6666666666666666,
             "#ed7953"
            ],
            [
             0.7777777777777778,
             "#fb9f3a"
            ],
            [
             0.8888888888888888,
             "#fdca26"
            ],
            [
             1,
             "#f0f921"
            ]
           ]
          },
          "colorway": [
           "#636efa",
           "#EF553B",
           "#00cc96",
           "#ab63fa",
           "#FFA15A",
           "#19d3f3",
           "#FF6692",
           "#B6E880",
           "#FF97FF",
           "#FECB52"
          ],
          "font": {
           "color": "#2a3f5f"
          },
          "geo": {
           "bgcolor": "white",
           "lakecolor": "white",
           "landcolor": "#E5ECF6",
           "showlakes": true,
           "showland": true,
           "subunitcolor": "white"
          },
          "hoverlabel": {
           "align": "left"
          },
          "hovermode": "closest",
          "mapbox": {
           "style": "light"
          },
          "paper_bgcolor": "white",
          "plot_bgcolor": "#E5ECF6",
          "polar": {
           "angularaxis": {
            "gridcolor": "white",
            "linecolor": "white",
            "ticks": ""
           },
           "bgcolor": "#E5ECF6",
           "radialaxis": {
            "gridcolor": "white",
            "linecolor": "white",
            "ticks": ""
           }
          },
          "scene": {
           "xaxis": {
            "backgroundcolor": "#E5ECF6",
            "gridcolor": "white",
            "gridwidth": 2,
            "linecolor": "white",
            "showbackground": true,
            "ticks": "",
            "zerolinecolor": "white"
           },
           "yaxis": {
            "backgroundcolor": "#E5ECF6",
            "gridcolor": "white",
            "gridwidth": 2,
            "linecolor": "white",
            "showbackground": true,
            "ticks": "",
            "zerolinecolor": "white"
           },
           "zaxis": {
            "backgroundcolor": "#E5ECF6",
            "gridcolor": "white",
            "gridwidth": 2,
            "linecolor": "white",
            "showbackground": true,
            "ticks": "",
            "zerolinecolor": "white"
           }
          },
          "shapedefaults": {
           "line": {
            "color": "#2a3f5f"
           }
          },
          "ternary": {
           "aaxis": {
            "gridcolor": "white",
            "linecolor": "white",
            "ticks": ""
           },
           "baxis": {
            "gridcolor": "white",
            "linecolor": "white",
            "ticks": ""
           },
           "bgcolor": "#E5ECF6",
           "caxis": {
            "gridcolor": "white",
            "linecolor": "white",
            "ticks": ""
           }
          },
          "title": {
           "x": 0.05
          },
          "xaxis": {
           "automargin": true,
           "gridcolor": "white",
           "linecolor": "white",
           "ticks": "",
           "title": {
            "standoff": 15
           },
           "zerolinecolor": "white",
           "zerolinewidth": 2
          },
          "yaxis": {
           "automargin": true,
           "gridcolor": "white",
           "linecolor": "white",
           "ticks": "",
           "title": {
            "standoff": 15
           },
           "zerolinecolor": "white",
           "zerolinewidth": 2
          }
         }
        },
        "xaxis": {
         "anchor": "y",
         "domain": [
          0,
          1
         ],
         "title": {
          "text": "x"
         }
        },
        "yaxis": {
         "anchor": "x",
         "domain": [
          0,
          1
         ],
         "title": {
          "text": "y"
         }
        }
       }
      }
     },
     "metadata": {},
     "output_type": "display_data"
    }
   ],
   "source": [
    "df_embedding = pd.DataFrame(columns=[\"Mode\", \"Motif\", \"x\", \"y\"])\n",
    "df_embedding[[\"x\", \"y\"]] = mob2vec.embedding_layer.embeddings[:, :2]\n",
    "df_embedding[[\"Mode\", \"Motif\"]] = list(data.vocab.keys())\n",
    "\n",
    "px.scatter(df_embedding, x=\"x\", y=\"y\", color=\"Motif\", symbol=\"Mode\")"
   ]
  },
  {
   "attachments": {},
   "cell_type": "markdown",
   "metadata": {},
   "source": [
    "## <a id='toc1_3_'></a>[RNN vector to Sequence](#toc0_)"
   ]
  },
  {
   "attachments": {},
   "cell_type": "markdown",
   "metadata": {},
   "source": [
    "### <a id='toc1_3_1_'></a>[Description du modèle](#toc0_)\n",
    "\n",
    "Instanciation d'un RNN \"vector to sequence\".\n",
    "\n",
    "Input : données scoio économique d'un individu (csp, nb de voitures, type de commune) à l'instant t=0, et 0 à l'instant t>0.  \n",
    "Output : séquence de déplacements sur une journée. Un déplacement est défini par le triplet (motif, mode, distance).\n"
   ]
  },
  {
   "cell_type": "code",
   "execution_count": 8,
   "metadata": {},
   "outputs": [],
   "source": [
    "feats2traj = Features2Trajectory(data, mob2vec)\n",
    "feats2traj.get_trajectories_for_rnn()\n",
    "feats2traj.get_feature_for_rnn()"
   ]
  },
  {
   "cell_type": "code",
   "execution_count": 9,
   "metadata": {},
   "outputs": [
    {
     "name": "stdout",
     "output_type": "stream",
     "text": [
      "Model: \"sequential_1\"\n",
      "_________________________________________________________________\n",
      " Layer (type)                Output Shape              Param #   \n",
      "=================================================================\n",
      " lstm (LSTM)                 (None, 18, 10)            1080      \n",
      "                                                                 \n",
      " dense_1 (Dense)             (None, 18, 3)             33        \n",
      "                                                                 \n",
      "=================================================================\n",
      "Total params: 1,113\n",
      "Trainable params: 1,113\n",
      "Non-trainable params: 0\n",
      "_________________________________________________________________\n"
     ]
    }
   ],
   "source": [
    "feats2traj.model.summary()"
   ]
  },
  {
   "attachments": {},
   "cell_type": "markdown",
   "metadata": {},
   "source": [
    "### <a id='toc1_3_2_'></a>[Entrainement du modèle](#toc0_)"
   ]
  },
  {
   "cell_type": "code",
   "execution_count": 10,
   "metadata": {},
   "outputs": [
    {
     "name": "stdout",
     "output_type": "stream",
     "text": [
      "Epoch 1/10\n",
      "67/67 [==============================] - 1s 8ms/step - loss: 1.1718 - val_loss: 0.7935\n",
      "Epoch 2/10\n",
      "67/67 [==============================] - 0s 5ms/step - loss: 0.5259 - val_loss: 0.4632\n",
      "Epoch 3/10\n",
      "67/67 [==============================] - 0s 5ms/step - loss: 0.3586 - val_loss: 0.3926\n",
      "Epoch 4/10\n",
      "67/67 [==============================] - 0s 5ms/step - loss: 0.3203 - val_loss: 0.3688\n",
      "Epoch 5/10\n",
      "67/67 [==============================] - 0s 5ms/step - loss: 0.3063 - val_loss: 0.3604\n",
      "Epoch 6/10\n",
      "67/67 [==============================] - 0s 5ms/step - loss: 0.3003 - val_loss: 0.3555\n",
      "Epoch 7/10\n",
      "67/67 [==============================] - 0s 6ms/step - loss: 0.2973 - val_loss: 0.3532\n",
      "Epoch 8/10\n",
      "67/67 [==============================] - 0s 6ms/step - loss: 0.2957 - val_loss: 0.3528\n",
      "Epoch 9/10\n",
      "67/67 [==============================] - 0s 6ms/step - loss: 0.2948 - val_loss: 0.3514\n",
      "Epoch 10/10\n",
      "67/67 [==============================] - 0s 5ms/step - loss: 0.2940 - val_loss: 0.3507\n"
     ]
    }
   ],
   "source": [
    "feats2traj.fit(test_size=0.33, batch_size=100, epochs=10)"
   ]
  },
  {
   "cell_type": "code",
   "execution_count": 11,
   "metadata": {},
   "outputs": [
    {
     "data": {
      "application/vnd.plotly.v1+json": {
       "config": {
        "plotlyServerURL": "https://plot.ly"
       },
       "data": [
        {
         "hovertemplate": "variable=loss<br>index=%{x}<br>value=%{y}<extra></extra>",
         "legendgroup": "loss",
         "line": {
          "color": "#636efa",
          "dash": "solid"
         },
         "marker": {
          "symbol": "circle"
         },
         "mode": "lines",
         "name": "loss",
         "orientation": "v",
         "showlegend": true,
         "type": "scatter",
         "x": [
          0,
          1,
          2,
          3,
          4,
          5,
          6,
          7,
          8,
          9
         ],
         "xaxis": "x",
         "y": [
          1.1718252897262573,
          0.5258811116218567,
          0.3586212992668152,
          0.3202701807022095,
          0.3063337504863739,
          0.3002840280532837,
          0.2973158061504364,
          0.295661985874176,
          0.29475104808807373,
          0.293994665145874
         ],
         "yaxis": "y"
        },
        {
         "hovertemplate": "variable=val_loss<br>index=%{x}<br>value=%{y}<extra></extra>",
         "legendgroup": "val_loss",
         "line": {
          "color": "#EF553B",
          "dash": "solid"
         },
         "marker": {
          "symbol": "circle"
         },
         "mode": "lines",
         "name": "val_loss",
         "orientation": "v",
         "showlegend": true,
         "type": "scatter",
         "x": [
          0,
          1,
          2,
          3,
          4,
          5,
          6,
          7,
          8,
          9
         ],
         "xaxis": "x",
         "y": [
          0.7934561371803284,
          0.4632451832294464,
          0.39256367087364197,
          0.36883053183555603,
          0.3603954613208771,
          0.35552042722702026,
          0.3532012104988098,
          0.35282400250434875,
          0.3514153063297272,
          0.3506682813167572
         ],
         "yaxis": "y"
        }
       ],
       "layout": {
        "legend": {
         "title": {
          "text": "variable"
         },
         "tracegroupgap": 0
        },
        "margin": {
         "t": 60
        },
        "template": {
         "data": {
          "bar": [
           {
            "error_x": {
             "color": "#2a3f5f"
            },
            "error_y": {
             "color": "#2a3f5f"
            },
            "marker": {
             "line": {
              "color": "#E5ECF6",
              "width": 0.5
             },
             "pattern": {
              "fillmode": "overlay",
              "size": 10,
              "solidity": 0.2
             }
            },
            "type": "bar"
           }
          ],
          "barpolar": [
           {
            "marker": {
             "line": {
              "color": "#E5ECF6",
              "width": 0.5
             },
             "pattern": {
              "fillmode": "overlay",
              "size": 10,
              "solidity": 0.2
             }
            },
            "type": "barpolar"
           }
          ],
          "carpet": [
           {
            "aaxis": {
             "endlinecolor": "#2a3f5f",
             "gridcolor": "white",
             "linecolor": "white",
             "minorgridcolor": "white",
             "startlinecolor": "#2a3f5f"
            },
            "baxis": {
             "endlinecolor": "#2a3f5f",
             "gridcolor": "white",
             "linecolor": "white",
             "minorgridcolor": "white",
             "startlinecolor": "#2a3f5f"
            },
            "type": "carpet"
           }
          ],
          "choropleth": [
           {
            "colorbar": {
             "outlinewidth": 0,
             "ticks": ""
            },
            "type": "choropleth"
           }
          ],
          "contour": [
           {
            "colorbar": {
             "outlinewidth": 0,
             "ticks": ""
            },
            "colorscale": [
             [
              0,
              "#0d0887"
             ],
             [
              0.1111111111111111,
              "#46039f"
             ],
             [
              0.2222222222222222,
              "#7201a8"
             ],
             [
              0.3333333333333333,
              "#9c179e"
             ],
             [
              0.4444444444444444,
              "#bd3786"
             ],
             [
              0.5555555555555556,
              "#d8576b"
             ],
             [
              0.6666666666666666,
              "#ed7953"
             ],
             [
              0.7777777777777778,
              "#fb9f3a"
             ],
             [
              0.8888888888888888,
              "#fdca26"
             ],
             [
              1,
              "#f0f921"
             ]
            ],
            "type": "contour"
           }
          ],
          "contourcarpet": [
           {
            "colorbar": {
             "outlinewidth": 0,
             "ticks": ""
            },
            "type": "contourcarpet"
           }
          ],
          "heatmap": [
           {
            "colorbar": {
             "outlinewidth": 0,
             "ticks": ""
            },
            "colorscale": [
             [
              0,
              "#0d0887"
             ],
             [
              0.1111111111111111,
              "#46039f"
             ],
             [
              0.2222222222222222,
              "#7201a8"
             ],
             [
              0.3333333333333333,
              "#9c179e"
             ],
             [
              0.4444444444444444,
              "#bd3786"
             ],
             [
              0.5555555555555556,
              "#d8576b"
             ],
             [
              0.6666666666666666,
              "#ed7953"
             ],
             [
              0.7777777777777778,
              "#fb9f3a"
             ],
             [
              0.8888888888888888,
              "#fdca26"
             ],
             [
              1,
              "#f0f921"
             ]
            ],
            "type": "heatmap"
           }
          ],
          "heatmapgl": [
           {
            "colorbar": {
             "outlinewidth": 0,
             "ticks": ""
            },
            "colorscale": [
             [
              0,
              "#0d0887"
             ],
             [
              0.1111111111111111,
              "#46039f"
             ],
             [
              0.2222222222222222,
              "#7201a8"
             ],
             [
              0.3333333333333333,
              "#9c179e"
             ],
             [
              0.4444444444444444,
              "#bd3786"
             ],
             [
              0.5555555555555556,
              "#d8576b"
             ],
             [
              0.6666666666666666,
              "#ed7953"
             ],
             [
              0.7777777777777778,
              "#fb9f3a"
             ],
             [
              0.8888888888888888,
              "#fdca26"
             ],
             [
              1,
              "#f0f921"
             ]
            ],
            "type": "heatmapgl"
           }
          ],
          "histogram": [
           {
            "marker": {
             "pattern": {
              "fillmode": "overlay",
              "size": 10,
              "solidity": 0.2
             }
            },
            "type": "histogram"
           }
          ],
          "histogram2d": [
           {
            "colorbar": {
             "outlinewidth": 0,
             "ticks": ""
            },
            "colorscale": [
             [
              0,
              "#0d0887"
             ],
             [
              0.1111111111111111,
              "#46039f"
             ],
             [
              0.2222222222222222,
              "#7201a8"
             ],
             [
              0.3333333333333333,
              "#9c179e"
             ],
             [
              0.4444444444444444,
              "#bd3786"
             ],
             [
              0.5555555555555556,
              "#d8576b"
             ],
             [
              0.6666666666666666,
              "#ed7953"
             ],
             [
              0.7777777777777778,
              "#fb9f3a"
             ],
             [
              0.8888888888888888,
              "#fdca26"
             ],
             [
              1,
              "#f0f921"
             ]
            ],
            "type": "histogram2d"
           }
          ],
          "histogram2dcontour": [
           {
            "colorbar": {
             "outlinewidth": 0,
             "ticks": ""
            },
            "colorscale": [
             [
              0,
              "#0d0887"
             ],
             [
              0.1111111111111111,
              "#46039f"
             ],
             [
              0.2222222222222222,
              "#7201a8"
             ],
             [
              0.3333333333333333,
              "#9c179e"
             ],
             [
              0.4444444444444444,
              "#bd3786"
             ],
             [
              0.5555555555555556,
              "#d8576b"
             ],
             [
              0.6666666666666666,
              "#ed7953"
             ],
             [
              0.7777777777777778,
              "#fb9f3a"
             ],
             [
              0.8888888888888888,
              "#fdca26"
             ],
             [
              1,
              "#f0f921"
             ]
            ],
            "type": "histogram2dcontour"
           }
          ],
          "mesh3d": [
           {
            "colorbar": {
             "outlinewidth": 0,
             "ticks": ""
            },
            "type": "mesh3d"
           }
          ],
          "parcoords": [
           {
            "line": {
             "colorbar": {
              "outlinewidth": 0,
              "ticks": ""
             }
            },
            "type": "parcoords"
           }
          ],
          "pie": [
           {
            "automargin": true,
            "type": "pie"
           }
          ],
          "scatter": [
           {
            "fillpattern": {
             "fillmode": "overlay",
             "size": 10,
             "solidity": 0.2
            },
            "type": "scatter"
           }
          ],
          "scatter3d": [
           {
            "line": {
             "colorbar": {
              "outlinewidth": 0,
              "ticks": ""
             }
            },
            "marker": {
             "colorbar": {
              "outlinewidth": 0,
              "ticks": ""
             }
            },
            "type": "scatter3d"
           }
          ],
          "scattercarpet": [
           {
            "marker": {
             "colorbar": {
              "outlinewidth": 0,
              "ticks": ""
             }
            },
            "type": "scattercarpet"
           }
          ],
          "scattergeo": [
           {
            "marker": {
             "colorbar": {
              "outlinewidth": 0,
              "ticks": ""
             }
            },
            "type": "scattergeo"
           }
          ],
          "scattergl": [
           {
            "marker": {
             "colorbar": {
              "outlinewidth": 0,
              "ticks": ""
             }
            },
            "type": "scattergl"
           }
          ],
          "scattermapbox": [
           {
            "marker": {
             "colorbar": {
              "outlinewidth": 0,
              "ticks": ""
             }
            },
            "type": "scattermapbox"
           }
          ],
          "scatterpolar": [
           {
            "marker": {
             "colorbar": {
              "outlinewidth": 0,
              "ticks": ""
             }
            },
            "type": "scatterpolar"
           }
          ],
          "scatterpolargl": [
           {
            "marker": {
             "colorbar": {
              "outlinewidth": 0,
              "ticks": ""
             }
            },
            "type": "scatterpolargl"
           }
          ],
          "scatterternary": [
           {
            "marker": {
             "colorbar": {
              "outlinewidth": 0,
              "ticks": ""
             }
            },
            "type": "scatterternary"
           }
          ],
          "surface": [
           {
            "colorbar": {
             "outlinewidth": 0,
             "ticks": ""
            },
            "colorscale": [
             [
              0,
              "#0d0887"
             ],
             [
              0.1111111111111111,
              "#46039f"
             ],
             [
              0.2222222222222222,
              "#7201a8"
             ],
             [
              0.3333333333333333,
              "#9c179e"
             ],
             [
              0.4444444444444444,
              "#bd3786"
             ],
             [
              0.5555555555555556,
              "#d8576b"
             ],
             [
              0.6666666666666666,
              "#ed7953"
             ],
             [
              0.7777777777777778,
              "#fb9f3a"
             ],
             [
              0.8888888888888888,
              "#fdca26"
             ],
             [
              1,
              "#f0f921"
             ]
            ],
            "type": "surface"
           }
          ],
          "table": [
           {
            "cells": {
             "fill": {
              "color": "#EBF0F8"
             },
             "line": {
              "color": "white"
             }
            },
            "header": {
             "fill": {
              "color": "#C8D4E3"
             },
             "line": {
              "color": "white"
             }
            },
            "type": "table"
           }
          ]
         },
         "layout": {
          "annotationdefaults": {
           "arrowcolor": "#2a3f5f",
           "arrowhead": 0,
           "arrowwidth": 1
          },
          "autotypenumbers": "strict",
          "coloraxis": {
           "colorbar": {
            "outlinewidth": 0,
            "ticks": ""
           }
          },
          "colorscale": {
           "diverging": [
            [
             0,
             "#8e0152"
            ],
            [
             0.1,
             "#c51b7d"
            ],
            [
             0.2,
             "#de77ae"
            ],
            [
             0.3,
             "#f1b6da"
            ],
            [
             0.4,
             "#fde0ef"
            ],
            [
             0.5,
             "#f7f7f7"
            ],
            [
             0.6,
             "#e6f5d0"
            ],
            [
             0.7,
             "#b8e186"
            ],
            [
             0.8,
             "#7fbc41"
            ],
            [
             0.9,
             "#4d9221"
            ],
            [
             1,
             "#276419"
            ]
           ],
           "sequential": [
            [
             0,
             "#0d0887"
            ],
            [
             0.1111111111111111,
             "#46039f"
            ],
            [
             0.2222222222222222,
             "#7201a8"
            ],
            [
             0.3333333333333333,
             "#9c179e"
            ],
            [
             0.4444444444444444,
             "#bd3786"
            ],
            [
             0.5555555555555556,
             "#d8576b"
            ],
            [
             0.6666666666666666,
             "#ed7953"
            ],
            [
             0.7777777777777778,
             "#fb9f3a"
            ],
            [
             0.8888888888888888,
             "#fdca26"
            ],
            [
             1,
             "#f0f921"
            ]
           ],
           "sequentialminus": [
            [
             0,
             "#0d0887"
            ],
            [
             0.1111111111111111,
             "#46039f"
            ],
            [
             0.2222222222222222,
             "#7201a8"
            ],
            [
             0.3333333333333333,
             "#9c179e"
            ],
            [
             0.4444444444444444,
             "#bd3786"
            ],
            [
             0.5555555555555556,
             "#d8576b"
            ],
            [
             0.6666666666666666,
             "#ed7953"
            ],
            [
             0.7777777777777778,
             "#fb9f3a"
            ],
            [
             0.8888888888888888,
             "#fdca26"
            ],
            [
             1,
             "#f0f921"
            ]
           ]
          },
          "colorway": [
           "#636efa",
           "#EF553B",
           "#00cc96",
           "#ab63fa",
           "#FFA15A",
           "#19d3f3",
           "#FF6692",
           "#B6E880",
           "#FF97FF",
           "#FECB52"
          ],
          "font": {
           "color": "#2a3f5f"
          },
          "geo": {
           "bgcolor": "white",
           "lakecolor": "white",
           "landcolor": "#E5ECF6",
           "showlakes": true,
           "showland": true,
           "subunitcolor": "white"
          },
          "hoverlabel": {
           "align": "left"
          },
          "hovermode": "closest",
          "mapbox": {
           "style": "light"
          },
          "paper_bgcolor": "white",
          "plot_bgcolor": "#E5ECF6",
          "polar": {
           "angularaxis": {
            "gridcolor": "white",
            "linecolor": "white",
            "ticks": ""
           },
           "bgcolor": "#E5ECF6",
           "radialaxis": {
            "gridcolor": "white",
            "linecolor": "white",
            "ticks": ""
           }
          },
          "scene": {
           "xaxis": {
            "backgroundcolor": "#E5ECF6",
            "gridcolor": "white",
            "gridwidth": 2,
            "linecolor": "white",
            "showbackground": true,
            "ticks": "",
            "zerolinecolor": "white"
           },
           "yaxis": {
            "backgroundcolor": "#E5ECF6",
            "gridcolor": "white",
            "gridwidth": 2,
            "linecolor": "white",
            "showbackground": true,
            "ticks": "",
            "zerolinecolor": "white"
           },
           "zaxis": {
            "backgroundcolor": "#E5ECF6",
            "gridcolor": "white",
            "gridwidth": 2,
            "linecolor": "white",
            "showbackground": true,
            "ticks": "",
            "zerolinecolor": "white"
           }
          },
          "shapedefaults": {
           "line": {
            "color": "#2a3f5f"
           }
          },
          "ternary": {
           "aaxis": {
            "gridcolor": "white",
            "linecolor": "white",
            "ticks": ""
           },
           "baxis": {
            "gridcolor": "white",
            "linecolor": "white",
            "ticks": ""
           },
           "bgcolor": "#E5ECF6",
           "caxis": {
            "gridcolor": "white",
            "linecolor": "white",
            "ticks": ""
           }
          },
          "title": {
           "x": 0.05
          },
          "xaxis": {
           "automargin": true,
           "gridcolor": "white",
           "linecolor": "white",
           "ticks": "",
           "title": {
            "standoff": 15
           },
           "zerolinecolor": "white",
           "zerolinewidth": 2
          },
          "yaxis": {
           "automargin": true,
           "gridcolor": "white",
           "linecolor": "white",
           "ticks": "",
           "title": {
            "standoff": 15
           },
           "zerolinecolor": "white",
           "zerolinewidth": 2
          }
         }
        },
        "xaxis": {
         "anchor": "y",
         "domain": [
          0,
          1
         ],
         "title": {
          "text": "index"
         }
        },
        "yaxis": {
         "anchor": "x",
         "domain": [
          0,
          1
         ],
         "title": {
          "text": "value"
         }
        }
       }
      }
     },
     "metadata": {},
     "output_type": "display_data"
    }
   ],
   "source": [
    "px.line(pd.DataFrame(feats2traj.history.history))"
   ]
  },
  {
   "attachments": {},
   "cell_type": "markdown",
   "metadata": {},
   "source": [
    "### <a id='toc1_3_3_'></a>[Exemple de prédiction](#toc0_)"
   ]
  },
  {
   "cell_type": "code",
   "execution_count": 31,
   "metadata": {},
   "outputs": [
    {
     "name": "stdout",
     "output_type": "stream",
     "text": [
      "1/1 [==============================] - 0s 22ms/step\n",
      "Vérité :\n"
     ]
    },
    {
     "data": {
      "text/plain": [
       "[('3', '7', array([5.])),\n",
       " ('3', '1', array([5.])),\n",
       " ('<pad>', '<pad>', array([0.])),\n",
       " ('<pad>', '<pad>', array([0.])),\n",
       " ('<pad>', '<pad>', array([0.])),\n",
       " ('<pad>', '<pad>', array([0.])),\n",
       " ('<pad>', '<pad>', array([0.])),\n",
       " ('<pad>', '<pad>', array([0.])),\n",
       " ('<pad>', '<pad>', array([0.])),\n",
       " ('<pad>', '<pad>', array([0.])),\n",
       " ('<pad>', '<pad>', array([0.])),\n",
       " ('<pad>', '<pad>', array([0.])),\n",
       " ('<pad>', '<pad>', array([0.])),\n",
       " ('<pad>', '<pad>', array([0.])),\n",
       " ('<pad>', '<pad>', array([0.])),\n",
       " ('<pad>', '<pad>', array([0.])),\n",
       " ('<pad>', '<pad>', array([0.])),\n",
       " ('<pad>', '<pad>', array([0.]))]"
      ]
     },
     "execution_count": 31,
     "metadata": {},
     "output_type": "execute_result"
    }
   ],
   "source": [
    "trajectory_pred_lib, trajectory_true_lib = feats2traj.compare_pred_true(indiv=0)\n",
    "print(\"Vérité :\")\n",
    "trajectory_true_lib\n"
   ]
  },
  {
   "cell_type": "code",
   "execution_count": 32,
   "metadata": {},
   "outputs": [
    {
     "name": "stdout",
     "output_type": "stream",
     "text": [
      "Prédiction\n"
     ]
    },
    {
     "data": {
      "text/plain": [
       "[('3', '8', 8.85818),\n",
       " ('3', '8', 6.799532),\n",
       " ('<pad>', '<pad>', 4.3625536),\n",
       " ('<pad>', '<pad>', 2.3071275),\n",
       " ('<pad>', '<pad>', 0.95579445),\n",
       " ('<pad>', '<pad>', 0.2500274),\n",
       " ('<pad>', '<pad>', -0.041931383),\n",
       " ('<pad>', '<pad>', -0.12851933),\n",
       " ('<pad>', '<pad>', -0.131903),\n",
       " ('<pad>', '<pad>', -0.10916446),\n",
       " ('<pad>', '<pad>', -0.08325182),\n",
       " ('<pad>', '<pad>', -0.06183087),\n",
       " ('<pad>', '<pad>', -0.046351917),\n",
       " ('<pad>', '<pad>', -0.03605597),\n",
       " ('<pad>', '<pad>', -0.029641822),\n",
       " ('<pad>', '<pad>', -0.025890995),\n",
       " ('<pad>', '<pad>', -0.023858305),\n",
       " ('<pad>', '<pad>', -0.022870993)]"
      ]
     },
     "execution_count": 32,
     "metadata": {},
     "output_type": "execute_result"
    }
   ],
   "source": [
    "print(\"Prédiction :\")\n",
    "trajectory_pred_lib"
   ]
  },
  {
   "cell_type": "code",
   "execution_count": null,
   "metadata": {},
   "outputs": [],
   "source": []
  }
 ],
 "metadata": {
  "kernelspec": {
   "display_name": "flotes-dev",
   "language": "python",
   "name": "python3"
  },
  "language_info": {
   "codemirror_mode": {
    "name": "ipython",
    "version": 3
   },
   "file_extension": ".py",
   "mimetype": "text/x-python",
   "name": "python",
   "nbconvert_exporter": "python",
   "pygments_lexer": "ipython3",
   "version": "3.11.3"
  },
  "orig_nbformat": 4
 },
 "nbformat": 4,
 "nbformat_minor": 2
}
