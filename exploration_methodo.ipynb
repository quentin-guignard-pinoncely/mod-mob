{
 "cells": [
  {
   "attachments": {},
   "cell_type": "markdown",
   "metadata": {},
   "source": [
    "# <a id='toc1_'></a>[Modélisation des mobilités quotidiennes des individus](#toc0_)\n",
    "\n",
    "Le but de ce notebook est d'explorer une méthodologie pour prédire les séquences de déplacements d'un individu à partir de ses caratéristiques socio-économiques.  \n",
    "Ces premiers travaux ont pour objectifs de qualifier la pertinence de l'utilisation des algorithmes du traitement du langage naturel pour cette tâche.  \n",
    "\n",
    "\n",
    "Définitions : \n",
    "- **Déplacement** : un déplacement est défini par un triplet (mode de déplacement, motif de déplacement, distance parcourue)\n",
    "- **Séquence de déplacements** : c'est une suite ordonnée de déplacement effectué par un individu sur une journée.\n",
    "\n",
    "Cette métohodologie se divise en 2 parties :\n",
    "1. Apprentissage d'un modèle d'embedding pour effectuer un plongement sémentique des couples (mode, motif)\n",
    "2. Apprentissage d'un RNN \"vector to sequence\" pour la prédiction d'une séquence de déplacement à partir d'un vecteur de caratistique socio-économique "
   ]
  },
  {
   "attachments": {},
   "cell_type": "markdown",
   "metadata": {},
   "source": [
    "**Sommaire**<a id='toc0_'></a>    \n",
    "- [Modélisation des mobilités quotidiennes des individus](#toc1_)    \n",
    "  - [Création dataset](#toc1_1_)    \n",
    "    - [Récupération des données](#toc1_1_1_)    \n",
    "      - [Features](#toc1_1_1_1_)    \n",
    "      - [Trajectoires](#toc1_1_1_2_)    \n",
    "    - [Préprocessing des données](#toc1_1_2_)    \n",
    "  - [Embedding des couples (mode, motif)](#toc1_2_)    \n",
    "    - [Description du modèle](#toc1_2_1_)    \n",
    "    - [Entrainement du modèle](#toc1_2_2_)    \n",
    "    - [Data viz des 2 premières dimensions de l'emmbedings](#toc1_2_3_)    \n",
    "  - [RNN vector to Sequence](#toc1_3_)    \n",
    "    - [Description du modèle](#toc1_3_1_)    \n",
    "    - [Entrainement du modèle](#toc1_3_2_)    \n",
    "    - [Exemple de prédiction](#toc1_3_3_)    \n",
    "\n",
    "<!-- vscode-jupyter-toc-config\n",
    "\tnumbering=false\n",
    "\tanchor=true\n",
    "\tflat=false\n",
    "\tminLevel=1\n",
    "\tmaxLevel=6\n",
    "\t/vscode-jupyter-toc-config -->\n",
    "<!-- THIS CELL WILL BE REPLACED ON TOC UPDATE. DO NOT WRITE YOUR TEXT IN THIS CELL -->"
   ]
  },
  {
   "cell_type": "code",
   "execution_count": 1,
   "metadata": {},
   "outputs": [],
   "source": [
    "import pandas as pd\n",
    "import plotly.express as px\n",
    "from core import DataGetter, Mob2Vec, Features2Trajectory"
   ]
  },
  {
   "attachments": {},
   "cell_type": "markdown",
   "metadata": {},
   "source": [
    "## <a id='toc1_1_'></a>[Création dataset](#toc0_)"
   ]
  },
  {
   "attachments": {},
   "cell_type": "markdown",
   "metadata": {},
   "source": [
    "### <a id='toc1_1_1_'></a>[Récupération des données](#toc0_)\n",
    "Les données utilisées sont issues de l'Enquète Mobilité des Personnes 2019 (EMP). Elles sont récupérées via le package mobility."
   ]
  },
  {
   "cell_type": "code",
   "execution_count": 2,
   "metadata": {},
   "outputs": [],
   "source": [
    "data_getter = DataGetter(n_individus=10000, group_modalities=True)"
   ]
  },
  {
   "attachments": {},
   "cell_type": "markdown",
   "metadata": {},
   "source": [
    "#### <a id='toc1_1_1_1_'></a>[Features](#toc0_)\n",
    "One hot enconding des features CSP, type de commune et nombre de voitures."
   ]
  },
  {
   "cell_type": "code",
   "execution_count": 3,
   "metadata": {},
   "outputs": [
    {
     "data": {
      "text/html": [
       "<div>\n",
       "<style scoped>\n",
       "    .dataframe tbody tr th:only-of-type {\n",
       "        vertical-align: middle;\n",
       "    }\n",
       "\n",
       "    .dataframe tbody tr th {\n",
       "        vertical-align: top;\n",
       "    }\n",
       "\n",
       "    .dataframe thead th {\n",
       "        text-align: right;\n",
       "    }\n",
       "</style>\n",
       "<table border=\"1\" class=\"dataframe\">\n",
       "  <thead>\n",
       "    <tr style=\"text-align: right;\">\n",
       "      <th></th>\n",
       "      <th>city_category_B</th>\n",
       "      <th>city_category_C</th>\n",
       "      <th>city_category_I</th>\n",
       "      <th>city_category_R</th>\n",
       "      <th>csp_1</th>\n",
       "      <th>csp_2</th>\n",
       "      <th>csp_3</th>\n",
       "      <th>csp_4</th>\n",
       "      <th>csp_5</th>\n",
       "      <th>csp_6</th>\n",
       "      <th>csp_7</th>\n",
       "      <th>csp_8</th>\n",
       "      <th>csp_no_csp</th>\n",
       "      <th>n_cars_0</th>\n",
       "      <th>n_cars_1</th>\n",
       "      <th>n_cars_2+</th>\n",
       "    </tr>\n",
       "    <tr>\n",
       "      <th>individual_id</th>\n",
       "      <th></th>\n",
       "      <th></th>\n",
       "      <th></th>\n",
       "      <th></th>\n",
       "      <th></th>\n",
       "      <th></th>\n",
       "      <th></th>\n",
       "      <th></th>\n",
       "      <th></th>\n",
       "      <th></th>\n",
       "      <th></th>\n",
       "      <th></th>\n",
       "      <th></th>\n",
       "      <th></th>\n",
       "      <th></th>\n",
       "      <th></th>\n",
       "    </tr>\n",
       "  </thead>\n",
       "  <tbody>\n",
       "    <tr>\n",
       "      <th>110000011400001</th>\n",
       "      <td>1</td>\n",
       "      <td>0</td>\n",
       "      <td>0</td>\n",
       "      <td>0</td>\n",
       "      <td>0</td>\n",
       "      <td>0</td>\n",
       "      <td>0</td>\n",
       "      <td>0</td>\n",
       "      <td>0</td>\n",
       "      <td>0</td>\n",
       "      <td>1</td>\n",
       "      <td>0</td>\n",
       "      <td>0</td>\n",
       "      <td>0</td>\n",
       "      <td>1</td>\n",
       "      <td>0</td>\n",
       "    </tr>\n",
       "    <tr>\n",
       "      <th>110000011500001</th>\n",
       "      <td>1</td>\n",
       "      <td>0</td>\n",
       "      <td>0</td>\n",
       "      <td>0</td>\n",
       "      <td>0</td>\n",
       "      <td>0</td>\n",
       "      <td>0</td>\n",
       "      <td>0</td>\n",
       "      <td>0</td>\n",
       "      <td>0</td>\n",
       "      <td>0</td>\n",
       "      <td>1</td>\n",
       "      <td>0</td>\n",
       "      <td>0</td>\n",
       "      <td>0</td>\n",
       "      <td>1</td>\n",
       "    </tr>\n",
       "    <tr>\n",
       "      <th>110000011600002</th>\n",
       "      <td>0</td>\n",
       "      <td>0</td>\n",
       "      <td>0</td>\n",
       "      <td>1</td>\n",
       "      <td>0</td>\n",
       "      <td>0</td>\n",
       "      <td>0</td>\n",
       "      <td>0</td>\n",
       "      <td>0</td>\n",
       "      <td>0</td>\n",
       "      <td>0</td>\n",
       "      <td>1</td>\n",
       "      <td>0</td>\n",
       "      <td>0</td>\n",
       "      <td>1</td>\n",
       "      <td>0</td>\n",
       "    </tr>\n",
       "    <tr>\n",
       "      <th>110000012500002</th>\n",
       "      <td>1</td>\n",
       "      <td>0</td>\n",
       "      <td>0</td>\n",
       "      <td>0</td>\n",
       "      <td>0</td>\n",
       "      <td>0</td>\n",
       "      <td>0</td>\n",
       "      <td>0</td>\n",
       "      <td>0</td>\n",
       "      <td>0</td>\n",
       "      <td>1</td>\n",
       "      <td>0</td>\n",
       "      <td>0</td>\n",
       "      <td>0</td>\n",
       "      <td>0</td>\n",
       "      <td>1</td>\n",
       "    </tr>\n",
       "    <tr>\n",
       "      <th>110000013500002</th>\n",
       "      <td>1</td>\n",
       "      <td>0</td>\n",
       "      <td>0</td>\n",
       "      <td>0</td>\n",
       "      <td>0</td>\n",
       "      <td>0</td>\n",
       "      <td>0</td>\n",
       "      <td>0</td>\n",
       "      <td>0</td>\n",
       "      <td>1</td>\n",
       "      <td>0</td>\n",
       "      <td>0</td>\n",
       "      <td>0</td>\n",
       "      <td>0</td>\n",
       "      <td>1</td>\n",
       "      <td>0</td>\n",
       "    </tr>\n",
       "  </tbody>\n",
       "</table>\n",
       "</div>"
      ],
      "text/plain": [
       "                 city_category_B  city_category_C  city_category_I  \\\n",
       "individual_id                                                        \n",
       "110000011400001                1                0                0   \n",
       "110000011500001                1                0                0   \n",
       "110000011600002                0                0                0   \n",
       "110000012500002                1                0                0   \n",
       "110000013500002                1                0                0   \n",
       "\n",
       "                 city_category_R  csp_1  csp_2  csp_3  csp_4  csp_5  csp_6  \\\n",
       "individual_id                                                                \n",
       "110000011400001                0      0      0      0      0      0      0   \n",
       "110000011500001                0      0      0      0      0      0      0   \n",
       "110000011600002                1      0      0      0      0      0      0   \n",
       "110000012500002                0      0      0      0      0      0      0   \n",
       "110000013500002                0      0      0      0      0      0      1   \n",
       "\n",
       "                 csp_7  csp_8  csp_no_csp  n_cars_0  n_cars_1  n_cars_2+  \n",
       "individual_id                                                             \n",
       "110000011400001      1      0           0         0         1          0  \n",
       "110000011500001      0      1           0         0         0          1  \n",
       "110000011600002      0      1           0         0         1          0  \n",
       "110000012500002      1      0           0         0         0          1  \n",
       "110000013500002      0      0           0         0         1          0  "
      ]
     },
     "execution_count": 3,
     "metadata": {},
     "output_type": "execute_result"
    }
   ],
   "source": [
    "data_getter.get_features()\n",
    "data_getter.features.head()"
   ]
  },
  {
   "attachments": {},
   "cell_type": "markdown",
   "metadata": {},
   "source": [
    "#### <a id='toc1_1_1_2_'></a>[Trajectoires](#toc0_)\n",
    "Pour chaque individu nous récupérons une suite de séquence défini par un triplet (mode, motif, distance)"
   ]
  },
  {
   "cell_type": "code",
   "execution_count": 4,
   "metadata": {},
   "outputs": [
    {
     "data": {
      "text/plain": [
       "individual_id\n",
       "110000011400001    [[1, 3, 0.1], [3, 2, 2.2], [1, 1, 0.1], [3, 1,...\n",
       "110000011500001                         [[3, 1, 28.0], [3, 1, 28.0]]\n",
       "110000011600002           [[3, 3, 30.0], [3, 2, 18.0], [3, 1, 12.0]]\n",
       "110000012500002                         [[4, 3, 14.0], [4, 1, 14.0]]\n",
       "110000013500002         [[3, 9, 5.3214103219], [3, 1, 5.3214103219]]\n",
       "dtype: object"
      ]
     },
     "execution_count": 4,
     "metadata": {},
     "output_type": "execute_result"
    }
   ],
   "source": [
    "data_getter.get_trajectories()\n",
    "data_getter.trajectories.head()"
   ]
  },
  {
   "attachments": {},
   "cell_type": "markdown",
   "metadata": {},
   "source": [
    "### <a id='toc1_1_2_'></a>[Préprocessing des données](#toc0_)"
   ]
  },
  {
   "cell_type": "code",
   "execution_count": 5,
   "metadata": {},
   "outputs": [],
   "source": [
    "data_getter.pad_trajectories()\n",
    "data_getter.distance_standardization()"
   ]
  },
  {
   "attachments": {},
   "cell_type": "markdown",
   "metadata": {},
   "source": [
    "## <a id='toc1_2_'></a>[Embedding des couples (mode, motif)](#toc0_)\n",
    "\n",
    "L'objectif de ce modèle est d'apprendre un plongement sémentique de notre vocabulaire de déplacements.\n",
    "\n",
    "Nous apprenons un modèle équivalent à word2vec : \"un déplacement, définit par le couple (motif, mode), est à une trajectoire, ce qu'un mot est à une phrase\""
   ]
  },
  {
   "attachments": {},
   "cell_type": "markdown",
   "metadata": {},
   "source": [
    "### <a id='toc1_2_1_'></a>[Description du modèle](#toc0_)"
   ]
  },
  {
   "cell_type": "code",
   "execution_count": 6,
   "metadata": {},
   "outputs": [
    {
     "name": "stdout",
     "output_type": "stream",
     "text": [
      "Model: \"sequential\"\n",
      "_________________________________________________________________\n",
      " Layer (type)                Output Shape              Param #   \n",
      "=================================================================\n",
      " embedding (Embedding)       (None, 4, 2)              164       \n",
      "                                                                 \n",
      " global_average_pooling1d (G  (None, 2)                0         \n",
      " lobalAveragePooling1D)                                          \n",
      "                                                                 \n",
      " dense (Dense)               (None, 82)                246       \n",
      "                                                                 \n",
      "=================================================================\n",
      "Total params: 410\n",
      "Trainable params: 410\n",
      "Non-trainable params: 0\n",
      "_________________________________________________________________\n"
     ]
    }
   ],
   "source": [
    "mob2vec = Mob2Vec(data_getter, window_size=2, embedding_dim=2)\n",
    "mob2vec.model.summary()"
   ]
  },
  {
   "attachments": {},
   "cell_type": "markdown",
   "metadata": {},
   "source": [
    "### <a id='toc1_2_2_'></a>[Entrainement du modèle](#toc0_)"
   ]
  },
  {
   "cell_type": "code",
   "execution_count": 7,
   "metadata": {},
   "outputs": [
    {
     "name": "stdout",
     "output_type": "stream",
     "text": [
      "Epoch 1/30\n",
      "97/97 [==============================] - 1s 3ms/step - loss: 4.3217 - val_loss: 4.2178\n",
      "Epoch 2/30\n",
      "97/97 [==============================] - 0s 2ms/step - loss: 4.0765 - val_loss: 3.9089\n",
      "Epoch 3/30\n",
      "97/97 [==============================] - 0s 2ms/step - loss: 3.7227 - val_loss: 3.5214\n",
      "Epoch 4/30\n",
      "97/97 [==============================] - 0s 2ms/step - loss: 3.3309 - val_loss: 3.1359\n",
      "Epoch 5/30\n",
      "97/97 [==============================] - 0s 2ms/step - loss: 2.9727 - val_loss: 2.8106\n",
      "Epoch 6/30\n",
      "97/97 [==============================] - 0s 2ms/step - loss: 2.6910 - val_loss: 2.5722\n",
      "Epoch 7/30\n",
      "97/97 [==============================] - 0s 2ms/step - loss: 2.5020 - val_loss: 2.4261\n",
      "Epoch 8/30\n",
      "97/97 [==============================] - 0s 2ms/step - loss: 2.3945 - val_loss: 2.3474\n",
      "Epoch 9/30\n",
      "97/97 [==============================] - 0s 2ms/step - loss: 2.3375 - val_loss: 2.3046\n",
      "Epoch 10/30\n",
      "97/97 [==============================] - 0s 2ms/step - loss: 2.3046 - val_loss: 2.2780\n",
      "Epoch 11/30\n",
      "97/97 [==============================] - 0s 2ms/step - loss: 2.2828 - val_loss: 2.2595\n",
      "Epoch 12/30\n",
      "97/97 [==============================] - 0s 2ms/step - loss: 2.2666 - val_loss: 2.2451\n",
      "Epoch 13/30\n",
      "97/97 [==============================] - 0s 2ms/step - loss: 2.2536 - val_loss: 2.2332\n",
      "Epoch 14/30\n",
      "97/97 [==============================] - 0s 2ms/step - loss: 2.2428 - val_loss: 2.2231\n",
      "Epoch 15/30\n",
      "97/97 [==============================] - 0s 2ms/step - loss: 2.2334 - val_loss: 2.2144\n",
      "Epoch 16/30\n",
      "97/97 [==============================] - 0s 2ms/step - loss: 2.2250 - val_loss: 2.2066\n",
      "Epoch 17/30\n",
      "97/97 [==============================] - 0s 2ms/step - loss: 2.2175 - val_loss: 2.1994\n",
      "Epoch 18/30\n",
      "97/97 [==============================] - 0s 2ms/step - loss: 2.2106 - val_loss: 2.1927\n",
      "Epoch 19/30\n",
      "97/97 [==============================] - 0s 2ms/step - loss: 2.2040 - val_loss: 2.1864\n",
      "Epoch 20/30\n",
      "97/97 [==============================] - 0s 2ms/step - loss: 2.1978 - val_loss: 2.1803\n",
      "Epoch 21/30\n",
      "97/97 [==============================] - 0s 2ms/step - loss: 2.1918 - val_loss: 2.1745\n",
      "Epoch 22/30\n",
      "97/97 [==============================] - 0s 2ms/step - loss: 2.1859 - val_loss: 2.1686\n",
      "Epoch 23/30\n",
      "97/97 [==============================] - 0s 2ms/step - loss: 2.1800 - val_loss: 2.1624\n",
      "Epoch 24/30\n",
      "97/97 [==============================] - 0s 2ms/step - loss: 2.1739 - val_loss: 2.1565\n",
      "Epoch 25/30\n",
      "97/97 [==============================] - 0s 2ms/step - loss: 2.1676 - val_loss: 2.1500\n",
      "Epoch 26/30\n",
      "97/97 [==============================] - 0s 2ms/step - loss: 2.1608 - val_loss: 2.1428\n",
      "Epoch 27/30\n",
      "97/97 [==============================] - 0s 2ms/step - loss: 2.1534 - val_loss: 2.1353\n",
      "Epoch 28/30\n",
      "97/97 [==============================] - 0s 2ms/step - loss: 2.1450 - val_loss: 2.1261\n",
      "Epoch 29/30\n",
      "97/97 [==============================] - 0s 2ms/step - loss: 2.1355 - val_loss: 2.1157\n",
      "Epoch 30/30\n",
      "97/97 [==============================] - 0s 2ms/step - loss: 2.1244 - val_loss: 2.1037\n"
     ]
    }
   ],
   "source": [
    "mob2vec.fit(test_size=0.1, batch_size=500, epochs=30)"
   ]
  },
  {
   "cell_type": "code",
   "execution_count": 8,
   "metadata": {},
   "outputs": [
    {
     "data": {
      "application/vnd.plotly.v1+json": {
       "config": {
        "plotlyServerURL": "https://plot.ly"
       },
       "data": [
        {
         "hovertemplate": "variable=loss<br>epochs=%{x}<br>loss=%{y}<extra></extra>",
         "legendgroup": "loss",
         "line": {
          "color": "#636efa",
          "dash": "solid"
         },
         "marker": {
          "symbol": "circle"
         },
         "mode": "lines",
         "name": "loss",
         "orientation": "v",
         "showlegend": true,
         "type": "scatter",
         "x": [
          0,
          1,
          2,
          3,
          4,
          5,
          6,
          7,
          8,
          9,
          10,
          11,
          12,
          13,
          14,
          15,
          16,
          17,
          18,
          19,
          20,
          21,
          22,
          23,
          24,
          25,
          26,
          27,
          28,
          29
         ],
         "xaxis": "x",
         "y": [
          4.3217082023620605,
          4.076502323150635,
          3.722672939300537,
          3.3308703899383545,
          2.9726600646972656,
          2.691013813018799,
          2.501987934112549,
          2.3945164680480957,
          2.3374645709991455,
          2.304553985595703,
          2.2827541828155518,
          2.2665600776672363,
          2.253594398498535,
          2.242758274078369,
          2.2333967685699463,
          2.2250447273254395,
          2.217499256134033,
          2.2105517387390137,
          2.204024314880371,
          2.197779655456543,
          2.1918060779571533,
          2.185877799987793,
          2.1799585819244385,
          2.173891305923462,
          2.1675865650177,
          2.1608269214630127,
          2.1534276008605957,
          2.1450488567352295,
          2.1354660987854004,
          2.1244263648986816
         ],
         "yaxis": "y"
        },
        {
         "hovertemplate": "variable=val_loss<br>epochs=%{x}<br>loss=%{y}<extra></extra>",
         "legendgroup": "val_loss",
         "line": {
          "color": "#EF553B",
          "dash": "solid"
         },
         "marker": {
          "symbol": "circle"
         },
         "mode": "lines",
         "name": "val_loss",
         "orientation": "v",
         "showlegend": true,
         "type": "scatter",
         "x": [
          0,
          1,
          2,
          3,
          4,
          5,
          6,
          7,
          8,
          9,
          10,
          11,
          12,
          13,
          14,
          15,
          16,
          17,
          18,
          19,
          20,
          21,
          22,
          23,
          24,
          25,
          26,
          27,
          28,
          29
         ],
         "xaxis": "x",
         "y": [
          4.21780252456665,
          3.908870220184326,
          3.5213661193847656,
          3.135929822921753,
          2.81058669090271,
          2.572227716445923,
          2.426072120666504,
          2.3474271297454834,
          2.3045811653137207,
          2.277970552444458,
          2.2594752311706543,
          2.2450978755950928,
          2.233205556869507,
          2.2231059074401855,
          2.2143843173980713,
          2.2065727710723877,
          2.1993744373321533,
          2.192713737487793,
          2.1864311695098877,
          2.1803300380706787,
          2.1744937896728516,
          2.168586254119873,
          2.1624460220336914,
          2.156484842300415,
          2.15000319480896,
          2.142820119857788,
          2.1352577209472656,
          2.126075506210327,
          2.115699052810669,
          2.1037120819091797
         ],
         "yaxis": "y"
        }
       ],
       "layout": {
        "legend": {
         "title": {
          "text": "variable"
         },
         "tracegroupgap": 0
        },
        "margin": {
         "t": 60
        },
        "template": {
         "data": {
          "bar": [
           {
            "error_x": {
             "color": "#2a3f5f"
            },
            "error_y": {
             "color": "#2a3f5f"
            },
            "marker": {
             "line": {
              "color": "white",
              "width": 0.5
             },
             "pattern": {
              "fillmode": "overlay",
              "size": 10,
              "solidity": 0.2
             }
            },
            "type": "bar"
           }
          ],
          "barpolar": [
           {
            "marker": {
             "line": {
              "color": "white",
              "width": 0.5
             },
             "pattern": {
              "fillmode": "overlay",
              "size": 10,
              "solidity": 0.2
             }
            },
            "type": "barpolar"
           }
          ],
          "carpet": [
           {
            "aaxis": {
             "endlinecolor": "#2a3f5f",
             "gridcolor": "#C8D4E3",
             "linecolor": "#C8D4E3",
             "minorgridcolor": "#C8D4E3",
             "startlinecolor": "#2a3f5f"
            },
            "baxis": {
             "endlinecolor": "#2a3f5f",
             "gridcolor": "#C8D4E3",
             "linecolor": "#C8D4E3",
             "minorgridcolor": "#C8D4E3",
             "startlinecolor": "#2a3f5f"
            },
            "type": "carpet"
           }
          ],
          "choropleth": [
           {
            "colorbar": {
             "outlinewidth": 0,
             "ticks": ""
            },
            "type": "choropleth"
           }
          ],
          "contour": [
           {
            "colorbar": {
             "outlinewidth": 0,
             "ticks": ""
            },
            "colorscale": [
             [
              0,
              "#0d0887"
             ],
             [
              0.1111111111111111,
              "#46039f"
             ],
             [
              0.2222222222222222,
              "#7201a8"
             ],
             [
              0.3333333333333333,
              "#9c179e"
             ],
             [
              0.4444444444444444,
              "#bd3786"
             ],
             [
              0.5555555555555556,
              "#d8576b"
             ],
             [
              0.6666666666666666,
              "#ed7953"
             ],
             [
              0.7777777777777778,
              "#fb9f3a"
             ],
             [
              0.8888888888888888,
              "#fdca26"
             ],
             [
              1,
              "#f0f921"
             ]
            ],
            "type": "contour"
           }
          ],
          "contourcarpet": [
           {
            "colorbar": {
             "outlinewidth": 0,
             "ticks": ""
            },
            "type": "contourcarpet"
           }
          ],
          "heatmap": [
           {
            "colorbar": {
             "outlinewidth": 0,
             "ticks": ""
            },
            "colorscale": [
             [
              0,
              "#0d0887"
             ],
             [
              0.1111111111111111,
              "#46039f"
             ],
             [
              0.2222222222222222,
              "#7201a8"
             ],
             [
              0.3333333333333333,
              "#9c179e"
             ],
             [
              0.4444444444444444,
              "#bd3786"
             ],
             [
              0.5555555555555556,
              "#d8576b"
             ],
             [
              0.6666666666666666,
              "#ed7953"
             ],
             [
              0.7777777777777778,
              "#fb9f3a"
             ],
             [
              0.8888888888888888,
              "#fdca26"
             ],
             [
              1,
              "#f0f921"
             ]
            ],
            "type": "heatmap"
           }
          ],
          "heatmapgl": [
           {
            "colorbar": {
             "outlinewidth": 0,
             "ticks": ""
            },
            "colorscale": [
             [
              0,
              "#0d0887"
             ],
             [
              0.1111111111111111,
              "#46039f"
             ],
             [
              0.2222222222222222,
              "#7201a8"
             ],
             [
              0.3333333333333333,
              "#9c179e"
             ],
             [
              0.4444444444444444,
              "#bd3786"
             ],
             [
              0.5555555555555556,
              "#d8576b"
             ],
             [
              0.6666666666666666,
              "#ed7953"
             ],
             [
              0.7777777777777778,
              "#fb9f3a"
             ],
             [
              0.8888888888888888,
              "#fdca26"
             ],
             [
              1,
              "#f0f921"
             ]
            ],
            "type": "heatmapgl"
           }
          ],
          "histogram": [
           {
            "marker": {
             "pattern": {
              "fillmode": "overlay",
              "size": 10,
              "solidity": 0.2
             }
            },
            "type": "histogram"
           }
          ],
          "histogram2d": [
           {
            "colorbar": {
             "outlinewidth": 0,
             "ticks": ""
            },
            "colorscale": [
             [
              0,
              "#0d0887"
             ],
             [
              0.1111111111111111,
              "#46039f"
             ],
             [
              0.2222222222222222,
              "#7201a8"
             ],
             [
              0.3333333333333333,
              "#9c179e"
             ],
             [
              0.4444444444444444,
              "#bd3786"
             ],
             [
              0.5555555555555556,
              "#d8576b"
             ],
             [
              0.6666666666666666,
              "#ed7953"
             ],
             [
              0.7777777777777778,
              "#fb9f3a"
             ],
             [
              0.8888888888888888,
              "#fdca26"
             ],
             [
              1,
              "#f0f921"
             ]
            ],
            "type": "histogram2d"
           }
          ],
          "histogram2dcontour": [
           {
            "colorbar": {
             "outlinewidth": 0,
             "ticks": ""
            },
            "colorscale": [
             [
              0,
              "#0d0887"
             ],
             [
              0.1111111111111111,
              "#46039f"
             ],
             [
              0.2222222222222222,
              "#7201a8"
             ],
             [
              0.3333333333333333,
              "#9c179e"
             ],
             [
              0.4444444444444444,
              "#bd3786"
             ],
             [
              0.5555555555555556,
              "#d8576b"
             ],
             [
              0.6666666666666666,
              "#ed7953"
             ],
             [
              0.7777777777777778,
              "#fb9f3a"
             ],
             [
              0.8888888888888888,
              "#fdca26"
             ],
             [
              1,
              "#f0f921"
             ]
            ],
            "type": "histogram2dcontour"
           }
          ],
          "mesh3d": [
           {
            "colorbar": {
             "outlinewidth": 0,
             "ticks": ""
            },
            "type": "mesh3d"
           }
          ],
          "parcoords": [
           {
            "line": {
             "colorbar": {
              "outlinewidth": 0,
              "ticks": ""
             }
            },
            "type": "parcoords"
           }
          ],
          "pie": [
           {
            "automargin": true,
            "type": "pie"
           }
          ],
          "scatter": [
           {
            "fillpattern": {
             "fillmode": "overlay",
             "size": 10,
             "solidity": 0.2
            },
            "type": "scatter"
           }
          ],
          "scatter3d": [
           {
            "line": {
             "colorbar": {
              "outlinewidth": 0,
              "ticks": ""
             }
            },
            "marker": {
             "colorbar": {
              "outlinewidth": 0,
              "ticks": ""
             }
            },
            "type": "scatter3d"
           }
          ],
          "scattercarpet": [
           {
            "marker": {
             "colorbar": {
              "outlinewidth": 0,
              "ticks": ""
             }
            },
            "type": "scattercarpet"
           }
          ],
          "scattergeo": [
           {
            "marker": {
             "colorbar": {
              "outlinewidth": 0,
              "ticks": ""
             }
            },
            "type": "scattergeo"
           }
          ],
          "scattergl": [
           {
            "marker": {
             "colorbar": {
              "outlinewidth": 0,
              "ticks": ""
             }
            },
            "type": "scattergl"
           }
          ],
          "scattermapbox": [
           {
            "marker": {
             "colorbar": {
              "outlinewidth": 0,
              "ticks": ""
             }
            },
            "type": "scattermapbox"
           }
          ],
          "scatterpolar": [
           {
            "marker": {
             "colorbar": {
              "outlinewidth": 0,
              "ticks": ""
             }
            },
            "type": "scatterpolar"
           }
          ],
          "scatterpolargl": [
           {
            "marker": {
             "colorbar": {
              "outlinewidth": 0,
              "ticks": ""
             }
            },
            "type": "scatterpolargl"
           }
          ],
          "scatterternary": [
           {
            "marker": {
             "colorbar": {
              "outlinewidth": 0,
              "ticks": ""
             }
            },
            "type": "scatterternary"
           }
          ],
          "surface": [
           {
            "colorbar": {
             "outlinewidth": 0,
             "ticks": ""
            },
            "colorscale": [
             [
              0,
              "#0d0887"
             ],
             [
              0.1111111111111111,
              "#46039f"
             ],
             [
              0.2222222222222222,
              "#7201a8"
             ],
             [
              0.3333333333333333,
              "#9c179e"
             ],
             [
              0.4444444444444444,
              "#bd3786"
             ],
             [
              0.5555555555555556,
              "#d8576b"
             ],
             [
              0.6666666666666666,
              "#ed7953"
             ],
             [
              0.7777777777777778,
              "#fb9f3a"
             ],
             [
              0.8888888888888888,
              "#fdca26"
             ],
             [
              1,
              "#f0f921"
             ]
            ],
            "type": "surface"
           }
          ],
          "table": [
           {
            "cells": {
             "fill": {
              "color": "#EBF0F8"
             },
             "line": {
              "color": "white"
             }
            },
            "header": {
             "fill": {
              "color": "#C8D4E3"
             },
             "line": {
              "color": "white"
             }
            },
            "type": "table"
           }
          ]
         },
         "layout": {
          "annotationdefaults": {
           "arrowcolor": "#2a3f5f",
           "arrowhead": 0,
           "arrowwidth": 1
          },
          "autotypenumbers": "strict",
          "coloraxis": {
           "colorbar": {
            "outlinewidth": 0,
            "ticks": ""
           }
          },
          "colorscale": {
           "diverging": [
            [
             0,
             "#8e0152"
            ],
            [
             0.1,
             "#c51b7d"
            ],
            [
             0.2,
             "#de77ae"
            ],
            [
             0.3,
             "#f1b6da"
            ],
            [
             0.4,
             "#fde0ef"
            ],
            [
             0.5,
             "#f7f7f7"
            ],
            [
             0.6,
             "#e6f5d0"
            ],
            [
             0.7,
             "#b8e186"
            ],
            [
             0.8,
             "#7fbc41"
            ],
            [
             0.9,
             "#4d9221"
            ],
            [
             1,
             "#276419"
            ]
           ],
           "sequential": [
            [
             0,
             "#0d0887"
            ],
            [
             0.1111111111111111,
             "#46039f"
            ],
            [
             0.2222222222222222,
             "#7201a8"
            ],
            [
             0.3333333333333333,
             "#9c179e"
            ],
            [
             0.4444444444444444,
             "#bd3786"
            ],
            [
             0.5555555555555556,
             "#d8576b"
            ],
            [
             0.6666666666666666,
             "#ed7953"
            ],
            [
             0.7777777777777778,
             "#fb9f3a"
            ],
            [
             0.8888888888888888,
             "#fdca26"
            ],
            [
             1,
             "#f0f921"
            ]
           ],
           "sequentialminus": [
            [
             0,
             "#0d0887"
            ],
            [
             0.1111111111111111,
             "#46039f"
            ],
            [
             0.2222222222222222,
             "#7201a8"
            ],
            [
             0.3333333333333333,
             "#9c179e"
            ],
            [
             0.4444444444444444,
             "#bd3786"
            ],
            [
             0.5555555555555556,
             "#d8576b"
            ],
            [
             0.6666666666666666,
             "#ed7953"
            ],
            [
             0.7777777777777778,
             "#fb9f3a"
            ],
            [
             0.8888888888888888,
             "#fdca26"
            ],
            [
             1,
             "#f0f921"
            ]
           ]
          },
          "colorway": [
           "#636efa",
           "#EF553B",
           "#00cc96",
           "#ab63fa",
           "#FFA15A",
           "#19d3f3",
           "#FF6692",
           "#B6E880",
           "#FF97FF",
           "#FECB52"
          ],
          "font": {
           "color": "#2a3f5f"
          },
          "geo": {
           "bgcolor": "white",
           "lakecolor": "white",
           "landcolor": "white",
           "showlakes": true,
           "showland": true,
           "subunitcolor": "#C8D4E3"
          },
          "hoverlabel": {
           "align": "left"
          },
          "hovermode": "closest",
          "mapbox": {
           "style": "light"
          },
          "paper_bgcolor": "white",
          "plot_bgcolor": "white",
          "polar": {
           "angularaxis": {
            "gridcolor": "#EBF0F8",
            "linecolor": "#EBF0F8",
            "ticks": ""
           },
           "bgcolor": "white",
           "radialaxis": {
            "gridcolor": "#EBF0F8",
            "linecolor": "#EBF0F8",
            "ticks": ""
           }
          },
          "scene": {
           "xaxis": {
            "backgroundcolor": "white",
            "gridcolor": "#DFE8F3",
            "gridwidth": 2,
            "linecolor": "#EBF0F8",
            "showbackground": true,
            "ticks": "",
            "zerolinecolor": "#EBF0F8"
           },
           "yaxis": {
            "backgroundcolor": "white",
            "gridcolor": "#DFE8F3",
            "gridwidth": 2,
            "linecolor": "#EBF0F8",
            "showbackground": true,
            "ticks": "",
            "zerolinecolor": "#EBF0F8"
           },
           "zaxis": {
            "backgroundcolor": "white",
            "gridcolor": "#DFE8F3",
            "gridwidth": 2,
            "linecolor": "#EBF0F8",
            "showbackground": true,
            "ticks": "",
            "zerolinecolor": "#EBF0F8"
           }
          },
          "shapedefaults": {
           "line": {
            "color": "#2a3f5f"
           }
          },
          "ternary": {
           "aaxis": {
            "gridcolor": "#DFE8F3",
            "linecolor": "#A2B1C6",
            "ticks": ""
           },
           "baxis": {
            "gridcolor": "#DFE8F3",
            "linecolor": "#A2B1C6",
            "ticks": ""
           },
           "bgcolor": "white",
           "caxis": {
            "gridcolor": "#DFE8F3",
            "linecolor": "#A2B1C6",
            "ticks": ""
           }
          },
          "title": {
           "x": 0.05
          },
          "xaxis": {
           "automargin": true,
           "gridcolor": "#EBF0F8",
           "linecolor": "#EBF0F8",
           "ticks": "",
           "title": {
            "standoff": 15
           },
           "zerolinecolor": "#EBF0F8",
           "zerolinewidth": 2
          },
          "yaxis": {
           "automargin": true,
           "gridcolor": "#EBF0F8",
           "linecolor": "#EBF0F8",
           "ticks": "",
           "title": {
            "standoff": 15
           },
           "zerolinecolor": "#EBF0F8",
           "zerolinewidth": 2
          }
         }
        },
        "xaxis": {
         "anchor": "y",
         "domain": [
          0,
          1
         ],
         "title": {
          "text": "epochs"
         }
        },
        "yaxis": {
         "anchor": "x",
         "domain": [
          0,
          1
         ],
         "title": {
          "text": "loss"
         }
        }
       }
      }
     },
     "metadata": {},
     "output_type": "display_data"
    }
   ],
   "source": [
    "px.line(\n",
    "    pd.DataFrame(mob2vec.history.history),\n",
    "    template=\"plotly_white\",\n",
    "    labels={\"index\": \"epochs\", \"value\": \"loss\"},\n",
    ")"
   ]
  },
  {
   "attachments": {},
   "cell_type": "markdown",
   "metadata": {},
   "source": [
    "### <a id='toc1_2_3_'></a>[Data viz des 2 premières dimensions de l'emmbedings](#toc0_)"
   ]
  },
  {
   "cell_type": "code",
   "execution_count": 9,
   "metadata": {},
   "outputs": [
    {
     "data": {
      "application/vnd.plotly.v1+json": {
       "config": {
        "plotlyServerURL": "https://plot.ly"
       },
       "data": [
        {
         "hovertemplate": "Motif=<pad><br>Mode=<pad><br>dim 1=%{x}<br>dim 2=%{y}<extra></extra>",
         "legendgroup": "<pad>, <pad>",
         "marker": {
          "color": "#636efa",
          "symbol": "circle"
         },
         "mode": "markers",
         "name": "<pad>, <pad>",
         "orientation": "v",
         "showlegend": true,
         "type": "scatter",
         "x": [
          -1.3300851583480835
         ],
         "xaxis": "x",
         "y": [
          -1.4695693254470825
         ],
         "yaxis": "y"
        },
        {
         "hovertemplate": "Motif=3<br>Mode=1<br>dim 1=%{x}<br>dim 2=%{y}<extra></extra>",
         "legendgroup": "3, 1",
         "marker": {
          "color": "#EF553B",
          "symbol": "diamond"
         },
         "mode": "markers",
         "name": "3, 1",
         "orientation": "v",
         "showlegend": true,
         "type": "scatter",
         "x": [
          0.15805117785930634
         ],
         "xaxis": "x",
         "y": [
          -0.030548319220542908
         ],
         "yaxis": "y"
        },
        {
         "hovertemplate": "Motif=3<br>Mode=3<br>dim 1=%{x}<br>dim 2=%{y}<extra></extra>",
         "legendgroup": "3, 3",
         "marker": {
          "color": "#EF553B",
          "symbol": "square"
         },
         "mode": "markers",
         "name": "3, 3",
         "orientation": "v",
         "showlegend": true,
         "type": "scatter",
         "x": [
          -0.9369454979896545
         ],
         "xaxis": "x",
         "y": [
          -0.03579005226492882
         ],
         "yaxis": "y"
        },
        {
         "hovertemplate": "Motif=3<br>Mode=5<br>dim 1=%{x}<br>dim 2=%{y}<extra></extra>",
         "legendgroup": "3, 5",
         "marker": {
          "color": "#EF553B",
          "symbol": "x"
         },
         "mode": "markers",
         "name": "3, 5",
         "orientation": "v",
         "showlegend": true,
         "type": "scatter",
         "x": [
          -0.25372210144996643
         ],
         "xaxis": "x",
         "y": [
          1.139681100845337
         ],
         "yaxis": "y"
        },
        {
         "hovertemplate": "Motif=3<br>Mode=2<br>dim 1=%{x}<br>dim 2=%{y}<extra></extra>",
         "legendgroup": "3, 2",
         "marker": {
          "color": "#EF553B",
          "symbol": "cross"
         },
         "mode": "markers",
         "name": "3, 2",
         "orientation": "v",
         "showlegend": true,
         "type": "scatter",
         "x": [
          0.9444964528083801
         ],
         "xaxis": "x",
         "y": [
          0.861547589302063
         ],
         "yaxis": "y"
        },
        {
         "hovertemplate": "Motif=3<br>Mode=4<br>dim 1=%{x}<br>dim 2=%{y}<extra></extra>",
         "legendgroup": "3, 4",
         "marker": {
          "color": "#EF553B",
          "symbol": "circle"
         },
         "mode": "markers",
         "name": "3, 4",
         "orientation": "v",
         "showlegend": true,
         "type": "scatter",
         "x": [
          0.5817530155181885
         ],
         "xaxis": "x",
         "y": [
          -0.1875811666250229
         ],
         "yaxis": "y"
        },
        {
         "hovertemplate": "Motif=3<br>Mode=9<br>dim 1=%{x}<br>dim 2=%{y}<extra></extra>",
         "legendgroup": "3, 9",
         "marker": {
          "color": "#EF553B",
          "symbol": "diamond"
         },
         "mode": "markers",
         "name": "3, 9",
         "orientation": "v",
         "showlegend": true,
         "type": "scatter",
         "x": [
          0.14952784776687622
         ],
         "xaxis": "x",
         "y": [
          0.03780693560838699
         ],
         "yaxis": "y"
        },
        {
         "hovertemplate": "Motif=3<br>Mode=6<br>dim 1=%{x}<br>dim 2=%{y}<extra></extra>",
         "legendgroup": "3, 6",
         "marker": {
          "color": "#EF553B",
          "symbol": "square"
         },
         "mode": "markers",
         "name": "3, 6",
         "orientation": "v",
         "showlegend": true,
         "type": "scatter",
         "x": [
          -0.019893204793334007
         ],
         "xaxis": "x",
         "y": [
          -0.018441632390022278
         ],
         "yaxis": "y"
        },
        {
         "hovertemplate": "Motif=3<br>Mode=8<br>dim 1=%{x}<br>dim 2=%{y}<extra></extra>",
         "legendgroup": "3, 8",
         "marker": {
          "color": "#EF553B",
          "symbol": "x"
         },
         "mode": "markers",
         "name": "3, 8",
         "orientation": "v",
         "showlegend": true,
         "type": "scatter",
         "x": [
          -0.013426472432911396
         ],
         "xaxis": "x",
         "y": [
          -0.03327653557062149
         ],
         "yaxis": "y"
        },
        {
         "hovertemplate": "Motif=3<br>Mode=7<br>dim 1=%{x}<br>dim 2=%{y}<extra></extra>",
         "legendgroup": "3, 7",
         "marker": {
          "color": "#EF553B",
          "symbol": "cross"
         },
         "mode": "markers",
         "name": "3, 7",
         "orientation": "v",
         "showlegend": true,
         "type": "scatter",
         "x": [
          0.05131028965115547
         ],
         "xaxis": "x",
         "y": [
          0.13775266706943512
         ],
         "yaxis": "y"
        },
        {
         "hovertemplate": "Motif=2<br>Mode=1<br>dim 1=%{x}<br>dim 2=%{y}<extra></extra>",
         "legendgroup": "2, 1",
         "marker": {
          "color": "#00cc96",
          "symbol": "diamond"
         },
         "mode": "markers",
         "name": "2, 1",
         "orientation": "v",
         "showlegend": true,
         "type": "scatter",
         "x": [
          0.4012867212295532
         ],
         "xaxis": "x",
         "y": [
          0.09150592982769012
         ],
         "yaxis": "y"
        },
        {
         "hovertemplate": "Motif=2<br>Mode=3<br>dim 1=%{x}<br>dim 2=%{y}<extra></extra>",
         "legendgroup": "2, 3",
         "marker": {
          "color": "#00cc96",
          "symbol": "square"
         },
         "mode": "markers",
         "name": "2, 3",
         "orientation": "v",
         "showlegend": true,
         "type": "scatter",
         "x": [
          -1.1563137769699097
         ],
         "xaxis": "x",
         "y": [
          0.09136337041854858
         ],
         "yaxis": "y"
        },
        {
         "hovertemplate": "Motif=2<br>Mode=5<br>dim 1=%{x}<br>dim 2=%{y}<extra></extra>",
         "legendgroup": "2, 5",
         "marker": {
          "color": "#00cc96",
          "symbol": "x"
         },
         "mode": "markers",
         "name": "2, 5",
         "orientation": "v",
         "showlegend": true,
         "type": "scatter",
         "x": [
          -0.5183750987052917
         ],
         "xaxis": "x",
         "y": [
          1.668241024017334
         ],
         "yaxis": "y"
        },
        {
         "hovertemplate": "Motif=2<br>Mode=2<br>dim 1=%{x}<br>dim 2=%{y}<extra></extra>",
         "legendgroup": "2, 2",
         "marker": {
          "color": "#00cc96",
          "symbol": "cross"
         },
         "mode": "markers",
         "name": "2, 2",
         "orientation": "v",
         "showlegend": true,
         "type": "scatter",
         "x": [
          0.86705482006073
         ],
         "xaxis": "x",
         "y": [
          0.7749335169792175
         ],
         "yaxis": "y"
        },
        {
         "hovertemplate": "Motif=2<br>Mode=4<br>dim 1=%{x}<br>dim 2=%{y}<extra></extra>",
         "legendgroup": "2, 4",
         "marker": {
          "color": "#00cc96",
          "symbol": "circle"
         },
         "mode": "markers",
         "name": "2, 4",
         "orientation": "v",
         "showlegend": true,
         "type": "scatter",
         "x": [
          0.3797258734703064
         ],
         "xaxis": "x",
         "y": [
          0.3709465563297272
         ],
         "yaxis": "y"
        },
        {
         "hovertemplate": "Motif=2<br>Mode=9<br>dim 1=%{x}<br>dim 2=%{y}<extra></extra>",
         "legendgroup": "2, 9",
         "marker": {
          "color": "#00cc96",
          "symbol": "diamond"
         },
         "mode": "markers",
         "name": "2, 9",
         "orientation": "v",
         "showlegend": true,
         "type": "scatter",
         "x": [
          0.2652142345905304
         ],
         "xaxis": "x",
         "y": [
          0.23236584663391113
         ],
         "yaxis": "y"
        },
        {
         "hovertemplate": "Motif=2<br>Mode=6<br>dim 1=%{x}<br>dim 2=%{y}<extra></extra>",
         "legendgroup": "2, 6",
         "marker": {
          "color": "#00cc96",
          "symbol": "square"
         },
         "mode": "markers",
         "name": "2, 6",
         "orientation": "v",
         "showlegend": true,
         "type": "scatter",
         "x": [
          -0.09081503748893738
         ],
         "xaxis": "x",
         "y": [
          0.04546691104769707
         ],
         "yaxis": "y"
        },
        {
         "hovertemplate": "Motif=2<br>Mode=8<br>dim 1=%{x}<br>dim 2=%{y}<extra></extra>",
         "legendgroup": "2, 8",
         "marker": {
          "color": "#00cc96",
          "symbol": "x"
         },
         "mode": "markers",
         "name": "2, 8",
         "orientation": "v",
         "showlegend": true,
         "type": "scatter",
         "x": [
          -0.022645452991127968
         ],
         "xaxis": "x",
         "y": [
          0.09847743809223175
         ],
         "yaxis": "y"
        },
        {
         "hovertemplate": "Motif=2<br>Mode=7<br>dim 1=%{x}<br>dim 2=%{y}<extra></extra>",
         "legendgroup": "2, 7",
         "marker": {
          "color": "#00cc96",
          "symbol": "cross"
         },
         "mode": "markers",
         "name": "2, 7",
         "orientation": "v",
         "showlegend": true,
         "type": "scatter",
         "x": [
          0.05903315171599388
         ],
         "xaxis": "x",
         "y": [
          0.011335281655192375
         ],
         "yaxis": "y"
        },
        {
         "hovertemplate": "Motif=1<br>Mode=1<br>dim 1=%{x}<br>dim 2=%{y}<extra></extra>",
         "legendgroup": "1, 1",
         "marker": {
          "color": "#ab63fa",
          "symbol": "diamond"
         },
         "mode": "markers",
         "name": "1, 1",
         "orientation": "v",
         "showlegend": true,
         "type": "scatter",
         "x": [
          -0.46741950511932373
         ],
         "xaxis": "x",
         "y": [
          -1.1394307613372803
         ],
         "yaxis": "y"
        },
        {
         "hovertemplate": "Motif=1<br>Mode=3<br>dim 1=%{x}<br>dim 2=%{y}<extra></extra>",
         "legendgroup": "1, 3",
         "marker": {
          "color": "#ab63fa",
          "symbol": "square"
         },
         "mode": "markers",
         "name": "1, 3",
         "orientation": "v",
         "showlegend": true,
         "type": "scatter",
         "x": [
          -1.3066248893737793
         ],
         "xaxis": "x",
         "y": [
          -1.6358370780944824
         ],
         "yaxis": "y"
        },
        {
         "hovertemplate": "Motif=1<br>Mode=5<br>dim 1=%{x}<br>dim 2=%{y}<extra></extra>",
         "legendgroup": "1, 5",
         "marker": {
          "color": "#ab63fa",
          "symbol": "x"
         },
         "mode": "markers",
         "name": "1, 5",
         "orientation": "v",
         "showlegend": true,
         "type": "scatter",
         "x": [
          -0.7820753455162048
         ],
         "xaxis": "x",
         "y": [
          -0.001797584700398147
         ],
         "yaxis": "y"
        },
        {
         "hovertemplate": "Motif=1<br>Mode=2<br>dim 1=%{x}<br>dim 2=%{y}<extra></extra>",
         "legendgroup": "1, 2",
         "marker": {
          "color": "#ab63fa",
          "symbol": "cross"
         },
         "mode": "markers",
         "name": "1, 2",
         "orientation": "v",
         "showlegend": true,
         "type": "scatter",
         "x": [
          0.17575286328792572
         ],
         "xaxis": "x",
         "y": [
          -0.8233821988105774
         ],
         "yaxis": "y"
        },
        {
         "hovertemplate": "Motif=1<br>Mode=4<br>dim 1=%{x}<br>dim 2=%{y}<extra></extra>",
         "legendgroup": "1, 4",
         "marker": {
          "color": "#ab63fa",
          "symbol": "circle"
         },
         "mode": "markers",
         "name": "1, 4",
         "orientation": "v",
         "showlegend": true,
         "type": "scatter",
         "x": [
          0.24262632429599762
         ],
         "xaxis": "x",
         "y": [
          -0.6511561870574951
         ],
         "yaxis": "y"
        },
        {
         "hovertemplate": "Motif=1<br>Mode=9<br>dim 1=%{x}<br>dim 2=%{y}<extra></extra>",
         "legendgroup": "1, 9",
         "marker": {
          "color": "#ab63fa",
          "symbol": "diamond"
         },
         "mode": "markers",
         "name": "1, 9",
         "orientation": "v",
         "showlegend": true,
         "type": "scatter",
         "x": [
          0.10799668729305267
         ],
         "xaxis": "x",
         "y": [
          -0.30546101927757263
         ],
         "yaxis": "y"
        },
        {
         "hovertemplate": "Motif=1<br>Mode=6<br>dim 1=%{x}<br>dim 2=%{y}<extra></extra>",
         "legendgroup": "1, 6",
         "marker": {
          "color": "#ab63fa",
          "symbol": "square"
         },
         "mode": "markers",
         "name": "1, 6",
         "orientation": "v",
         "showlegend": true,
         "type": "scatter",
         "x": [
          -0.09609118849039078
         ],
         "xaxis": "x",
         "y": [
          -0.2240990400314331
         ],
         "yaxis": "y"
        },
        {
         "hovertemplate": "Motif=1<br>Mode=8<br>dim 1=%{x}<br>dim 2=%{y}<extra></extra>",
         "legendgroup": "1, 8",
         "marker": {
          "color": "#ab63fa",
          "symbol": "x"
         },
         "mode": "markers",
         "name": "1, 8",
         "orientation": "v",
         "showlegend": true,
         "type": "scatter",
         "x": [
          -0.25641417503356934
         ],
         "xaxis": "x",
         "y": [
          -0.40325605869293213
         ],
         "yaxis": "y"
        },
        {
         "hovertemplate": "Motif=1<br>Mode=7<br>dim 1=%{x}<br>dim 2=%{y}<extra></extra>",
         "legendgroup": "1, 7",
         "marker": {
          "color": "#ab63fa",
          "symbol": "cross"
         },
         "mode": "markers",
         "name": "1, 7",
         "orientation": "v",
         "showlegend": true,
         "type": "scatter",
         "x": [
          -0.018656065687537193
         ],
         "xaxis": "x",
         "y": [
          -0.04854629561305046
         ],
         "yaxis": "y"
        },
        {
         "hovertemplate": "Motif=9<br>Mode=1<br>dim 1=%{x}<br>dim 2=%{y}<extra></extra>",
         "legendgroup": "9, 1",
         "marker": {
          "color": "#FFA15A",
          "symbol": "diamond"
         },
         "mode": "markers",
         "name": "9, 1",
         "orientation": "v",
         "showlegend": true,
         "type": "scatter",
         "x": [
          0.14285457134246826
         ],
         "xaxis": "x",
         "y": [
          0.385987788438797
         ],
         "yaxis": "y"
        },
        {
         "hovertemplate": "Motif=9<br>Mode=3<br>dim 1=%{x}<br>dim 2=%{y}<extra></extra>",
         "legendgroup": "9, 3",
         "marker": {
          "color": "#FFA15A",
          "symbol": "square"
         },
         "mode": "markers",
         "name": "9, 3",
         "orientation": "v",
         "showlegend": true,
         "type": "scatter",
         "x": [
          -1.2390153408050537
         ],
         "xaxis": "x",
         "y": [
          -0.10276565700769424
         ],
         "yaxis": "y"
        },
        {
         "hovertemplate": "Motif=9<br>Mode=5<br>dim 1=%{x}<br>dim 2=%{y}<extra></extra>",
         "legendgroup": "9, 5",
         "marker": {
          "color": "#FFA15A",
          "symbol": "x"
         },
         "mode": "markers",
         "name": "9, 5",
         "orientation": "v",
         "showlegend": true,
         "type": "scatter",
         "x": [
          -0.9481859803199768
         ],
         "xaxis": "x",
         "y": [
          1.7479088306427002
         ],
         "yaxis": "y"
        },
        {
         "hovertemplate": "Motif=9<br>Mode=2<br>dim 1=%{x}<br>dim 2=%{y}<extra></extra>",
         "legendgroup": "9, 2",
         "marker": {
          "color": "#FFA15A",
          "symbol": "cross"
         },
         "mode": "markers",
         "name": "9, 2",
         "orientation": "v",
         "showlegend": true,
         "type": "scatter",
         "x": [
          0.9205546379089355
         ],
         "xaxis": "x",
         "y": [
          0.6349173188209534
         ],
         "yaxis": "y"
        },
        {
         "hovertemplate": "Motif=9<br>Mode=4<br>dim 1=%{x}<br>dim 2=%{y}<extra></extra>",
         "legendgroup": "9, 4",
         "marker": {
          "color": "#FFA15A",
          "symbol": "circle"
         },
         "mode": "markers",
         "name": "9, 4",
         "orientation": "v",
         "showlegend": true,
         "type": "scatter",
         "x": [
          0.4221254289150238
         ],
         "xaxis": "x",
         "y": [
          0.11384990066289902
         ],
         "yaxis": "y"
        },
        {
         "hovertemplate": "Motif=9<br>Mode=9<br>dim 1=%{x}<br>dim 2=%{y}<extra></extra>",
         "legendgroup": "9, 9",
         "marker": {
          "color": "#FFA15A",
          "symbol": "diamond"
         },
         "mode": "markers",
         "name": "9, 9",
         "orientation": "v",
         "showlegend": true,
         "type": "scatter",
         "x": [
          0.6237218379974365
         ],
         "xaxis": "x",
         "y": [
          0.6746492981910706
         ],
         "yaxis": "y"
        },
        {
         "hovertemplate": "Motif=9<br>Mode=6<br>dim 1=%{x}<br>dim 2=%{y}<extra></extra>",
         "legendgroup": "9, 6",
         "marker": {
          "color": "#FFA15A",
          "symbol": "square"
         },
         "mode": "markers",
         "name": "9, 6",
         "orientation": "v",
         "showlegend": true,
         "type": "scatter",
         "x": [
          0.4653776288032532
         ],
         "xaxis": "x",
         "y": [
          0.48413723707199097
         ],
         "yaxis": "y"
        },
        {
         "hovertemplate": "Motif=9<br>Mode=8<br>dim 1=%{x}<br>dim 2=%{y}<extra></extra>",
         "legendgroup": "9, 8",
         "marker": {
          "color": "#FFA15A",
          "symbol": "x"
         },
         "mode": "markers",
         "name": "9, 8",
         "orientation": "v",
         "showlegend": true,
         "type": "scatter",
         "x": [
          -0.029240423813462257
         ],
         "xaxis": "x",
         "y": [
          0.010385342873632908
         ],
         "yaxis": "y"
        },
        {
         "hovertemplate": "Motif=9<br>Mode=7<br>dim 1=%{x}<br>dim 2=%{y}<extra></extra>",
         "legendgroup": "9, 7",
         "marker": {
          "color": "#FFA15A",
          "symbol": "cross"
         },
         "mode": "markers",
         "name": "9, 7",
         "orientation": "v",
         "showlegend": true,
         "type": "scatter",
         "x": [
          -0.012544723227620125
         ],
         "xaxis": "x",
         "y": [
          0.017640497535467148
         ],
         "yaxis": "y"
        },
        {
         "hovertemplate": "Motif=6<br>Mode=1<br>dim 1=%{x}<br>dim 2=%{y}<extra></extra>",
         "legendgroup": "6, 1",
         "marker": {
          "color": "#19d3f3",
          "symbol": "diamond"
         },
         "mode": "markers",
         "name": "6, 1",
         "orientation": "v",
         "showlegend": true,
         "type": "scatter",
         "x": [
          -0.5732117891311646
         ],
         "xaxis": "x",
         "y": [
          1.471958041191101
         ],
         "yaxis": "y"
        },
        {
         "hovertemplate": "Motif=6<br>Mode=3<br>dim 1=%{x}<br>dim 2=%{y}<extra></extra>",
         "legendgroup": "6, 3",
         "marker": {
          "color": "#19d3f3",
          "symbol": "square"
         },
         "mode": "markers",
         "name": "6, 3",
         "orientation": "v",
         "showlegend": true,
         "type": "scatter",
         "x": [
          -1.3648154735565186
         ],
         "xaxis": "x",
         "y": [
          0.7491756677627563
         ],
         "yaxis": "y"
        },
        {
         "hovertemplate": "Motif=6<br>Mode=5<br>dim 1=%{x}<br>dim 2=%{y}<extra></extra>",
         "legendgroup": "6, 5",
         "marker": {
          "color": "#19d3f3",
          "symbol": "x"
         },
         "mode": "markers",
         "name": "6, 5",
         "orientation": "v",
         "showlegend": true,
         "type": "scatter",
         "x": [
          -0.18775606155395508
         ],
         "xaxis": "x",
         "y": [
          0.705860435962677
         ],
         "yaxis": "y"
        },
        {
         "hovertemplate": "Motif=6<br>Mode=2<br>dim 1=%{x}<br>dim 2=%{y}<extra></extra>",
         "legendgroup": "6, 2",
         "marker": {
          "color": "#19d3f3",
          "symbol": "cross"
         },
         "mode": "markers",
         "name": "6, 2",
         "orientation": "v",
         "showlegend": true,
         "type": "scatter",
         "x": [
          0.3837498128414154
         ],
         "xaxis": "x",
         "y": [
          0.7031132578849792
         ],
         "yaxis": "y"
        },
        {
         "hovertemplate": "Motif=6<br>Mode=4<br>dim 1=%{x}<br>dim 2=%{y}<extra></extra>",
         "legendgroup": "6, 4",
         "marker": {
          "color": "#19d3f3",
          "symbol": "circle"
         },
         "mode": "markers",
         "name": "6, 4",
         "orientation": "v",
         "showlegend": true,
         "type": "scatter",
         "x": [
          0.46210864186286926
         ],
         "xaxis": "x",
         "y": [
          0.4033493995666504
         ],
         "yaxis": "y"
        },
        {
         "hovertemplate": "Motif=6<br>Mode=9<br>dim 1=%{x}<br>dim 2=%{y}<extra></extra>",
         "legendgroup": "6, 9",
         "marker": {
          "color": "#19d3f3",
          "symbol": "diamond"
         },
         "mode": "markers",
         "name": "6, 9",
         "orientation": "v",
         "showlegend": true,
         "type": "scatter",
         "x": [
          0.35618892312049866
         ],
         "xaxis": "x",
         "y": [
          0.136439710855484
         ],
         "yaxis": "y"
        },
        {
         "hovertemplate": "Motif=6<br>Mode=6<br>dim 1=%{x}<br>dim 2=%{y}<extra></extra>",
         "legendgroup": "6, 6",
         "marker": {
          "color": "#19d3f3",
          "symbol": "square"
         },
         "mode": "markers",
         "name": "6, 6",
         "orientation": "v",
         "showlegend": true,
         "type": "scatter",
         "x": [
          0.05437726527452469
         ],
         "xaxis": "x",
         "y": [
          0.14859184622764587
         ],
         "yaxis": "y"
        },
        {
         "hovertemplate": "Motif=6<br>Mode=8<br>dim 1=%{x}<br>dim 2=%{y}<extra></extra>",
         "legendgroup": "6, 8",
         "marker": {
          "color": "#19d3f3",
          "symbol": "x"
         },
         "mode": "markers",
         "name": "6, 8",
         "orientation": "v",
         "showlegend": true,
         "type": "scatter",
         "x": [
          -0.051591988652944565
         ],
         "xaxis": "x",
         "y": [
          -0.023372916504740715
         ],
         "yaxis": "y"
        },
        {
         "hovertemplate": "Motif=6<br>Mode=7<br>dim 1=%{x}<br>dim 2=%{y}<extra></extra>",
         "legendgroup": "6, 7",
         "marker": {
          "color": "#19d3f3",
          "symbol": "cross"
         },
         "mode": "markers",
         "name": "6, 7",
         "orientation": "v",
         "showlegend": true,
         "type": "scatter",
         "x": [
          -0.235995352268219
         ],
         "xaxis": "x",
         "y": [
          -0.34221339225769043
         ],
         "yaxis": "y"
        },
        {
         "hovertemplate": "Motif=5<br>Mode=1<br>dim 1=%{x}<br>dim 2=%{y}<extra></extra>",
         "legendgroup": "5, 1",
         "marker": {
          "color": "#FF6692",
          "symbol": "diamond"
         },
         "mode": "markers",
         "name": "5, 1",
         "orientation": "v",
         "showlegend": true,
         "type": "scatter",
         "x": [
          0.16111165285110474
         ],
         "xaxis": "x",
         "y": [
          0.06882205605506897
         ],
         "yaxis": "y"
        },
        {
         "hovertemplate": "Motif=5<br>Mode=3<br>dim 1=%{x}<br>dim 2=%{y}<extra></extra>",
         "legendgroup": "5, 3",
         "marker": {
          "color": "#FF6692",
          "symbol": "square"
         },
         "mode": "markers",
         "name": "5, 3",
         "orientation": "v",
         "showlegend": true,
         "type": "scatter",
         "x": [
          -1.2180298566818237
         ],
         "xaxis": "x",
         "y": [
          -0.13047346472740173
         ],
         "yaxis": "y"
        },
        {
         "hovertemplate": "Motif=5<br>Mode=5<br>dim 1=%{x}<br>dim 2=%{y}<extra></extra>",
         "legendgroup": "5, 5",
         "marker": {
          "color": "#FF6692",
          "symbol": "x"
         },
         "mode": "markers",
         "name": "5, 5",
         "orientation": "v",
         "showlegend": true,
         "type": "scatter",
         "x": [
          -0.6008141040802002
         ],
         "xaxis": "x",
         "y": [
          1.0127769708633423
         ],
         "yaxis": "y"
        },
        {
         "hovertemplate": "Motif=5<br>Mode=2<br>dim 1=%{x}<br>dim 2=%{y}<extra></extra>",
         "legendgroup": "5, 2",
         "marker": {
          "color": "#FF6692",
          "symbol": "cross"
         },
         "mode": "markers",
         "name": "5, 2",
         "orientation": "v",
         "showlegend": true,
         "type": "scatter",
         "x": [
          0.528135359287262
         ],
         "xaxis": "x",
         "y": [
          0.7830414772033691
         ],
         "yaxis": "y"
        },
        {
         "hovertemplate": "Motif=5<br>Mode=4<br>dim 1=%{x}<br>dim 2=%{y}<extra></extra>",
         "legendgroup": "5, 4",
         "marker": {
          "color": "#FF6692",
          "symbol": "circle"
         },
         "mode": "markers",
         "name": "5, 4",
         "orientation": "v",
         "showlegend": true,
         "type": "scatter",
         "x": [
          0.06893441826105118
         ],
         "xaxis": "x",
         "y": [
          0.1469888687133789
         ],
         "yaxis": "y"
        },
        {
         "hovertemplate": "Motif=5<br>Mode=9<br>dim 1=%{x}<br>dim 2=%{y}<extra></extra>",
         "legendgroup": "5, 9",
         "marker": {
          "color": "#FF6692",
          "symbol": "diamond"
         },
         "mode": "markers",
         "name": "5, 9",
         "orientation": "v",
         "showlegend": true,
         "type": "scatter",
         "x": [
          0.26754361391067505
         ],
         "xaxis": "x",
         "y": [
          -0.053364306688308716
         ],
         "yaxis": "y"
        },
        {
         "hovertemplate": "Motif=5<br>Mode=6<br>dim 1=%{x}<br>dim 2=%{y}<extra></extra>",
         "legendgroup": "5, 6",
         "marker": {
          "color": "#FF6692",
          "symbol": "square"
         },
         "mode": "markers",
         "name": "5, 6",
         "orientation": "v",
         "showlegend": true,
         "type": "scatter",
         "x": [
          -0.021780839189887047
         ],
         "xaxis": "x",
         "y": [
          -0.005916099529713392
         ],
         "yaxis": "y"
        },
        {
         "hovertemplate": "Motif=5<br>Mode=8<br>dim 1=%{x}<br>dim 2=%{y}<extra></extra>",
         "legendgroup": "5, 8",
         "marker": {
          "color": "#FF6692",
          "symbol": "x"
         },
         "mode": "markers",
         "name": "5, 8",
         "orientation": "v",
         "showlegend": true,
         "type": "scatter",
         "x": [
          -0.058821242302656174
         ],
         "xaxis": "x",
         "y": [
          0.017653247341513634
         ],
         "yaxis": "y"
        },
        {
         "hovertemplate": "Motif=5<br>Mode=7<br>dim 1=%{x}<br>dim 2=%{y}<extra></extra>",
         "legendgroup": "5, 7",
         "marker": {
          "color": "#FF6692",
          "symbol": "cross"
         },
         "mode": "markers",
         "name": "5, 7",
         "orientation": "v",
         "showlegend": true,
         "type": "scatter",
         "x": [
          -0.034364003688097
         ],
         "xaxis": "x",
         "y": [
          -0.014922629110515118
         ],
         "yaxis": "y"
        },
        {
         "hovertemplate": "Motif=7<br>Mode=1<br>dim 1=%{x}<br>dim 2=%{y}<extra></extra>",
         "legendgroup": "7, 1",
         "marker": {
          "color": "#B6E880",
          "symbol": "diamond"
         },
         "mode": "markers",
         "name": "7, 1",
         "orientation": "v",
         "showlegend": true,
         "type": "scatter",
         "x": [
          0.09666486829519272
         ],
         "xaxis": "x",
         "y": [
          0.11647233366966248
         ],
         "yaxis": "y"
        },
        {
         "hovertemplate": "Motif=7<br>Mode=3<br>dim 1=%{x}<br>dim 2=%{y}<extra></extra>",
         "legendgroup": "7, 3",
         "marker": {
          "color": "#B6E880",
          "symbol": "square"
         },
         "mode": "markers",
         "name": "7, 3",
         "orientation": "v",
         "showlegend": true,
         "type": "scatter",
         "x": [
          -1.3138482570648193
         ],
         "xaxis": "x",
         "y": [
          0.08696279674768448
         ],
         "yaxis": "y"
        },
        {
         "hovertemplate": "Motif=7<br>Mode=5<br>dim 1=%{x}<br>dim 2=%{y}<extra></extra>",
         "legendgroup": "7, 5",
         "marker": {
          "color": "#B6E880",
          "symbol": "x"
         },
         "mode": "markers",
         "name": "7, 5",
         "orientation": "v",
         "showlegend": true,
         "type": "scatter",
         "x": [
          -0.6611775755882263
         ],
         "xaxis": "x",
         "y": [
          1.325250267982483
         ],
         "yaxis": "y"
        },
        {
         "hovertemplate": "Motif=7<br>Mode=2<br>dim 1=%{x}<br>dim 2=%{y}<extra></extra>",
         "legendgroup": "7, 2",
         "marker": {
          "color": "#B6E880",
          "symbol": "cross"
         },
         "mode": "markers",
         "name": "7, 2",
         "orientation": "v",
         "showlegend": true,
         "type": "scatter",
         "x": [
          0.5396019220352173
         ],
         "xaxis": "x",
         "y": [
          0.9240584373474121
         ],
         "yaxis": "y"
        },
        {
         "hovertemplate": "Motif=7<br>Mode=4<br>dim 1=%{x}<br>dim 2=%{y}<extra></extra>",
         "legendgroup": "7, 4",
         "marker": {
          "color": "#B6E880",
          "symbol": "circle"
         },
         "mode": "markers",
         "name": "7, 4",
         "orientation": "v",
         "showlegend": true,
         "type": "scatter",
         "x": [
          0.382596492767334
         ],
         "xaxis": "x",
         "y": [
          0.2645905613899231
         ],
         "yaxis": "y"
        },
        {
         "hovertemplate": "Motif=7<br>Mode=9<br>dim 1=%{x}<br>dim 2=%{y}<extra></extra>",
         "legendgroup": "7, 9",
         "marker": {
          "color": "#B6E880",
          "symbol": "diamond"
         },
         "mode": "markers",
         "name": "7, 9",
         "orientation": "v",
         "showlegend": true,
         "type": "scatter",
         "x": [
          0.41778233647346497
         ],
         "xaxis": "x",
         "y": [
          0.48246514797210693
         ],
         "yaxis": "y"
        },
        {
         "hovertemplate": "Motif=7<br>Mode=6<br>dim 1=%{x}<br>dim 2=%{y}<extra></extra>",
         "legendgroup": "7, 6",
         "marker": {
          "color": "#B6E880",
          "symbol": "square"
         },
         "mode": "markers",
         "name": "7, 6",
         "orientation": "v",
         "showlegend": true,
         "type": "scatter",
         "x": [
          -0.033337805420160294
         ],
         "xaxis": "x",
         "y": [
          -0.06707078963518143
         ],
         "yaxis": "y"
        },
        {
         "hovertemplate": "Motif=7<br>Mode=8<br>dim 1=%{x}<br>dim 2=%{y}<extra></extra>",
         "legendgroup": "7, 8",
         "marker": {
          "color": "#B6E880",
          "symbol": "x"
         },
         "mode": "markers",
         "name": "7, 8",
         "orientation": "v",
         "showlegend": true,
         "type": "scatter",
         "x": [
          0.04606317728757858
         ],
         "xaxis": "x",
         "y": [
          -0.023481395095586777
         ],
         "yaxis": "y"
        },
        {
         "hovertemplate": "Motif=7<br>Mode=7<br>dim 1=%{x}<br>dim 2=%{y}<extra></extra>",
         "legendgroup": "7, 7",
         "marker": {
          "color": "#B6E880",
          "symbol": "cross"
         },
         "mode": "markers",
         "name": "7, 7",
         "orientation": "v",
         "showlegend": true,
         "type": "scatter",
         "x": [
          0.03528808057308197
         ],
         "xaxis": "x",
         "y": [
          0.01756681315600872
         ],
         "yaxis": "y"
        },
        {
         "hovertemplate": "Motif=4<br>Mode=1<br>dim 1=%{x}<br>dim 2=%{y}<extra></extra>",
         "legendgroup": "4, 1",
         "marker": {
          "color": "#FF97FF",
          "symbol": "diamond"
         },
         "mode": "markers",
         "name": "4, 1",
         "orientation": "v",
         "showlegend": true,
         "type": "scatter",
         "x": [
          0.06552781909704208
         ],
         "xaxis": "x",
         "y": [
          0.005014228168874979
         ],
         "yaxis": "y"
        },
        {
         "hovertemplate": "Motif=4<br>Mode=3<br>dim 1=%{x}<br>dim 2=%{y}<extra></extra>",
         "legendgroup": "4, 3",
         "marker": {
          "color": "#FF97FF",
          "symbol": "square"
         },
         "mode": "markers",
         "name": "4, 3",
         "orientation": "v",
         "showlegend": true,
         "type": "scatter",
         "x": [
          -0.8945631384849548
         ],
         "xaxis": "x",
         "y": [
          -0.2160276472568512
         ],
         "yaxis": "y"
        },
        {
         "hovertemplate": "Motif=4<br>Mode=5<br>dim 1=%{x}<br>dim 2=%{y}<extra></extra>",
         "legendgroup": "4, 5",
         "marker": {
          "color": "#FF97FF",
          "symbol": "x"
         },
         "mode": "markers",
         "name": "4, 5",
         "orientation": "v",
         "showlegend": true,
         "type": "scatter",
         "x": [
          -0.20533901453018188
         ],
         "xaxis": "x",
         "y": [
          0.8423048257827759
         ],
         "yaxis": "y"
        },
        {
         "hovertemplate": "Motif=4<br>Mode=2<br>dim 1=%{x}<br>dim 2=%{y}<extra></extra>",
         "legendgroup": "4, 2",
         "marker": {
          "color": "#FF97FF",
          "symbol": "cross"
         },
         "mode": "markers",
         "name": "4, 2",
         "orientation": "v",
         "showlegend": true,
         "type": "scatter",
         "x": [
          0.034915219992399216
         ],
         "xaxis": "x",
         "y": [
          0.08982989937067032
         ],
         "yaxis": "y"
        },
        {
         "hovertemplate": "Motif=4<br>Mode=4<br>dim 1=%{x}<br>dim 2=%{y}<extra></extra>",
         "legendgroup": "4, 4",
         "marker": {
          "color": "#FF97FF",
          "symbol": "circle"
         },
         "mode": "markers",
         "name": "4, 4",
         "orientation": "v",
         "showlegend": true,
         "type": "scatter",
         "x": [
          0.18780793249607086
         ],
         "xaxis": "x",
         "y": [
          0.032101597636938095
         ],
         "yaxis": "y"
        },
        {
         "hovertemplate": "Motif=4<br>Mode=9<br>dim 1=%{x}<br>dim 2=%{y}<extra></extra>",
         "legendgroup": "4, 9",
         "marker": {
          "color": "#FF97FF",
          "symbol": "diamond"
         },
         "mode": "markers",
         "name": "4, 9",
         "orientation": "v",
         "showlegend": true,
         "type": "scatter",
         "x": [
          0.33653831481933594
         ],
         "xaxis": "x",
         "y": [
          0.1737111657857895
         ],
         "yaxis": "y"
        },
        {
         "hovertemplate": "Motif=4<br>Mode=6<br>dim 1=%{x}<br>dim 2=%{y}<extra></extra>",
         "legendgroup": "4, 6",
         "marker": {
          "color": "#FF97FF",
          "symbol": "square"
         },
         "mode": "markers",
         "name": "4, 6",
         "orientation": "v",
         "showlegend": true,
         "type": "scatter",
         "x": [
          0.02669074945151806
         ],
         "xaxis": "x",
         "y": [
          0.046949002891778946
         ],
         "yaxis": "y"
        },
        {
         "hovertemplate": "Motif=4<br>Mode=8<br>dim 1=%{x}<br>dim 2=%{y}<extra></extra>",
         "legendgroup": "4, 8",
         "marker": {
          "color": "#FF97FF",
          "symbol": "x"
         },
         "mode": "markers",
         "name": "4, 8",
         "orientation": "v",
         "showlegend": true,
         "type": "scatter",
         "x": [
          -0.017001915723085403
         ],
         "xaxis": "x",
         "y": [
          -0.03354039415717125
         ],
         "yaxis": "y"
        },
        {
         "hovertemplate": "Motif=4<br>Mode=7<br>dim 1=%{x}<br>dim 2=%{y}<extra></extra>",
         "legendgroup": "4, 7",
         "marker": {
          "color": "#FF97FF",
          "symbol": "cross"
         },
         "mode": "markers",
         "name": "4, 7",
         "orientation": "v",
         "showlegend": true,
         "type": "scatter",
         "x": [
          0.014604336582124233
         ],
         "xaxis": "x",
         "y": [
          -0.05554093047976494
         ],
         "yaxis": "y"
        },
        {
         "hovertemplate": "Motif=8<br>Mode=1<br>dim 1=%{x}<br>dim 2=%{y}<extra></extra>",
         "legendgroup": "8, 1",
         "marker": {
          "color": "#FECB52",
          "symbol": "diamond"
         },
         "mode": "markers",
         "name": "8, 1",
         "orientation": "v",
         "showlegend": true,
         "type": "scatter",
         "x": [
          -0.16446009278297424
         ],
         "xaxis": "x",
         "y": [
          -0.22416959702968597
         ],
         "yaxis": "y"
        },
        {
         "hovertemplate": "Motif=8<br>Mode=3<br>dim 1=%{x}<br>dim 2=%{y}<extra></extra>",
         "legendgroup": "8, 3",
         "marker": {
          "color": "#FECB52",
          "symbol": "square"
         },
         "mode": "markers",
         "name": "8, 3",
         "orientation": "v",
         "showlegend": true,
         "type": "scatter",
         "x": [
          -0.7363622784614563
         ],
         "xaxis": "x",
         "y": [
          -0.38356849551200867
         ],
         "yaxis": "y"
        },
        {
         "hovertemplate": "Motif=8<br>Mode=5<br>dim 1=%{x}<br>dim 2=%{y}<extra></extra>",
         "legendgroup": "8, 5",
         "marker": {
          "color": "#FECB52",
          "symbol": "x"
         },
         "mode": "markers",
         "name": "8, 5",
         "orientation": "v",
         "showlegend": true,
         "type": "scatter",
         "x": [
          -0.4020973742008209
         ],
         "xaxis": "x",
         "y": [
          -0.12201862037181854
         ],
         "yaxis": "y"
        },
        {
         "hovertemplate": "Motif=8<br>Mode=2<br>dim 1=%{x}<br>dim 2=%{y}<extra></extra>",
         "legendgroup": "8, 2",
         "marker": {
          "color": "#FECB52",
          "symbol": "cross"
         },
         "mode": "markers",
         "name": "8, 2",
         "orientation": "v",
         "showlegend": true,
         "type": "scatter",
         "x": [
          -0.1482100486755371
         ],
         "xaxis": "x",
         "y": [
          0.003985352348536253
         ],
         "yaxis": "y"
        },
        {
         "hovertemplate": "Motif=8<br>Mode=4<br>dim 1=%{x}<br>dim 2=%{y}<extra></extra>",
         "legendgroup": "8, 4",
         "marker": {
          "color": "#FECB52",
          "symbol": "circle"
         },
         "mode": "markers",
         "name": "8, 4",
         "orientation": "v",
         "showlegend": true,
         "type": "scatter",
         "x": [
          -0.013644523918628693
         ],
         "xaxis": "x",
         "y": [
          0.06884752213954926
         ],
         "yaxis": "y"
        },
        {
         "hovertemplate": "Motif=8<br>Mode=9<br>dim 1=%{x}<br>dim 2=%{y}<extra></extra>",
         "legendgroup": "8, 9",
         "marker": {
          "color": "#FECB52",
          "symbol": "diamond"
         },
         "mode": "markers",
         "name": "8, 9",
         "orientation": "v",
         "showlegend": true,
         "type": "scatter",
         "x": [
          0.08189595490694046
         ],
         "xaxis": "x",
         "y": [
          0.15399858355522156
         ],
         "yaxis": "y"
        },
        {
         "hovertemplate": "Motif=8<br>Mode=6<br>dim 1=%{x}<br>dim 2=%{y}<extra></extra>",
         "legendgroup": "8, 6",
         "marker": {
          "color": "#FECB52",
          "symbol": "square"
         },
         "mode": "markers",
         "name": "8, 6",
         "orientation": "v",
         "showlegend": true,
         "type": "scatter",
         "x": [
          0.02995445393025875
         ],
         "xaxis": "x",
         "y": [
          0.03027784265577793
         ],
         "yaxis": "y"
        },
        {
         "hovertemplate": "Motif=8<br>Mode=8<br>dim 1=%{x}<br>dim 2=%{y}<extra></extra>",
         "legendgroup": "8, 8",
         "marker": {
          "color": "#FECB52",
          "symbol": "x"
         },
         "mode": "markers",
         "name": "8, 8",
         "orientation": "v",
         "showlegend": true,
         "type": "scatter",
         "x": [
          -0.011346942745149136
         ],
         "xaxis": "x",
         "y": [
          0.007227949798107147
         ],
         "yaxis": "y"
        },
        {
         "hovertemplate": "Motif=8<br>Mode=7<br>dim 1=%{x}<br>dim 2=%{y}<extra></extra>",
         "legendgroup": "8, 7",
         "marker": {
          "color": "#FECB52",
          "symbol": "cross"
         },
         "mode": "markers",
         "name": "8, 7",
         "orientation": "v",
         "showlegend": true,
         "type": "scatter",
         "x": [
          -0.005309518426656723
         ],
         "xaxis": "x",
         "y": [
          -0.02100822888314724
         ],
         "yaxis": "y"
        }
       ],
       "layout": {
        "legend": {
         "title": {
          "text": "Motif, Mode"
         },
         "tracegroupgap": 0
        },
        "margin": {
         "t": 60
        },
        "template": {
         "data": {
          "bar": [
           {
            "error_x": {
             "color": "#2a3f5f"
            },
            "error_y": {
             "color": "#2a3f5f"
            },
            "marker": {
             "line": {
              "color": "white",
              "width": 0.5
             },
             "pattern": {
              "fillmode": "overlay",
              "size": 10,
              "solidity": 0.2
             }
            },
            "type": "bar"
           }
          ],
          "barpolar": [
           {
            "marker": {
             "line": {
              "color": "white",
              "width": 0.5
             },
             "pattern": {
              "fillmode": "overlay",
              "size": 10,
              "solidity": 0.2
             }
            },
            "type": "barpolar"
           }
          ],
          "carpet": [
           {
            "aaxis": {
             "endlinecolor": "#2a3f5f",
             "gridcolor": "#C8D4E3",
             "linecolor": "#C8D4E3",
             "minorgridcolor": "#C8D4E3",
             "startlinecolor": "#2a3f5f"
            },
            "baxis": {
             "endlinecolor": "#2a3f5f",
             "gridcolor": "#C8D4E3",
             "linecolor": "#C8D4E3",
             "minorgridcolor": "#C8D4E3",
             "startlinecolor": "#2a3f5f"
            },
            "type": "carpet"
           }
          ],
          "choropleth": [
           {
            "colorbar": {
             "outlinewidth": 0,
             "ticks": ""
            },
            "type": "choropleth"
           }
          ],
          "contour": [
           {
            "colorbar": {
             "outlinewidth": 0,
             "ticks": ""
            },
            "colorscale": [
             [
              0,
              "#0d0887"
             ],
             [
              0.1111111111111111,
              "#46039f"
             ],
             [
              0.2222222222222222,
              "#7201a8"
             ],
             [
              0.3333333333333333,
              "#9c179e"
             ],
             [
              0.4444444444444444,
              "#bd3786"
             ],
             [
              0.5555555555555556,
              "#d8576b"
             ],
             [
              0.6666666666666666,
              "#ed7953"
             ],
             [
              0.7777777777777778,
              "#fb9f3a"
             ],
             [
              0.8888888888888888,
              "#fdca26"
             ],
             [
              1,
              "#f0f921"
             ]
            ],
            "type": "contour"
           }
          ],
          "contourcarpet": [
           {
            "colorbar": {
             "outlinewidth": 0,
             "ticks": ""
            },
            "type": "contourcarpet"
           }
          ],
          "heatmap": [
           {
            "colorbar": {
             "outlinewidth": 0,
             "ticks": ""
            },
            "colorscale": [
             [
              0,
              "#0d0887"
             ],
             [
              0.1111111111111111,
              "#46039f"
             ],
             [
              0.2222222222222222,
              "#7201a8"
             ],
             [
              0.3333333333333333,
              "#9c179e"
             ],
             [
              0.4444444444444444,
              "#bd3786"
             ],
             [
              0.5555555555555556,
              "#d8576b"
             ],
             [
              0.6666666666666666,
              "#ed7953"
             ],
             [
              0.7777777777777778,
              "#fb9f3a"
             ],
             [
              0.8888888888888888,
              "#fdca26"
             ],
             [
              1,
              "#f0f921"
             ]
            ],
            "type": "heatmap"
           }
          ],
          "heatmapgl": [
           {
            "colorbar": {
             "outlinewidth": 0,
             "ticks": ""
            },
            "colorscale": [
             [
              0,
              "#0d0887"
             ],
             [
              0.1111111111111111,
              "#46039f"
             ],
             [
              0.2222222222222222,
              "#7201a8"
             ],
             [
              0.3333333333333333,
              "#9c179e"
             ],
             [
              0.4444444444444444,
              "#bd3786"
             ],
             [
              0.5555555555555556,
              "#d8576b"
             ],
             [
              0.6666666666666666,
              "#ed7953"
             ],
             [
              0.7777777777777778,
              "#fb9f3a"
             ],
             [
              0.8888888888888888,
              "#fdca26"
             ],
             [
              1,
              "#f0f921"
             ]
            ],
            "type": "heatmapgl"
           }
          ],
          "histogram": [
           {
            "marker": {
             "pattern": {
              "fillmode": "overlay",
              "size": 10,
              "solidity": 0.2
             }
            },
            "type": "histogram"
           }
          ],
          "histogram2d": [
           {
            "colorbar": {
             "outlinewidth": 0,
             "ticks": ""
            },
            "colorscale": [
             [
              0,
              "#0d0887"
             ],
             [
              0.1111111111111111,
              "#46039f"
             ],
             [
              0.2222222222222222,
              "#7201a8"
             ],
             [
              0.3333333333333333,
              "#9c179e"
             ],
             [
              0.4444444444444444,
              "#bd3786"
             ],
             [
              0.5555555555555556,
              "#d8576b"
             ],
             [
              0.6666666666666666,
              "#ed7953"
             ],
             [
              0.7777777777777778,
              "#fb9f3a"
             ],
             [
              0.8888888888888888,
              "#fdca26"
             ],
             [
              1,
              "#f0f921"
             ]
            ],
            "type": "histogram2d"
           }
          ],
          "histogram2dcontour": [
           {
            "colorbar": {
             "outlinewidth": 0,
             "ticks": ""
            },
            "colorscale": [
             [
              0,
              "#0d0887"
             ],
             [
              0.1111111111111111,
              "#46039f"
             ],
             [
              0.2222222222222222,
              "#7201a8"
             ],
             [
              0.3333333333333333,
              "#9c179e"
             ],
             [
              0.4444444444444444,
              "#bd3786"
             ],
             [
              0.5555555555555556,
              "#d8576b"
             ],
             [
              0.6666666666666666,
              "#ed7953"
             ],
             [
              0.7777777777777778,
              "#fb9f3a"
             ],
             [
              0.8888888888888888,
              "#fdca26"
             ],
             [
              1,
              "#f0f921"
             ]
            ],
            "type": "histogram2dcontour"
           }
          ],
          "mesh3d": [
           {
            "colorbar": {
             "outlinewidth": 0,
             "ticks": ""
            },
            "type": "mesh3d"
           }
          ],
          "parcoords": [
           {
            "line": {
             "colorbar": {
              "outlinewidth": 0,
              "ticks": ""
             }
            },
            "type": "parcoords"
           }
          ],
          "pie": [
           {
            "automargin": true,
            "type": "pie"
           }
          ],
          "scatter": [
           {
            "fillpattern": {
             "fillmode": "overlay",
             "size": 10,
             "solidity": 0.2
            },
            "type": "scatter"
           }
          ],
          "scatter3d": [
           {
            "line": {
             "colorbar": {
              "outlinewidth": 0,
              "ticks": ""
             }
            },
            "marker": {
             "colorbar": {
              "outlinewidth": 0,
              "ticks": ""
             }
            },
            "type": "scatter3d"
           }
          ],
          "scattercarpet": [
           {
            "marker": {
             "colorbar": {
              "outlinewidth": 0,
              "ticks": ""
             }
            },
            "type": "scattercarpet"
           }
          ],
          "scattergeo": [
           {
            "marker": {
             "colorbar": {
              "outlinewidth": 0,
              "ticks": ""
             }
            },
            "type": "scattergeo"
           }
          ],
          "scattergl": [
           {
            "marker": {
             "colorbar": {
              "outlinewidth": 0,
              "ticks": ""
             }
            },
            "type": "scattergl"
           }
          ],
          "scattermapbox": [
           {
            "marker": {
             "colorbar": {
              "outlinewidth": 0,
              "ticks": ""
             }
            },
            "type": "scattermapbox"
           }
          ],
          "scatterpolar": [
           {
            "marker": {
             "colorbar": {
              "outlinewidth": 0,
              "ticks": ""
             }
            },
            "type": "scatterpolar"
           }
          ],
          "scatterpolargl": [
           {
            "marker": {
             "colorbar": {
              "outlinewidth": 0,
              "ticks": ""
             }
            },
            "type": "scatterpolargl"
           }
          ],
          "scatterternary": [
           {
            "marker": {
             "colorbar": {
              "outlinewidth": 0,
              "ticks": ""
             }
            },
            "type": "scatterternary"
           }
          ],
          "surface": [
           {
            "colorbar": {
             "outlinewidth": 0,
             "ticks": ""
            },
            "colorscale": [
             [
              0,
              "#0d0887"
             ],
             [
              0.1111111111111111,
              "#46039f"
             ],
             [
              0.2222222222222222,
              "#7201a8"
             ],
             [
              0.3333333333333333,
              "#9c179e"
             ],
             [
              0.4444444444444444,
              "#bd3786"
             ],
             [
              0.5555555555555556,
              "#d8576b"
             ],
             [
              0.6666666666666666,
              "#ed7953"
             ],
             [
              0.7777777777777778,
              "#fb9f3a"
             ],
             [
              0.8888888888888888,
              "#fdca26"
             ],
             [
              1,
              "#f0f921"
             ]
            ],
            "type": "surface"
           }
          ],
          "table": [
           {
            "cells": {
             "fill": {
              "color": "#EBF0F8"
             },
             "line": {
              "color": "white"
             }
            },
            "header": {
             "fill": {
              "color": "#C8D4E3"
             },
             "line": {
              "color": "white"
             }
            },
            "type": "table"
           }
          ]
         },
         "layout": {
          "annotationdefaults": {
           "arrowcolor": "#2a3f5f",
           "arrowhead": 0,
           "arrowwidth": 1
          },
          "autotypenumbers": "strict",
          "coloraxis": {
           "colorbar": {
            "outlinewidth": 0,
            "ticks": ""
           }
          },
          "colorscale": {
           "diverging": [
            [
             0,
             "#8e0152"
            ],
            [
             0.1,
             "#c51b7d"
            ],
            [
             0.2,
             "#de77ae"
            ],
            [
             0.3,
             "#f1b6da"
            ],
            [
             0.4,
             "#fde0ef"
            ],
            [
             0.5,
             "#f7f7f7"
            ],
            [
             0.6,
             "#e6f5d0"
            ],
            [
             0.7,
             "#b8e186"
            ],
            [
             0.8,
             "#7fbc41"
            ],
            [
             0.9,
             "#4d9221"
            ],
            [
             1,
             "#276419"
            ]
           ],
           "sequential": [
            [
             0,
             "#0d0887"
            ],
            [
             0.1111111111111111,
             "#46039f"
            ],
            [
             0.2222222222222222,
             "#7201a8"
            ],
            [
             0.3333333333333333,
             "#9c179e"
            ],
            [
             0.4444444444444444,
             "#bd3786"
            ],
            [
             0.5555555555555556,
             "#d8576b"
            ],
            [
             0.6666666666666666,
             "#ed7953"
            ],
            [
             0.7777777777777778,
             "#fb9f3a"
            ],
            [
             0.8888888888888888,
             "#fdca26"
            ],
            [
             1,
             "#f0f921"
            ]
           ],
           "sequentialminus": [
            [
             0,
             "#0d0887"
            ],
            [
             0.1111111111111111,
             "#46039f"
            ],
            [
             0.2222222222222222,
             "#7201a8"
            ],
            [
             0.3333333333333333,
             "#9c179e"
            ],
            [
             0.4444444444444444,
             "#bd3786"
            ],
            [
             0.5555555555555556,
             "#d8576b"
            ],
            [
             0.6666666666666666,
             "#ed7953"
            ],
            [
             0.7777777777777778,
             "#fb9f3a"
            ],
            [
             0.8888888888888888,
             "#fdca26"
            ],
            [
             1,
             "#f0f921"
            ]
           ]
          },
          "colorway": [
           "#636efa",
           "#EF553B",
           "#00cc96",
           "#ab63fa",
           "#FFA15A",
           "#19d3f3",
           "#FF6692",
           "#B6E880",
           "#FF97FF",
           "#FECB52"
          ],
          "font": {
           "color": "#2a3f5f"
          },
          "geo": {
           "bgcolor": "white",
           "lakecolor": "white",
           "landcolor": "white",
           "showlakes": true,
           "showland": true,
           "subunitcolor": "#C8D4E3"
          },
          "hoverlabel": {
           "align": "left"
          },
          "hovermode": "closest",
          "mapbox": {
           "style": "light"
          },
          "paper_bgcolor": "white",
          "plot_bgcolor": "white",
          "polar": {
           "angularaxis": {
            "gridcolor": "#EBF0F8",
            "linecolor": "#EBF0F8",
            "ticks": ""
           },
           "bgcolor": "white",
           "radialaxis": {
            "gridcolor": "#EBF0F8",
            "linecolor": "#EBF0F8",
            "ticks": ""
           }
          },
          "scene": {
           "xaxis": {
            "backgroundcolor": "white",
            "gridcolor": "#DFE8F3",
            "gridwidth": 2,
            "linecolor": "#EBF0F8",
            "showbackground": true,
            "ticks": "",
            "zerolinecolor": "#EBF0F8"
           },
           "yaxis": {
            "backgroundcolor": "white",
            "gridcolor": "#DFE8F3",
            "gridwidth": 2,
            "linecolor": "#EBF0F8",
            "showbackground": true,
            "ticks": "",
            "zerolinecolor": "#EBF0F8"
           },
           "zaxis": {
            "backgroundcolor": "white",
            "gridcolor": "#DFE8F3",
            "gridwidth": 2,
            "linecolor": "#EBF0F8",
            "showbackground": true,
            "ticks": "",
            "zerolinecolor": "#EBF0F8"
           }
          },
          "shapedefaults": {
           "line": {
            "color": "#2a3f5f"
           }
          },
          "ternary": {
           "aaxis": {
            "gridcolor": "#DFE8F3",
            "linecolor": "#A2B1C6",
            "ticks": ""
           },
           "baxis": {
            "gridcolor": "#DFE8F3",
            "linecolor": "#A2B1C6",
            "ticks": ""
           },
           "bgcolor": "white",
           "caxis": {
            "gridcolor": "#DFE8F3",
            "linecolor": "#A2B1C6",
            "ticks": ""
           }
          },
          "title": {
           "x": 0.05
          },
          "xaxis": {
           "automargin": true,
           "gridcolor": "#EBF0F8",
           "linecolor": "#EBF0F8",
           "ticks": "",
           "title": {
            "standoff": 15
           },
           "zerolinecolor": "#EBF0F8",
           "zerolinewidth": 2
          },
          "yaxis": {
           "automargin": true,
           "gridcolor": "#EBF0F8",
           "linecolor": "#EBF0F8",
           "ticks": "",
           "title": {
            "standoff": 15
           },
           "zerolinecolor": "#EBF0F8",
           "zerolinewidth": 2
          }
         }
        },
        "xaxis": {
         "anchor": "y",
         "domain": [
          0,
          1
         ],
         "title": {
          "text": "dim 1"
         }
        },
        "yaxis": {
         "anchor": "x",
         "domain": [
          0,
          1
         ],
         "title": {
          "text": "dim 2"
         }
        }
       }
      }
     },
     "metadata": {},
     "output_type": "display_data"
    }
   ],
   "source": [
    "df_embedding = pd.DataFrame(columns=[\"Mode\", \"Motif\", \"x\", \"y\"])\n",
    "df_embedding[[\"x\", \"y\"]] = mob2vec.embedding_layer.embeddings[:, :2]\n",
    "df_embedding[[\"Mode\", \"Motif\"]] = list(data_getter.vocab.keys())\n",
    "\n",
    "px.scatter(df_embedding, x=\"x\", y=\"y\", color=\"Motif\", symbol=\"Mode\", template=\"plotly_white\",\n",
    "    labels={\"x\": \"dim 1\", \"y\": \"dim 2\"},)"
   ]
  },
  {
   "attachments": {},
   "cell_type": "markdown",
   "metadata": {},
   "source": [
    "## <a id='toc1_3_'></a>[RNN vector to Sequence](#toc0_)"
   ]
  },
  {
   "attachments": {},
   "cell_type": "markdown",
   "metadata": {},
   "source": [
    "### <a id='toc1_3_1_'></a>[Description du modèle](#toc0_)\n",
    "\n",
    "Instanciation d'un RNN \"vector to sequence\".\n",
    "\n",
    "- **Input** : données scoio économique d'un individu (csp, nb de voitures, type de commune) à l'instant t=0, et 0 à l'instant t>0. L'input est de dimension (n_individus, trajectory_len, n_features). Les features ont été \"one-hot encoded\".\n",
    "- **Output** : séquence de déplacements sur une journée. Un déplacement est défini par le triplet (motif, mode, distance). L'output est de dimension (n_individus, trajectory_len, embedding_dim+1). "
   ]
  },
  {
   "cell_type": "code",
   "execution_count": 10,
   "metadata": {},
   "outputs": [],
   "source": [
    "feats2traj = Features2Trajectory(data_getter, mob2vec)\n",
    "feats2traj.get_trajectories_for_rnn()\n",
    "feats2traj.get_feature_for_rnn()"
   ]
  },
  {
   "cell_type": "code",
   "execution_count": 11,
   "metadata": {},
   "outputs": [
    {
     "name": "stdout",
     "output_type": "stream",
     "text": [
      "Model: \"sequential_1\"\n",
      "_________________________________________________________________\n",
      " Layer (type)                Output Shape              Param #   \n",
      "=================================================================\n",
      " lstm (LSTM)                 (None, 16, 10)            1080      \n",
      "                                                                 \n",
      " dense_1 (Dense)             (None, 16, 3)             33        \n",
      "                                                                 \n",
      "=================================================================\n",
      "Total params: 1,113\n",
      "Trainable params: 1,113\n",
      "Non-trainable params: 0\n",
      "_________________________________________________________________\n"
     ]
    }
   ],
   "source": [
    "feats2traj.model.summary()"
   ]
  },
  {
   "attachments": {},
   "cell_type": "markdown",
   "metadata": {},
   "source": [
    "### <a id='toc1_3_2_'></a>[Entrainement du modèle](#toc0_)"
   ]
  },
  {
   "cell_type": "code",
   "execution_count": 12,
   "metadata": {},
   "outputs": [
    {
     "name": "stdout",
     "output_type": "stream",
     "text": [
      "Epoch 1/10\n",
      "67/67 [==============================] - 1s 8ms/step - loss: 1.2024 - val_loss: 0.6960\n",
      "Epoch 2/10\n",
      "67/67 [==============================] - 0s 5ms/step - loss: 0.5181 - val_loss: 0.4294\n",
      "Epoch 3/10\n",
      "67/67 [==============================] - 0s 5ms/step - loss: 0.3970 - val_loss: 0.3766\n",
      "Epoch 4/10\n",
      "67/67 [==============================] - 0s 5ms/step - loss: 0.3658 - val_loss: 0.3565\n",
      "Epoch 5/10\n",
      "67/67 [==============================] - 0s 5ms/step - loss: 0.3509 - val_loss: 0.3451\n",
      "Epoch 6/10\n",
      "67/67 [==============================] - 0s 5ms/step - loss: 0.3427 - val_loss: 0.3394\n",
      "Epoch 7/10\n",
      "67/67 [==============================] - 0s 5ms/step - loss: 0.3386 - val_loss: 0.3359\n",
      "Epoch 8/10\n",
      "67/67 [==============================] - 0s 5ms/step - loss: 0.3362 - val_loss: 0.3342\n",
      "Epoch 9/10\n",
      "67/67 [==============================] - 0s 5ms/step - loss: 0.3346 - val_loss: 0.3322\n",
      "Epoch 10/10\n",
      "67/67 [==============================] - 0s 5ms/step - loss: 0.3335 - val_loss: 0.3317\n"
     ]
    }
   ],
   "source": [
    "feats2traj.fit(test_size=0.33, batch_size=100, epochs=10)"
   ]
  },
  {
   "cell_type": "code",
   "execution_count": 13,
   "metadata": {},
   "outputs": [
    {
     "data": {
      "application/vnd.plotly.v1+json": {
       "config": {
        "plotlyServerURL": "https://plot.ly"
       },
       "data": [
        {
         "hovertemplate": "variable=loss<br>epochs=%{x}<br>loss=%{y}<extra></extra>",
         "legendgroup": "loss",
         "line": {
          "color": "#636efa",
          "dash": "solid"
         },
         "marker": {
          "symbol": "circle"
         },
         "mode": "lines",
         "name": "loss",
         "orientation": "v",
         "showlegend": true,
         "type": "scatter",
         "x": [
          0,
          1,
          2,
          3,
          4,
          5,
          6,
          7,
          8,
          9
         ],
         "xaxis": "x",
         "y": [
          1.2024232149124146,
          0.5181182026863098,
          0.39699414372444153,
          0.36579862236976624,
          0.3509233891963959,
          0.34274008870124817,
          0.33857619762420654,
          0.3361649215221405,
          0.3346438407897949,
          0.3335283696651459
         ],
         "yaxis": "y"
        },
        {
         "hovertemplate": "variable=val_loss<br>epochs=%{x}<br>loss=%{y}<extra></extra>",
         "legendgroup": "val_loss",
         "line": {
          "color": "#EF553B",
          "dash": "solid"
         },
         "marker": {
          "symbol": "circle"
         },
         "mode": "lines",
         "name": "val_loss",
         "orientation": "v",
         "showlegend": true,
         "type": "scatter",
         "x": [
          0,
          1,
          2,
          3,
          4,
          5,
          6,
          7,
          8,
          9
         ],
         "xaxis": "x",
         "y": [
          0.6959810853004456,
          0.4293864071369171,
          0.37659698724746704,
          0.35647737979888916,
          0.345071017742157,
          0.33940011262893677,
          0.33591940999031067,
          0.33423343300819397,
          0.3322294354438782,
          0.3316989839076996
         ],
         "yaxis": "y"
        }
       ],
       "layout": {
        "legend": {
         "title": {
          "text": "variable"
         },
         "tracegroupgap": 0
        },
        "margin": {
         "t": 60
        },
        "template": {
         "data": {
          "bar": [
           {
            "error_x": {
             "color": "#2a3f5f"
            },
            "error_y": {
             "color": "#2a3f5f"
            },
            "marker": {
             "line": {
              "color": "white",
              "width": 0.5
             },
             "pattern": {
              "fillmode": "overlay",
              "size": 10,
              "solidity": 0.2
             }
            },
            "type": "bar"
           }
          ],
          "barpolar": [
           {
            "marker": {
             "line": {
              "color": "white",
              "width": 0.5
             },
             "pattern": {
              "fillmode": "overlay",
              "size": 10,
              "solidity": 0.2
             }
            },
            "type": "barpolar"
           }
          ],
          "carpet": [
           {
            "aaxis": {
             "endlinecolor": "#2a3f5f",
             "gridcolor": "#C8D4E3",
             "linecolor": "#C8D4E3",
             "minorgridcolor": "#C8D4E3",
             "startlinecolor": "#2a3f5f"
            },
            "baxis": {
             "endlinecolor": "#2a3f5f",
             "gridcolor": "#C8D4E3",
             "linecolor": "#C8D4E3",
             "minorgridcolor": "#C8D4E3",
             "startlinecolor": "#2a3f5f"
            },
            "type": "carpet"
           }
          ],
          "choropleth": [
           {
            "colorbar": {
             "outlinewidth": 0,
             "ticks": ""
            },
            "type": "choropleth"
           }
          ],
          "contour": [
           {
            "colorbar": {
             "outlinewidth": 0,
             "ticks": ""
            },
            "colorscale": [
             [
              0,
              "#0d0887"
             ],
             [
              0.1111111111111111,
              "#46039f"
             ],
             [
              0.2222222222222222,
              "#7201a8"
             ],
             [
              0.3333333333333333,
              "#9c179e"
             ],
             [
              0.4444444444444444,
              "#bd3786"
             ],
             [
              0.5555555555555556,
              "#d8576b"
             ],
             [
              0.6666666666666666,
              "#ed7953"
             ],
             [
              0.7777777777777778,
              "#fb9f3a"
             ],
             [
              0.8888888888888888,
              "#fdca26"
             ],
             [
              1,
              "#f0f921"
             ]
            ],
            "type": "contour"
           }
          ],
          "contourcarpet": [
           {
            "colorbar": {
             "outlinewidth": 0,
             "ticks": ""
            },
            "type": "contourcarpet"
           }
          ],
          "heatmap": [
           {
            "colorbar": {
             "outlinewidth": 0,
             "ticks": ""
            },
            "colorscale": [
             [
              0,
              "#0d0887"
             ],
             [
              0.1111111111111111,
              "#46039f"
             ],
             [
              0.2222222222222222,
              "#7201a8"
             ],
             [
              0.3333333333333333,
              "#9c179e"
             ],
             [
              0.4444444444444444,
              "#bd3786"
             ],
             [
              0.5555555555555556,
              "#d8576b"
             ],
             [
              0.6666666666666666,
              "#ed7953"
             ],
             [
              0.7777777777777778,
              "#fb9f3a"
             ],
             [
              0.8888888888888888,
              "#fdca26"
             ],
             [
              1,
              "#f0f921"
             ]
            ],
            "type": "heatmap"
           }
          ],
          "heatmapgl": [
           {
            "colorbar": {
             "outlinewidth": 0,
             "ticks": ""
            },
            "colorscale": [
             [
              0,
              "#0d0887"
             ],
             [
              0.1111111111111111,
              "#46039f"
             ],
             [
              0.2222222222222222,
              "#7201a8"
             ],
             [
              0.3333333333333333,
              "#9c179e"
             ],
             [
              0.4444444444444444,
              "#bd3786"
             ],
             [
              0.5555555555555556,
              "#d8576b"
             ],
             [
              0.6666666666666666,
              "#ed7953"
             ],
             [
              0.7777777777777778,
              "#fb9f3a"
             ],
             [
              0.8888888888888888,
              "#fdca26"
             ],
             [
              1,
              "#f0f921"
             ]
            ],
            "type": "heatmapgl"
           }
          ],
          "histogram": [
           {
            "marker": {
             "pattern": {
              "fillmode": "overlay",
              "size": 10,
              "solidity": 0.2
             }
            },
            "type": "histogram"
           }
          ],
          "histogram2d": [
           {
            "colorbar": {
             "outlinewidth": 0,
             "ticks": ""
            },
            "colorscale": [
             [
              0,
              "#0d0887"
             ],
             [
              0.1111111111111111,
              "#46039f"
             ],
             [
              0.2222222222222222,
              "#7201a8"
             ],
             [
              0.3333333333333333,
              "#9c179e"
             ],
             [
              0.4444444444444444,
              "#bd3786"
             ],
             [
              0.5555555555555556,
              "#d8576b"
             ],
             [
              0.6666666666666666,
              "#ed7953"
             ],
             [
              0.7777777777777778,
              "#fb9f3a"
             ],
             [
              0.8888888888888888,
              "#fdca26"
             ],
             [
              1,
              "#f0f921"
             ]
            ],
            "type": "histogram2d"
           }
          ],
          "histogram2dcontour": [
           {
            "colorbar": {
             "outlinewidth": 0,
             "ticks": ""
            },
            "colorscale": [
             [
              0,
              "#0d0887"
             ],
             [
              0.1111111111111111,
              "#46039f"
             ],
             [
              0.2222222222222222,
              "#7201a8"
             ],
             [
              0.3333333333333333,
              "#9c179e"
             ],
             [
              0.4444444444444444,
              "#bd3786"
             ],
             [
              0.5555555555555556,
              "#d8576b"
             ],
             [
              0.6666666666666666,
              "#ed7953"
             ],
             [
              0.7777777777777778,
              "#fb9f3a"
             ],
             [
              0.8888888888888888,
              "#fdca26"
             ],
             [
              1,
              "#f0f921"
             ]
            ],
            "type": "histogram2dcontour"
           }
          ],
          "mesh3d": [
           {
            "colorbar": {
             "outlinewidth": 0,
             "ticks": ""
            },
            "type": "mesh3d"
           }
          ],
          "parcoords": [
           {
            "line": {
             "colorbar": {
              "outlinewidth": 0,
              "ticks": ""
             }
            },
            "type": "parcoords"
           }
          ],
          "pie": [
           {
            "automargin": true,
            "type": "pie"
           }
          ],
          "scatter": [
           {
            "fillpattern": {
             "fillmode": "overlay",
             "size": 10,
             "solidity": 0.2
            },
            "type": "scatter"
           }
          ],
          "scatter3d": [
           {
            "line": {
             "colorbar": {
              "outlinewidth": 0,
              "ticks": ""
             }
            },
            "marker": {
             "colorbar": {
              "outlinewidth": 0,
              "ticks": ""
             }
            },
            "type": "scatter3d"
           }
          ],
          "scattercarpet": [
           {
            "marker": {
             "colorbar": {
              "outlinewidth": 0,
              "ticks": ""
             }
            },
            "type": "scattercarpet"
           }
          ],
          "scattergeo": [
           {
            "marker": {
             "colorbar": {
              "outlinewidth": 0,
              "ticks": ""
             }
            },
            "type": "scattergeo"
           }
          ],
          "scattergl": [
           {
            "marker": {
             "colorbar": {
              "outlinewidth": 0,
              "ticks": ""
             }
            },
            "type": "scattergl"
           }
          ],
          "scattermapbox": [
           {
            "marker": {
             "colorbar": {
              "outlinewidth": 0,
              "ticks": ""
             }
            },
            "type": "scattermapbox"
           }
          ],
          "scatterpolar": [
           {
            "marker": {
             "colorbar": {
              "outlinewidth": 0,
              "ticks": ""
             }
            },
            "type": "scatterpolar"
           }
          ],
          "scatterpolargl": [
           {
            "marker": {
             "colorbar": {
              "outlinewidth": 0,
              "ticks": ""
             }
            },
            "type": "scatterpolargl"
           }
          ],
          "scatterternary": [
           {
            "marker": {
             "colorbar": {
              "outlinewidth": 0,
              "ticks": ""
             }
            },
            "type": "scatterternary"
           }
          ],
          "surface": [
           {
            "colorbar": {
             "outlinewidth": 0,
             "ticks": ""
            },
            "colorscale": [
             [
              0,
              "#0d0887"
             ],
             [
              0.1111111111111111,
              "#46039f"
             ],
             [
              0.2222222222222222,
              "#7201a8"
             ],
             [
              0.3333333333333333,
              "#9c179e"
             ],
             [
              0.4444444444444444,
              "#bd3786"
             ],
             [
              0.5555555555555556,
              "#d8576b"
             ],
             [
              0.6666666666666666,
              "#ed7953"
             ],
             [
              0.7777777777777778,
              "#fb9f3a"
             ],
             [
              0.8888888888888888,
              "#fdca26"
             ],
             [
              1,
              "#f0f921"
             ]
            ],
            "type": "surface"
           }
          ],
          "table": [
           {
            "cells": {
             "fill": {
              "color": "#EBF0F8"
             },
             "line": {
              "color": "white"
             }
            },
            "header": {
             "fill": {
              "color": "#C8D4E3"
             },
             "line": {
              "color": "white"
             }
            },
            "type": "table"
           }
          ]
         },
         "layout": {
          "annotationdefaults": {
           "arrowcolor": "#2a3f5f",
           "arrowhead": 0,
           "arrowwidth": 1
          },
          "autotypenumbers": "strict",
          "coloraxis": {
           "colorbar": {
            "outlinewidth": 0,
            "ticks": ""
           }
          },
          "colorscale": {
           "diverging": [
            [
             0,
             "#8e0152"
            ],
            [
             0.1,
             "#c51b7d"
            ],
            [
             0.2,
             "#de77ae"
            ],
            [
             0.3,
             "#f1b6da"
            ],
            [
             0.4,
             "#fde0ef"
            ],
            [
             0.5,
             "#f7f7f7"
            ],
            [
             0.6,
             "#e6f5d0"
            ],
            [
             0.7,
             "#b8e186"
            ],
            [
             0.8,
             "#7fbc41"
            ],
            [
             0.9,
             "#4d9221"
            ],
            [
             1,
             "#276419"
            ]
           ],
           "sequential": [
            [
             0,
             "#0d0887"
            ],
            [
             0.1111111111111111,
             "#46039f"
            ],
            [
             0.2222222222222222,
             "#7201a8"
            ],
            [
             0.3333333333333333,
             "#9c179e"
            ],
            [
             0.4444444444444444,
             "#bd3786"
            ],
            [
             0.5555555555555556,
             "#d8576b"
            ],
            [
             0.6666666666666666,
             "#ed7953"
            ],
            [
             0.7777777777777778,
             "#fb9f3a"
            ],
            [
             0.8888888888888888,
             "#fdca26"
            ],
            [
             1,
             "#f0f921"
            ]
           ],
           "sequentialminus": [
            [
             0,
             "#0d0887"
            ],
            [
             0.1111111111111111,
             "#46039f"
            ],
            [
             0.2222222222222222,
             "#7201a8"
            ],
            [
             0.3333333333333333,
             "#9c179e"
            ],
            [
             0.4444444444444444,
             "#bd3786"
            ],
            [
             0.5555555555555556,
             "#d8576b"
            ],
            [
             0.6666666666666666,
             "#ed7953"
            ],
            [
             0.7777777777777778,
             "#fb9f3a"
            ],
            [
             0.8888888888888888,
             "#fdca26"
            ],
            [
             1,
             "#f0f921"
            ]
           ]
          },
          "colorway": [
           "#636efa",
           "#EF553B",
           "#00cc96",
           "#ab63fa",
           "#FFA15A",
           "#19d3f3",
           "#FF6692",
           "#B6E880",
           "#FF97FF",
           "#FECB52"
          ],
          "font": {
           "color": "#2a3f5f"
          },
          "geo": {
           "bgcolor": "white",
           "lakecolor": "white",
           "landcolor": "white",
           "showlakes": true,
           "showland": true,
           "subunitcolor": "#C8D4E3"
          },
          "hoverlabel": {
           "align": "left"
          },
          "hovermode": "closest",
          "mapbox": {
           "style": "light"
          },
          "paper_bgcolor": "white",
          "plot_bgcolor": "white",
          "polar": {
           "angularaxis": {
            "gridcolor": "#EBF0F8",
            "linecolor": "#EBF0F8",
            "ticks": ""
           },
           "bgcolor": "white",
           "radialaxis": {
            "gridcolor": "#EBF0F8",
            "linecolor": "#EBF0F8",
            "ticks": ""
           }
          },
          "scene": {
           "xaxis": {
            "backgroundcolor": "white",
            "gridcolor": "#DFE8F3",
            "gridwidth": 2,
            "linecolor": "#EBF0F8",
            "showbackground": true,
            "ticks": "",
            "zerolinecolor": "#EBF0F8"
           },
           "yaxis": {
            "backgroundcolor": "white",
            "gridcolor": "#DFE8F3",
            "gridwidth": 2,
            "linecolor": "#EBF0F8",
            "showbackground": true,
            "ticks": "",
            "zerolinecolor": "#EBF0F8"
           },
           "zaxis": {
            "backgroundcolor": "white",
            "gridcolor": "#DFE8F3",
            "gridwidth": 2,
            "linecolor": "#EBF0F8",
            "showbackground": true,
            "ticks": "",
            "zerolinecolor": "#EBF0F8"
           }
          },
          "shapedefaults": {
           "line": {
            "color": "#2a3f5f"
           }
          },
          "ternary": {
           "aaxis": {
            "gridcolor": "#DFE8F3",
            "linecolor": "#A2B1C6",
            "ticks": ""
           },
           "baxis": {
            "gridcolor": "#DFE8F3",
            "linecolor": "#A2B1C6",
            "ticks": ""
           },
           "bgcolor": "white",
           "caxis": {
            "gridcolor": "#DFE8F3",
            "linecolor": "#A2B1C6",
            "ticks": ""
           }
          },
          "title": {
           "x": 0.05
          },
          "xaxis": {
           "automargin": true,
           "gridcolor": "#EBF0F8",
           "linecolor": "#EBF0F8",
           "ticks": "",
           "title": {
            "standoff": 15
           },
           "zerolinecolor": "#EBF0F8",
           "zerolinewidth": 2
          },
          "yaxis": {
           "automargin": true,
           "gridcolor": "#EBF0F8",
           "linecolor": "#EBF0F8",
           "ticks": "",
           "title": {
            "standoff": 15
           },
           "zerolinecolor": "#EBF0F8",
           "zerolinewidth": 2
          }
         }
        },
        "xaxis": {
         "anchor": "y",
         "domain": [
          0,
          1
         ],
         "title": {
          "text": "epochs"
         }
        },
        "yaxis": {
         "anchor": "x",
         "domain": [
          0,
          1
         ],
         "title": {
          "text": "loss"
         }
        }
       }
      }
     },
     "metadata": {},
     "output_type": "display_data"
    }
   ],
   "source": [
    "px.line(\n",
    "    pd.DataFrame(feats2traj.history.history),\n",
    "    template=\"plotly_white\",\n",
    "    labels={\"index\": \"epochs\", \"value\": \"loss\"},\n",
    ")"
   ]
  },
  {
   "attachments": {},
   "cell_type": "markdown",
   "metadata": {},
   "source": [
    "### <a id='toc1_3_3_'></a>[Exemple de prédiction](#toc0_)"
   ]
  },
  {
   "cell_type": "code",
   "execution_count": 14,
   "metadata": {},
   "outputs": [
    {
     "name": "stdout",
     "output_type": "stream",
     "text": [
      "1/1 [==============================] - 0s 172ms/step\n"
     ]
    }
   ],
   "source": [
    "trajectory_pred_lib, trajectory_true_lib = feats2traj.compare_pred_true(indiv=0)"
   ]
  },
  {
   "cell_type": "code",
   "execution_count": 15,
   "metadata": {},
   "outputs": [
    {
     "name": "stdout",
     "output_type": "stream",
     "text": [
      "Vérité :\n"
     ]
    },
    {
     "data": {
      "text/plain": [
       "[('3', '2', 6.0),\n",
       " ('3', '4', 10.0),\n",
       " ('3', '4', 1.0),\n",
       " ('3', '1', 10.0),\n",
       " ('<pad>', '<pad>', 2.220446049250313e-16),\n",
       " ('<pad>', '<pad>', 2.220446049250313e-16),\n",
       " ('<pad>', '<pad>', 2.220446049250313e-16),\n",
       " ('<pad>', '<pad>', 2.220446049250313e-16),\n",
       " ('<pad>', '<pad>', 2.220446049250313e-16),\n",
       " ('<pad>', '<pad>', 2.220446049250313e-16),\n",
       " ('<pad>', '<pad>', 2.220446049250313e-16),\n",
       " ('<pad>', '<pad>', 2.220446049250313e-16),\n",
       " ('<pad>', '<pad>', 2.220446049250313e-16),\n",
       " ('<pad>', '<pad>', 2.220446049250313e-16),\n",
       " ('<pad>', '<pad>', 2.220446049250313e-16),\n",
       " ('<pad>', '<pad>', 2.220446049250313e-16)]"
      ]
     },
     "execution_count": 15,
     "metadata": {},
     "output_type": "execute_result"
    }
   ],
   "source": [
    "print(\"Vérité :\")\n",
    "trajectory_true_lib"
   ]
  },
  {
   "cell_type": "code",
   "execution_count": 16,
   "metadata": {},
   "outputs": [
    {
     "name": "stdout",
     "output_type": "stream",
     "text": [
      "Prédiction :\n"
     ]
    },
    {
     "data": {
      "text/plain": [
       "[('3', '3', 12.682899),\n",
       " ('3', '4', 10.924828),\n",
       " ('<pad>', '<pad>', 7.1767526),\n",
       " ('<pad>', '<pad>', 4.2279787),\n",
       " ('<pad>', '<pad>', 2.3853025),\n",
       " ('<pad>', '<pad>', 1.3438442),\n",
       " ('<pad>', '<pad>', 0.7860521),\n",
       " ('<pad>', '<pad>', 0.4989557),\n",
       " ('<pad>', '<pad>', 0.35775033),\n",
       " ('<pad>', '<pad>', 0.2926265),\n",
       " ('<pad>', '<pad>', 0.26533914),\n",
       " ('<pad>', '<pad>', 0.2554012),\n",
       " ('<pad>', '<pad>', 0.25224605),\n",
       " ('<pad>', '<pad>', 0.25077942),\n",
       " ('<pad>', '<pad>', 0.248847),\n",
       " ('<pad>', '<pad>', 0.24578232)]"
      ]
     },
     "execution_count": 16,
     "metadata": {},
     "output_type": "execute_result"
    }
   ],
   "source": [
    "print(\"Prédiction :\")\n",
    "trajectory_pred_lib"
   ]
  }
 ],
 "metadata": {
  "kernelspec": {
   "display_name": "flotes-dev",
   "language": "python",
   "name": "python3"
  },
  "language_info": {
   "codemirror_mode": {
    "name": "ipython",
    "version": 3
   },
   "file_extension": ".py",
   "mimetype": "text/x-python",
   "name": "python",
   "nbconvert_exporter": "python",
   "pygments_lexer": "ipython3",
   "version": "3.11.3"
  },
  "orig_nbformat": 4
 },
 "nbformat": 4,
 "nbformat_minor": 2
}
