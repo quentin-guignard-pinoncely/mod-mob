{
 "cells": [
  {
   "attachments": {},
   "cell_type": "markdown",
   "metadata": {},
   "source": [
    "# <a id='toc1_'></a>[Modélisation des mobilités quotidiennes des individus](#toc0_)\n",
    "\n",
    "Le but de ce notebook est d'explorer une méthodologie pour prédire les séquences de déplacements d'un individu à partir de ses caratéristiques socio-économiques.  \n",
    "Ces premiers travaux ont pour objectifs de qualifier la pertinence de l'utilisation des algorithmes du traitement du langage naturel pour cette tâche.  \n",
    "\n",
    "\n",
    "Définitions : \n",
    "- **Déplacement** : un déplacement est défini par un triplet (mode de déplacement, motif de déplacement, distance parcourue)\n",
    "- **Séquence de déplacements** : c'est une suite ordonnée de déplacement effectué par un individu sur une journée.\n",
    "\n",
    "Cette métohodologie se divise en 2 parties :\n",
    "1. Apprentissage d'un modèle d'embedding pour effectuer un plongement sémentique des couples (mode, motif)\n",
    "2. Apprentissage d'un RNN \"vector to sequence\" pour la prédiction d'une séquence de déplacement à partir d'un vecteur de caratistique socio-économique "
   ]
  },
  {
   "attachments": {},
   "cell_type": "markdown",
   "metadata": {},
   "source": [
    "**Sommaire**<a id='toc0_'></a>    \n",
    "- [Modélisation des mobilités quotidiennes des individus](#toc1_)    \n",
    "  - [Création dataset](#toc1_1_)    \n",
    "    - [Récupération des données](#toc1_1_1_)    \n",
    "      - [Features](#toc1_1_1_1_)    \n",
    "      - [Trajectoires](#toc1_1_1_2_)    \n",
    "    - [Préprocessing des données](#toc1_1_2_)    \n",
    "  - [Embedding des couples (mode, motif)](#toc1_2_)    \n",
    "    - [Description du modèle](#toc1_2_1_)    \n",
    "    - [Entrainement du modèle](#toc1_2_2_)    \n",
    "    - [Data viz des 2 premières dimensions de l'emmbedings](#toc1_2_3_)    \n",
    "  - [RNN vector to Sequence](#toc1_3_)    \n",
    "    - [Description du modèle](#toc1_3_1_)    \n",
    "    - [Entrainement du modèle](#toc1_3_2_)    \n",
    "    - [Exemple de prédiction](#toc1_3_3_)    \n",
    "\n",
    "<!-- vscode-jupyter-toc-config\n",
    "\tnumbering=false\n",
    "\tanchor=true\n",
    "\tflat=false\n",
    "\tminLevel=1\n",
    "\tmaxLevel=6\n",
    "\t/vscode-jupyter-toc-config -->\n",
    "<!-- THIS CELL WILL BE REPLACED ON TOC UPDATE. DO NOT WRITE YOUR TEXT IN THIS CELL -->"
   ]
  },
  {
   "cell_type": "code",
   "execution_count": 1,
   "metadata": {},
   "outputs": [],
   "source": [
    "import pandas as pd\n",
    "import plotly.express as px\n",
    "from core import DataGetter, Mob2Vec, Features2Trajectory"
   ]
  },
  {
   "attachments": {},
   "cell_type": "markdown",
   "metadata": {},
   "source": [
    "## <a id='toc1_1_'></a>[Création dataset](#toc0_)"
   ]
  },
  {
   "attachments": {},
   "cell_type": "markdown",
   "metadata": {},
   "source": [
    "### <a id='toc1_1_1_'></a>[Récupération des données](#toc0_)\n",
    "Les données utilisées sont issues de l'Enquète Mobilité des Personnes 2019 (EMP). Elles sont récupérées via le package mobility."
   ]
  },
  {
   "cell_type": "code",
   "execution_count": 2,
   "metadata": {},
   "outputs": [],
   "source": [
    "data_getter = DataGetter(n_individus=10000, group_modalities=True)"
   ]
  },
  {
   "attachments": {},
   "cell_type": "markdown",
   "metadata": {},
   "source": [
    "#### <a id='toc1_1_1_1_'></a>[Features](#toc0_)\n",
    "One hot enconding des features CSP, type de commune et nombre de voitures."
   ]
  },
  {
   "cell_type": "code",
   "execution_count": 3,
   "metadata": {},
   "outputs": [
    {
     "data": {
      "text/html": [
       "<div>\n",
       "<style scoped>\n",
       "    .dataframe tbody tr th:only-of-type {\n",
       "        vertical-align: middle;\n",
       "    }\n",
       "\n",
       "    .dataframe tbody tr th {\n",
       "        vertical-align: top;\n",
       "    }\n",
       "\n",
       "    .dataframe thead th {\n",
       "        text-align: right;\n",
       "    }\n",
       "</style>\n",
       "<table border=\"1\" class=\"dataframe\">\n",
       "  <thead>\n",
       "    <tr style=\"text-align: right;\">\n",
       "      <th></th>\n",
       "      <th>city_category_B</th>\n",
       "      <th>city_category_C</th>\n",
       "      <th>city_category_I</th>\n",
       "      <th>city_category_R</th>\n",
       "      <th>csp_1</th>\n",
       "      <th>csp_2</th>\n",
       "      <th>csp_3</th>\n",
       "      <th>csp_4</th>\n",
       "      <th>csp_5</th>\n",
       "      <th>csp_6</th>\n",
       "      <th>csp_7</th>\n",
       "      <th>csp_8</th>\n",
       "      <th>csp_no_csp</th>\n",
       "      <th>n_cars_0</th>\n",
       "      <th>n_cars_1</th>\n",
       "      <th>n_cars_2+</th>\n",
       "    </tr>\n",
       "    <tr>\n",
       "      <th>individual_id</th>\n",
       "      <th></th>\n",
       "      <th></th>\n",
       "      <th></th>\n",
       "      <th></th>\n",
       "      <th></th>\n",
       "      <th></th>\n",
       "      <th></th>\n",
       "      <th></th>\n",
       "      <th></th>\n",
       "      <th></th>\n",
       "      <th></th>\n",
       "      <th></th>\n",
       "      <th></th>\n",
       "      <th></th>\n",
       "      <th></th>\n",
       "      <th></th>\n",
       "    </tr>\n",
       "  </thead>\n",
       "  <tbody>\n",
       "    <tr>\n",
       "      <th>110000011500001</th>\n",
       "      <td>1</td>\n",
       "      <td>0</td>\n",
       "      <td>0</td>\n",
       "      <td>0</td>\n",
       "      <td>0</td>\n",
       "      <td>0</td>\n",
       "      <td>0</td>\n",
       "      <td>0</td>\n",
       "      <td>0</td>\n",
       "      <td>0</td>\n",
       "      <td>0</td>\n",
       "      <td>1</td>\n",
       "      <td>0</td>\n",
       "      <td>0</td>\n",
       "      <td>0</td>\n",
       "      <td>1</td>\n",
       "    </tr>\n",
       "    <tr>\n",
       "      <th>110000011600002</th>\n",
       "      <td>0</td>\n",
       "      <td>0</td>\n",
       "      <td>0</td>\n",
       "      <td>1</td>\n",
       "      <td>0</td>\n",
       "      <td>0</td>\n",
       "      <td>0</td>\n",
       "      <td>0</td>\n",
       "      <td>0</td>\n",
       "      <td>0</td>\n",
       "      <td>0</td>\n",
       "      <td>1</td>\n",
       "      <td>0</td>\n",
       "      <td>0</td>\n",
       "      <td>1</td>\n",
       "      <td>0</td>\n",
       "    </tr>\n",
       "    <tr>\n",
       "      <th>110000012400001</th>\n",
       "      <td>1</td>\n",
       "      <td>0</td>\n",
       "      <td>0</td>\n",
       "      <td>0</td>\n",
       "      <td>0</td>\n",
       "      <td>0</td>\n",
       "      <td>1</td>\n",
       "      <td>0</td>\n",
       "      <td>0</td>\n",
       "      <td>0</td>\n",
       "      <td>0</td>\n",
       "      <td>0</td>\n",
       "      <td>0</td>\n",
       "      <td>0</td>\n",
       "      <td>1</td>\n",
       "      <td>0</td>\n",
       "    </tr>\n",
       "    <tr>\n",
       "      <th>110000012500002</th>\n",
       "      <td>1</td>\n",
       "      <td>0</td>\n",
       "      <td>0</td>\n",
       "      <td>0</td>\n",
       "      <td>0</td>\n",
       "      <td>0</td>\n",
       "      <td>0</td>\n",
       "      <td>0</td>\n",
       "      <td>0</td>\n",
       "      <td>0</td>\n",
       "      <td>1</td>\n",
       "      <td>0</td>\n",
       "      <td>0</td>\n",
       "      <td>0</td>\n",
       "      <td>0</td>\n",
       "      <td>1</td>\n",
       "    </tr>\n",
       "    <tr>\n",
       "      <th>110000013500002</th>\n",
       "      <td>1</td>\n",
       "      <td>0</td>\n",
       "      <td>0</td>\n",
       "      <td>0</td>\n",
       "      <td>0</td>\n",
       "      <td>0</td>\n",
       "      <td>0</td>\n",
       "      <td>0</td>\n",
       "      <td>0</td>\n",
       "      <td>1</td>\n",
       "      <td>0</td>\n",
       "      <td>0</td>\n",
       "      <td>0</td>\n",
       "      <td>0</td>\n",
       "      <td>1</td>\n",
       "      <td>0</td>\n",
       "    </tr>\n",
       "  </tbody>\n",
       "</table>\n",
       "</div>"
      ],
      "text/plain": [
       "                 city_category_B  city_category_C  city_category_I  \\\n",
       "individual_id                                                        \n",
       "110000011500001                1                0                0   \n",
       "110000011600002                0                0                0   \n",
       "110000012400001                1                0                0   \n",
       "110000012500002                1                0                0   \n",
       "110000013500002                1                0                0   \n",
       "\n",
       "                 city_category_R  csp_1  csp_2  csp_3  csp_4  csp_5  csp_6  \\\n",
       "individual_id                                                                \n",
       "110000011500001                0      0      0      0      0      0      0   \n",
       "110000011600002                1      0      0      0      0      0      0   \n",
       "110000012400001                0      0      0      1      0      0      0   \n",
       "110000012500002                0      0      0      0      0      0      0   \n",
       "110000013500002                0      0      0      0      0      0      1   \n",
       "\n",
       "                 csp_7  csp_8  csp_no_csp  n_cars_0  n_cars_1  n_cars_2+  \n",
       "individual_id                                                             \n",
       "110000011500001      0      1           0         0         0          1  \n",
       "110000011600002      0      1           0         0         1          0  \n",
       "110000012400001      0      0           0         0         1          0  \n",
       "110000012500002      1      0           0         0         0          1  \n",
       "110000013500002      0      0           0         0         1          0  "
      ]
     },
     "execution_count": 3,
     "metadata": {},
     "output_type": "execute_result"
    }
   ],
   "source": [
    "data_getter.get_features()\n",
    "data_getter.features.head()"
   ]
  },
  {
   "attachments": {},
   "cell_type": "markdown",
   "metadata": {},
   "source": [
    "#### <a id='toc1_1_1_2_'></a>[Trajectoires](#toc0_)\n",
    "Pour chaque individu nous récupérons une suite de séquence défini par un triplet (mode, motif, distance)"
   ]
  },
  {
   "cell_type": "code",
   "execution_count": 4,
   "metadata": {},
   "outputs": [
    {
     "data": {
      "text/plain": [
       "individual_id\n",
       "110000011500001                    [[3, 1, 28.0], [3, 1, 28.0]]\n",
       "110000011600002      [[3, 3, 30.0], [3, 2, 18.0], [3, 1, 12.0]]\n",
       "110000012400001                                  [[5, 9, 50.0]]\n",
       "110000012500002                    [[4, 3, 14.0], [4, 1, 14.0]]\n",
       "110000013500002    [[3, 9, 5.3214103219], [3, 1, 5.3214103219]]\n",
       "dtype: object"
      ]
     },
     "execution_count": 4,
     "metadata": {},
     "output_type": "execute_result"
    }
   ],
   "source": [
    "data_getter.get_trajectories()\n",
    "data_getter.trajectories.head()"
   ]
  },
  {
   "attachments": {},
   "cell_type": "markdown",
   "metadata": {},
   "source": [
    "### <a id='toc1_1_2_'></a>[Préprocessing des données](#toc0_)"
   ]
  },
  {
   "cell_type": "code",
   "execution_count": 5,
   "metadata": {},
   "outputs": [],
   "source": [
    "data_getter.pad_trajectories()\n",
    "data_getter.distance_standardization()"
   ]
  },
  {
   "attachments": {},
   "cell_type": "markdown",
   "metadata": {},
   "source": [
    "## <a id='toc1_2_'></a>[Embedding des couples (mode, motif)](#toc0_)\n",
    "\n",
    "L'objectif de ce modèle est d'apprendre un plongement sémentique de notre vocabulaire de déplacements.\n",
    "\n",
    "Nous apprenons un modèle équivalent à word2vec : \"un déplacement, définit par le couple (motif, mode), est à une trajectoire, ce qu'un mot est à une phrase\""
   ]
  },
  {
   "attachments": {},
   "cell_type": "markdown",
   "metadata": {},
   "source": [
    "### <a id='toc1_2_1_'></a>[Description du modèle](#toc0_)"
   ]
  },
  {
   "cell_type": "code",
   "execution_count": 6,
   "metadata": {},
   "outputs": [
    {
     "name": "stdout",
     "output_type": "stream",
     "text": [
      "Model: \"sequential\"\n",
      "_________________________________________________________________\n",
      " Layer (type)                Output Shape              Param #   \n",
      "=================================================================\n",
      " embedding (Embedding)       (None, 4, 2)              164       \n",
      "                                                                 \n",
      " global_average_pooling1d (G  (None, 2)                0         \n",
      " lobalAveragePooling1D)                                          \n",
      "                                                                 \n",
      " dense (Dense)               (None, 82)                246       \n",
      "                                                                 \n",
      "=================================================================\n",
      "Total params: 410\n",
      "Trainable params: 410\n",
      "Non-trainable params: 0\n",
      "_________________________________________________________________\n"
     ]
    }
   ],
   "source": [
    "mob2vec = Mob2Vec(data_getter, window_size=2, embedding_dim=2)\n",
    "mob2vec.model.summary()"
   ]
  },
  {
   "attachments": {},
   "cell_type": "markdown",
   "metadata": {},
   "source": [
    "### <a id='toc1_2_2_'></a>[Entrainement du modèle](#toc0_)"
   ]
  },
  {
   "cell_type": "code",
   "execution_count": 7,
   "metadata": {},
   "outputs": [
    {
     "name": "stdout",
     "output_type": "stream",
     "text": [
      "Epoch 1/50\n",
      "97/97 [==============================] - 1s 3ms/step - loss: 4.3150 - val_loss: 4.2097\n",
      "Epoch 2/50\n",
      "97/97 [==============================] - 0s 2ms/step - loss: 4.0734 - val_loss: 3.9058\n",
      "Epoch 3/50\n",
      "97/97 [==============================] - 0s 2ms/step - loss: 3.7245 - val_loss: 3.5151\n",
      "Epoch 4/50\n",
      "97/97 [==============================] - 0s 2ms/step - loss: 3.3315 - val_loss: 3.1229\n",
      "Epoch 5/50\n",
      "97/97 [==============================] - 0s 2ms/step - loss: 2.9717 - val_loss: 2.7923\n",
      "Epoch 6/50\n",
      "97/97 [==============================] - 0s 2ms/step - loss: 2.6910 - val_loss: 2.5516\n",
      "Epoch 7/50\n",
      "97/97 [==============================] - 0s 2ms/step - loss: 2.5031 - val_loss: 2.4042\n",
      "Epoch 8/50\n",
      "97/97 [==============================] - 0s 2ms/step - loss: 2.3967 - val_loss: 2.3248\n",
      "Epoch 9/50\n",
      "97/97 [==============================] - 0s 2ms/step - loss: 2.3397 - val_loss: 2.2806\n",
      "Epoch 10/50\n",
      "97/97 [==============================] - 0s 2ms/step - loss: 2.3061 - val_loss: 2.2531\n",
      "Epoch 11/50\n",
      "97/97 [==============================] - 0s 2ms/step - loss: 2.2830 - val_loss: 2.2329\n",
      "Epoch 12/50\n",
      "97/97 [==============================] - 0s 2ms/step - loss: 2.2650 - val_loss: 2.2167\n",
      "Epoch 13/50\n",
      "97/97 [==============================] - 0s 2ms/step - loss: 2.2497 - val_loss: 2.2023\n",
      "Epoch 14/50\n",
      "97/97 [==============================] - 0s 2ms/step - loss: 2.2357 - val_loss: 2.1889\n",
      "Epoch 15/50\n",
      "97/97 [==============================] - 0s 2ms/step - loss: 2.2220 - val_loss: 2.1754\n",
      "Epoch 16/50\n",
      "97/97 [==============================] - 0s 2ms/step - loss: 2.2079 - val_loss: 2.1611\n",
      "Epoch 17/50\n",
      "97/97 [==============================] - 0s 2ms/step - loss: 2.1927 - val_loss: 2.1453\n",
      "Epoch 18/50\n",
      "97/97 [==============================] - 0s 2ms/step - loss: 2.1759 - val_loss: 2.1278\n",
      "Epoch 19/50\n",
      "97/97 [==============================] - 0s 2ms/step - loss: 2.1570 - val_loss: 2.1082\n",
      "Epoch 20/50\n",
      "97/97 [==============================] - 0s 2ms/step - loss: 2.1361 - val_loss: 2.0867\n",
      "Epoch 21/50\n",
      "97/97 [==============================] - 0s 2ms/step - loss: 2.1135 - val_loss: 2.0637\n",
      "Epoch 22/50\n",
      "97/97 [==============================] - 0s 2ms/step - loss: 2.0902 - val_loss: 2.0403\n",
      "Epoch 23/50\n",
      "97/97 [==============================] - 0s 2ms/step - loss: 2.0670 - val_loss: 2.0178\n",
      "Epoch 24/50\n",
      "97/97 [==============================] - 0s 2ms/step - loss: 2.0452 - val_loss: 1.9968\n",
      "Epoch 25/50\n",
      "97/97 [==============================] - 0s 2ms/step - loss: 2.0255 - val_loss: 1.9784\n",
      "Epoch 26/50\n",
      "97/97 [==============================] - 0s 2ms/step - loss: 2.0085 - val_loss: 1.9626\n",
      "Epoch 27/50\n",
      "97/97 [==============================] - 0s 2ms/step - loss: 1.9942 - val_loss: 1.9495\n",
      "Epoch 28/50\n",
      "97/97 [==============================] - 0s 2ms/step - loss: 1.9823 - val_loss: 1.9386\n",
      "Epoch 29/50\n",
      "97/97 [==============================] - 0s 2ms/step - loss: 1.9727 - val_loss: 1.9296\n",
      "Epoch 30/50\n",
      "97/97 [==============================] - 0s 2ms/step - loss: 1.9649 - val_loss: 1.9224\n",
      "Epoch 31/50\n",
      "97/97 [==============================] - 0s 2ms/step - loss: 1.9585 - val_loss: 1.9164\n",
      "Epoch 32/50\n",
      "97/97 [==============================] - 0s 2ms/step - loss: 1.9533 - val_loss: 1.9116\n",
      "Epoch 33/50\n",
      "97/97 [==============================] - 0s 2ms/step - loss: 1.9490 - val_loss: 1.9076\n",
      "Epoch 34/50\n",
      "97/97 [==============================] - 0s 2ms/step - loss: 1.9455 - val_loss: 1.9042\n",
      "Epoch 35/50\n",
      "97/97 [==============================] - 0s 2ms/step - loss: 1.9424 - val_loss: 1.9013\n",
      "Epoch 36/50\n",
      "97/97 [==============================] - 0s 2ms/step - loss: 1.9399 - val_loss: 1.8989\n",
      "Epoch 37/50\n",
      "97/97 [==============================] - 0s 2ms/step - loss: 1.9376 - val_loss: 1.8967\n",
      "Epoch 38/50\n",
      "97/97 [==============================] - 0s 2ms/step - loss: 1.9356 - val_loss: 1.8948\n",
      "Epoch 39/50\n",
      "97/97 [==============================] - 0s 2ms/step - loss: 1.9338 - val_loss: 1.8932\n",
      "Epoch 40/50\n",
      "97/97 [==============================] - 0s 2ms/step - loss: 1.9321 - val_loss: 1.8917\n",
      "Epoch 41/50\n",
      "97/97 [==============================] - 0s 2ms/step - loss: 1.9306 - val_loss: 1.8902\n",
      "Epoch 42/50\n",
      "97/97 [==============================] - 0s 2ms/step - loss: 1.9292 - val_loss: 1.8888\n",
      "Epoch 43/50\n",
      "97/97 [==============================] - 0s 2ms/step - loss: 1.9278 - val_loss: 1.8875\n",
      "Epoch 44/50\n",
      "97/97 [==============================] - 0s 2ms/step - loss: 1.9265 - val_loss: 1.8864\n",
      "Epoch 45/50\n",
      "97/97 [==============================] - 0s 2ms/step - loss: 1.9253 - val_loss: 1.8852\n",
      "Epoch 46/50\n",
      "97/97 [==============================] - 0s 2ms/step - loss: 1.9241 - val_loss: 1.8842\n",
      "Epoch 47/50\n",
      "97/97 [==============================] - 0s 2ms/step - loss: 1.9229 - val_loss: 1.8832\n",
      "Epoch 48/50\n",
      "97/97 [==============================] - 0s 2ms/step - loss: 1.9219 - val_loss: 1.8821\n",
      "Epoch 49/50\n",
      "97/97 [==============================] - 0s 2ms/step - loss: 1.9208 - val_loss: 1.8810\n",
      "Epoch 50/50\n",
      "97/97 [==============================] - 0s 2ms/step - loss: 1.9197 - val_loss: 1.8800\n"
     ]
    }
   ],
   "source": [
    "mob2vec.fit(test_size=0.1, batch_size=500, epochs=30)"
   ]
  },
  {
   "cell_type": "code",
   "execution_count": 8,
   "metadata": {},
   "outputs": [
    {
     "data": {
      "application/vnd.plotly.v1+json": {
       "config": {
        "plotlyServerURL": "https://plot.ly"
       },
       "data": [
        {
         "hovertemplate": "variable=loss<br>epochs=%{x}<br>loss=%{y}<extra></extra>",
         "legendgroup": "loss",
         "line": {
          "color": "#636efa",
          "dash": "solid"
         },
         "marker": {
          "symbol": "circle"
         },
         "mode": "lines",
         "name": "loss",
         "orientation": "v",
         "showlegend": true,
         "type": "scatter",
         "x": [
          0,
          1,
          2,
          3,
          4,
          5,
          6,
          7,
          8,
          9,
          10,
          11,
          12,
          13,
          14,
          15,
          16,
          17,
          18,
          19,
          20,
          21,
          22,
          23,
          24,
          25,
          26,
          27,
          28,
          29,
          30,
          31,
          32,
          33,
          34,
          35,
          36,
          37,
          38,
          39,
          40,
          41,
          42,
          43,
          44,
          45,
          46,
          47,
          48,
          49
         ],
         "xaxis": "x",
         "y": [
          4.314950942993164,
          4.073441505432129,
          3.72448992729187,
          3.3315036296844482,
          2.9716804027557373,
          2.6909523010253906,
          2.5031368732452393,
          2.396712303161621,
          2.339716672897339,
          2.3060779571533203,
          2.2829649448394775,
          2.264979362487793,
          2.249683141708374,
          2.2356765270233154,
          2.221986770629883,
          2.2078704833984375,
          2.1926887035369873,
          2.1758508682250977,
          2.1570024490356445,
          2.136129856109619,
          2.1135456562042236,
          2.0901849269866943,
          2.066988468170166,
          2.0452029705047607,
          2.0255424976348877,
          2.0085461139678955,
          1.9941803216934204,
          1.982338786125183,
          1.97269606590271,
          1.9648586511611938,
          1.9585065841674805,
          1.953318476676941,
          1.9490123987197876,
          1.9454710483551025,
          1.9424265623092651,
          1.939866065979004,
          1.937557578086853,
          1.9355829954147339,
          1.9337557554244995,
          1.9321413040161133,
          1.9305858612060547,
          1.9291690587997437,
          1.9278335571289062,
          1.9265447854995728,
          1.9253156185150146,
          1.9241353273391724,
          1.9229192733764648,
          1.921878695487976,
          1.9207513332366943,
          1.9196516275405884
         ],
         "yaxis": "y"
        },
        {
         "hovertemplate": "variable=val_loss<br>epochs=%{x}<br>loss=%{y}<extra></extra>",
         "legendgroup": "val_loss",
         "line": {
          "color": "#EF553B",
          "dash": "solid"
         },
         "marker": {
          "symbol": "circle"
         },
         "mode": "lines",
         "name": "val_loss",
         "orientation": "v",
         "showlegend": true,
         "type": "scatter",
         "x": [
          0,
          1,
          2,
          3,
          4,
          5,
          6,
          7,
          8,
          9,
          10,
          11,
          12,
          13,
          14,
          15,
          16,
          17,
          18,
          19,
          20,
          21,
          22,
          23,
          24,
          25,
          26,
          27,
          28,
          29,
          30,
          31,
          32,
          33,
          34,
          35,
          36,
          37,
          38,
          39,
          40,
          41,
          42,
          43,
          44,
          45,
          46,
          47,
          48,
          49
         ],
         "xaxis": "x",
         "y": [
          4.209676265716553,
          3.905783176422119,
          3.515096426010132,
          3.1228678226470947,
          2.7923245429992676,
          2.5515825748443604,
          2.4041647911071777,
          2.324779987335205,
          2.2806429862976074,
          2.253082275390625,
          2.2329282760620117,
          2.21665096282959,
          2.202336549758911,
          2.1888651847839355,
          2.1753737926483154,
          2.1611130237579346,
          2.1453452110290527,
          2.127817392349243,
          2.108159065246582,
          2.0867109298706055,
          2.063748598098755,
          2.0403025150299072,
          2.017849922180176,
          1.9968132972717285,
          1.9784332513809204,
          1.9626200199127197,
          1.949513554573059,
          1.9385550022125244,
          1.9295679330825806,
          1.9224070310592651,
          1.9164454936981201,
          1.9115684032440186,
          1.907565951347351,
          1.9042493104934692,
          1.9013432264328003,
          1.8988555669784546,
          1.8967406749725342,
          1.8948462009429932,
          1.893179178237915,
          1.8916971683502197,
          1.8901759386062622,
          1.8888295888900757,
          1.8875327110290527,
          1.8863787651062012,
          1.8852146863937378,
          1.8841687440872192,
          1.8831751346588135,
          1.8820539712905884,
          1.8810125589370728,
          1.8800325393676758
         ],
         "yaxis": "y"
        }
       ],
       "layout": {
        "legend": {
         "title": {
          "text": "variable"
         },
         "tracegroupgap": 0
        },
        "margin": {
         "t": 60
        },
        "template": {
         "data": {
          "bar": [
           {
            "error_x": {
             "color": "#2a3f5f"
            },
            "error_y": {
             "color": "#2a3f5f"
            },
            "marker": {
             "line": {
              "color": "white",
              "width": 0.5
             },
             "pattern": {
              "fillmode": "overlay",
              "size": 10,
              "solidity": 0.2
             }
            },
            "type": "bar"
           }
          ],
          "barpolar": [
           {
            "marker": {
             "line": {
              "color": "white",
              "width": 0.5
             },
             "pattern": {
              "fillmode": "overlay",
              "size": 10,
              "solidity": 0.2
             }
            },
            "type": "barpolar"
           }
          ],
          "carpet": [
           {
            "aaxis": {
             "endlinecolor": "#2a3f5f",
             "gridcolor": "#C8D4E3",
             "linecolor": "#C8D4E3",
             "minorgridcolor": "#C8D4E3",
             "startlinecolor": "#2a3f5f"
            },
            "baxis": {
             "endlinecolor": "#2a3f5f",
             "gridcolor": "#C8D4E3",
             "linecolor": "#C8D4E3",
             "minorgridcolor": "#C8D4E3",
             "startlinecolor": "#2a3f5f"
            },
            "type": "carpet"
           }
          ],
          "choropleth": [
           {
            "colorbar": {
             "outlinewidth": 0,
             "ticks": ""
            },
            "type": "choropleth"
           }
          ],
          "contour": [
           {
            "colorbar": {
             "outlinewidth": 0,
             "ticks": ""
            },
            "colorscale": [
             [
              0,
              "#0d0887"
             ],
             [
              0.1111111111111111,
              "#46039f"
             ],
             [
              0.2222222222222222,
              "#7201a8"
             ],
             [
              0.3333333333333333,
              "#9c179e"
             ],
             [
              0.4444444444444444,
              "#bd3786"
             ],
             [
              0.5555555555555556,
              "#d8576b"
             ],
             [
              0.6666666666666666,
              "#ed7953"
             ],
             [
              0.7777777777777778,
              "#fb9f3a"
             ],
             [
              0.8888888888888888,
              "#fdca26"
             ],
             [
              1,
              "#f0f921"
             ]
            ],
            "type": "contour"
           }
          ],
          "contourcarpet": [
           {
            "colorbar": {
             "outlinewidth": 0,
             "ticks": ""
            },
            "type": "contourcarpet"
           }
          ],
          "heatmap": [
           {
            "colorbar": {
             "outlinewidth": 0,
             "ticks": ""
            },
            "colorscale": [
             [
              0,
              "#0d0887"
             ],
             [
              0.1111111111111111,
              "#46039f"
             ],
             [
              0.2222222222222222,
              "#7201a8"
             ],
             [
              0.3333333333333333,
              "#9c179e"
             ],
             [
              0.4444444444444444,
              "#bd3786"
             ],
             [
              0.5555555555555556,
              "#d8576b"
             ],
             [
              0.6666666666666666,
              "#ed7953"
             ],
             [
              0.7777777777777778,
              "#fb9f3a"
             ],
             [
              0.8888888888888888,
              "#fdca26"
             ],
             [
              1,
              "#f0f921"
             ]
            ],
            "type": "heatmap"
           }
          ],
          "heatmapgl": [
           {
            "colorbar": {
             "outlinewidth": 0,
             "ticks": ""
            },
            "colorscale": [
             [
              0,
              "#0d0887"
             ],
             [
              0.1111111111111111,
              "#46039f"
             ],
             [
              0.2222222222222222,
              "#7201a8"
             ],
             [
              0.3333333333333333,
              "#9c179e"
             ],
             [
              0.4444444444444444,
              "#bd3786"
             ],
             [
              0.5555555555555556,
              "#d8576b"
             ],
             [
              0.6666666666666666,
              "#ed7953"
             ],
             [
              0.7777777777777778,
              "#fb9f3a"
             ],
             [
              0.8888888888888888,
              "#fdca26"
             ],
             [
              1,
              "#f0f921"
             ]
            ],
            "type": "heatmapgl"
           }
          ],
          "histogram": [
           {
            "marker": {
             "pattern": {
              "fillmode": "overlay",
              "size": 10,
              "solidity": 0.2
             }
            },
            "type": "histogram"
           }
          ],
          "histogram2d": [
           {
            "colorbar": {
             "outlinewidth": 0,
             "ticks": ""
            },
            "colorscale": [
             [
              0,
              "#0d0887"
             ],
             [
              0.1111111111111111,
              "#46039f"
             ],
             [
              0.2222222222222222,
              "#7201a8"
             ],
             [
              0.3333333333333333,
              "#9c179e"
             ],
             [
              0.4444444444444444,
              "#bd3786"
             ],
             [
              0.5555555555555556,
              "#d8576b"
             ],
             [
              0.6666666666666666,
              "#ed7953"
             ],
             [
              0.7777777777777778,
              "#fb9f3a"
             ],
             [
              0.8888888888888888,
              "#fdca26"
             ],
             [
              1,
              "#f0f921"
             ]
            ],
            "type": "histogram2d"
           }
          ],
          "histogram2dcontour": [
           {
            "colorbar": {
             "outlinewidth": 0,
             "ticks": ""
            },
            "colorscale": [
             [
              0,
              "#0d0887"
             ],
             [
              0.1111111111111111,
              "#46039f"
             ],
             [
              0.2222222222222222,
              "#7201a8"
             ],
             [
              0.3333333333333333,
              "#9c179e"
             ],
             [
              0.4444444444444444,
              "#bd3786"
             ],
             [
              0.5555555555555556,
              "#d8576b"
             ],
             [
              0.6666666666666666,
              "#ed7953"
             ],
             [
              0.7777777777777778,
              "#fb9f3a"
             ],
             [
              0.8888888888888888,
              "#fdca26"
             ],
             [
              1,
              "#f0f921"
             ]
            ],
            "type": "histogram2dcontour"
           }
          ],
          "mesh3d": [
           {
            "colorbar": {
             "outlinewidth": 0,
             "ticks": ""
            },
            "type": "mesh3d"
           }
          ],
          "parcoords": [
           {
            "line": {
             "colorbar": {
              "outlinewidth": 0,
              "ticks": ""
             }
            },
            "type": "parcoords"
           }
          ],
          "pie": [
           {
            "automargin": true,
            "type": "pie"
           }
          ],
          "scatter": [
           {
            "fillpattern": {
             "fillmode": "overlay",
             "size": 10,
             "solidity": 0.2
            },
            "type": "scatter"
           }
          ],
          "scatter3d": [
           {
            "line": {
             "colorbar": {
              "outlinewidth": 0,
              "ticks": ""
             }
            },
            "marker": {
             "colorbar": {
              "outlinewidth": 0,
              "ticks": ""
             }
            },
            "type": "scatter3d"
           }
          ],
          "scattercarpet": [
           {
            "marker": {
             "colorbar": {
              "outlinewidth": 0,
              "ticks": ""
             }
            },
            "type": "scattercarpet"
           }
          ],
          "scattergeo": [
           {
            "marker": {
             "colorbar": {
              "outlinewidth": 0,
              "ticks": ""
             }
            },
            "type": "scattergeo"
           }
          ],
          "scattergl": [
           {
            "marker": {
             "colorbar": {
              "outlinewidth": 0,
              "ticks": ""
             }
            },
            "type": "scattergl"
           }
          ],
          "scattermapbox": [
           {
            "marker": {
             "colorbar": {
              "outlinewidth": 0,
              "ticks": ""
             }
            },
            "type": "scattermapbox"
           }
          ],
          "scatterpolar": [
           {
            "marker": {
             "colorbar": {
              "outlinewidth": 0,
              "ticks": ""
             }
            },
            "type": "scatterpolar"
           }
          ],
          "scatterpolargl": [
           {
            "marker": {
             "colorbar": {
              "outlinewidth": 0,
              "ticks": ""
             }
            },
            "type": "scatterpolargl"
           }
          ],
          "scatterternary": [
           {
            "marker": {
             "colorbar": {
              "outlinewidth": 0,
              "ticks": ""
             }
            },
            "type": "scatterternary"
           }
          ],
          "surface": [
           {
            "colorbar": {
             "outlinewidth": 0,
             "ticks": ""
            },
            "colorscale": [
             [
              0,
              "#0d0887"
             ],
             [
              0.1111111111111111,
              "#46039f"
             ],
             [
              0.2222222222222222,
              "#7201a8"
             ],
             [
              0.3333333333333333,
              "#9c179e"
             ],
             [
              0.4444444444444444,
              "#bd3786"
             ],
             [
              0.5555555555555556,
              "#d8576b"
             ],
             [
              0.6666666666666666,
              "#ed7953"
             ],
             [
              0.7777777777777778,
              "#fb9f3a"
             ],
             [
              0.8888888888888888,
              "#fdca26"
             ],
             [
              1,
              "#f0f921"
             ]
            ],
            "type": "surface"
           }
          ],
          "table": [
           {
            "cells": {
             "fill": {
              "color": "#EBF0F8"
             },
             "line": {
              "color": "white"
             }
            },
            "header": {
             "fill": {
              "color": "#C8D4E3"
             },
             "line": {
              "color": "white"
             }
            },
            "type": "table"
           }
          ]
         },
         "layout": {
          "annotationdefaults": {
           "arrowcolor": "#2a3f5f",
           "arrowhead": 0,
           "arrowwidth": 1
          },
          "autotypenumbers": "strict",
          "coloraxis": {
           "colorbar": {
            "outlinewidth": 0,
            "ticks": ""
           }
          },
          "colorscale": {
           "diverging": [
            [
             0,
             "#8e0152"
            ],
            [
             0.1,
             "#c51b7d"
            ],
            [
             0.2,
             "#de77ae"
            ],
            [
             0.3,
             "#f1b6da"
            ],
            [
             0.4,
             "#fde0ef"
            ],
            [
             0.5,
             "#f7f7f7"
            ],
            [
             0.6,
             "#e6f5d0"
            ],
            [
             0.7,
             "#b8e186"
            ],
            [
             0.8,
             "#7fbc41"
            ],
            [
             0.9,
             "#4d9221"
            ],
            [
             1,
             "#276419"
            ]
           ],
           "sequential": [
            [
             0,
             "#0d0887"
            ],
            [
             0.1111111111111111,
             "#46039f"
            ],
            [
             0.2222222222222222,
             "#7201a8"
            ],
            [
             0.3333333333333333,
             "#9c179e"
            ],
            [
             0.4444444444444444,
             "#bd3786"
            ],
            [
             0.5555555555555556,
             "#d8576b"
            ],
            [
             0.6666666666666666,
             "#ed7953"
            ],
            [
             0.7777777777777778,
             "#fb9f3a"
            ],
            [
             0.8888888888888888,
             "#fdca26"
            ],
            [
             1,
             "#f0f921"
            ]
           ],
           "sequentialminus": [
            [
             0,
             "#0d0887"
            ],
            [
             0.1111111111111111,
             "#46039f"
            ],
            [
             0.2222222222222222,
             "#7201a8"
            ],
            [
             0.3333333333333333,
             "#9c179e"
            ],
            [
             0.4444444444444444,
             "#bd3786"
            ],
            [
             0.5555555555555556,
             "#d8576b"
            ],
            [
             0.6666666666666666,
             "#ed7953"
            ],
            [
             0.7777777777777778,
             "#fb9f3a"
            ],
            [
             0.8888888888888888,
             "#fdca26"
            ],
            [
             1,
             "#f0f921"
            ]
           ]
          },
          "colorway": [
           "#636efa",
           "#EF553B",
           "#00cc96",
           "#ab63fa",
           "#FFA15A",
           "#19d3f3",
           "#FF6692",
           "#B6E880",
           "#FF97FF",
           "#FECB52"
          ],
          "font": {
           "color": "#2a3f5f"
          },
          "geo": {
           "bgcolor": "white",
           "lakecolor": "white",
           "landcolor": "white",
           "showlakes": true,
           "showland": true,
           "subunitcolor": "#C8D4E3"
          },
          "hoverlabel": {
           "align": "left"
          },
          "hovermode": "closest",
          "mapbox": {
           "style": "light"
          },
          "paper_bgcolor": "white",
          "plot_bgcolor": "white",
          "polar": {
           "angularaxis": {
            "gridcolor": "#EBF0F8",
            "linecolor": "#EBF0F8",
            "ticks": ""
           },
           "bgcolor": "white",
           "radialaxis": {
            "gridcolor": "#EBF0F8",
            "linecolor": "#EBF0F8",
            "ticks": ""
           }
          },
          "scene": {
           "xaxis": {
            "backgroundcolor": "white",
            "gridcolor": "#DFE8F3",
            "gridwidth": 2,
            "linecolor": "#EBF0F8",
            "showbackground": true,
            "ticks": "",
            "zerolinecolor": "#EBF0F8"
           },
           "yaxis": {
            "backgroundcolor": "white",
            "gridcolor": "#DFE8F3",
            "gridwidth": 2,
            "linecolor": "#EBF0F8",
            "showbackground": true,
            "ticks": "",
            "zerolinecolor": "#EBF0F8"
           },
           "zaxis": {
            "backgroundcolor": "white",
            "gridcolor": "#DFE8F3",
            "gridwidth": 2,
            "linecolor": "#EBF0F8",
            "showbackground": true,
            "ticks": "",
            "zerolinecolor": "#EBF0F8"
           }
          },
          "shapedefaults": {
           "line": {
            "color": "#2a3f5f"
           }
          },
          "ternary": {
           "aaxis": {
            "gridcolor": "#DFE8F3",
            "linecolor": "#A2B1C6",
            "ticks": ""
           },
           "baxis": {
            "gridcolor": "#DFE8F3",
            "linecolor": "#A2B1C6",
            "ticks": ""
           },
           "bgcolor": "white",
           "caxis": {
            "gridcolor": "#DFE8F3",
            "linecolor": "#A2B1C6",
            "ticks": ""
           }
          },
          "title": {
           "x": 0.05
          },
          "xaxis": {
           "automargin": true,
           "gridcolor": "#EBF0F8",
           "linecolor": "#EBF0F8",
           "ticks": "",
           "title": {
            "standoff": 15
           },
           "zerolinecolor": "#EBF0F8",
           "zerolinewidth": 2
          },
          "yaxis": {
           "automargin": true,
           "gridcolor": "#EBF0F8",
           "linecolor": "#EBF0F8",
           "ticks": "",
           "title": {
            "standoff": 15
           },
           "zerolinecolor": "#EBF0F8",
           "zerolinewidth": 2
          }
         }
        },
        "xaxis": {
         "anchor": "y",
         "domain": [
          0,
          1
         ],
         "title": {
          "text": "epochs"
         }
        },
        "yaxis": {
         "anchor": "x",
         "domain": [
          0,
          1
         ],
         "title": {
          "text": "loss"
         }
        }
       }
      }
     },
     "metadata": {},
     "output_type": "display_data"
    }
   ],
   "source": [
    "px.line(\n",
    "    pd.DataFrame(mob2vec.history.history),\n",
    "    template=\"plotly_white\",\n",
    "    labels={\"index\": \"epochs\", \"value\": \"loss\"},\n",
    ")"
   ]
  },
  {
   "attachments": {},
   "cell_type": "markdown",
   "metadata": {},
   "source": [
    "### <a id='toc1_2_3_'></a>[Data viz des 2 premières dimensions de l'emmbedings](#toc0_)"
   ]
  },
  {
   "cell_type": "code",
   "execution_count": 9,
   "metadata": {},
   "outputs": [
    {
     "data": {
      "application/vnd.plotly.v1+json": {
       "config": {
        "plotlyServerURL": "https://plot.ly"
       },
       "data": [
        {
         "hovertemplate": "Motif=<pad><br>Mode=<pad><br>dim 1=%{x}<br>dim 2=%{y}<extra></extra>",
         "legendgroup": "<pad>, <pad>",
         "marker": {
          "color": "#636efa",
          "symbol": "circle"
         },
         "mode": "markers",
         "name": "<pad>, <pad>",
         "orientation": "v",
         "showlegend": true,
         "type": "scatter",
         "x": [
          1.251664638519287
         ],
         "xaxis": "x",
         "y": [
          1.7005332708358765
         ],
         "yaxis": "y"
        },
        {
         "hovertemplate": "Motif=3<br>Mode=1<br>dim 1=%{x}<br>dim 2=%{y}<extra></extra>",
         "legendgroup": "3, 1",
         "marker": {
          "color": "#EF553B",
          "symbol": "diamond"
         },
         "mode": "markers",
         "name": "3, 1",
         "orientation": "v",
         "showlegend": true,
         "type": "scatter",
         "x": [
          -1.3207191228866577
         ],
         "xaxis": "x",
         "y": [
          0.6249681711196899
         ],
         "yaxis": "y"
        },
        {
         "hovertemplate": "Motif=3<br>Mode=5<br>dim 1=%{x}<br>dim 2=%{y}<extra></extra>",
         "legendgroup": "3, 5",
         "marker": {
          "color": "#EF553B",
          "symbol": "square"
         },
         "mode": "markers",
         "name": "3, 5",
         "orientation": "v",
         "showlegend": true,
         "type": "scatter",
         "x": [
          -1.5564510822296143
         ],
         "xaxis": "x",
         "y": [
          0.48028722405433655
         ],
         "yaxis": "y"
        },
        {
         "hovertemplate": "Motif=3<br>Mode=3<br>dim 1=%{x}<br>dim 2=%{y}<extra></extra>",
         "legendgroup": "3, 3",
         "marker": {
          "color": "#EF553B",
          "symbol": "x"
         },
         "mode": "markers",
         "name": "3, 3",
         "orientation": "v",
         "showlegend": true,
         "type": "scatter",
         "x": [
          1.9775665998458862
         ],
         "xaxis": "x",
         "y": [
          -0.8584222793579102
         ],
         "yaxis": "y"
        },
        {
         "hovertemplate": "Motif=3<br>Mode=2<br>dim 1=%{x}<br>dim 2=%{y}<extra></extra>",
         "legendgroup": "3, 2",
         "marker": {
          "color": "#EF553B",
          "symbol": "cross"
         },
         "mode": "markers",
         "name": "3, 2",
         "orientation": "v",
         "showlegend": true,
         "type": "scatter",
         "x": [
          -0.9182211756706238
         ],
         "xaxis": "x",
         "y": [
          -1.0743536949157715
         ],
         "yaxis": "y"
        },
        {
         "hovertemplate": "Motif=3<br>Mode=4<br>dim 1=%{x}<br>dim 2=%{y}<extra></extra>",
         "legendgroup": "3, 4",
         "marker": {
          "color": "#EF553B",
          "symbol": "circle"
         },
         "mode": "markers",
         "name": "3, 4",
         "orientation": "v",
         "showlegend": true,
         "type": "scatter",
         "x": [
          -0.5517576336860657
         ],
         "xaxis": "x",
         "y": [
          -0.05826907604932785
         ],
         "yaxis": "y"
        },
        {
         "hovertemplate": "Motif=3<br>Mode=9<br>dim 1=%{x}<br>dim 2=%{y}<extra></extra>",
         "legendgroup": "3, 9",
         "marker": {
          "color": "#EF553B",
          "symbol": "diamond"
         },
         "mode": "markers",
         "name": "3, 9",
         "orientation": "v",
         "showlegend": true,
         "type": "scatter",
         "x": [
          -0.3142421245574951
         ],
         "xaxis": "x",
         "y": [
          -0.09989237785339355
         ],
         "yaxis": "y"
        },
        {
         "hovertemplate": "Motif=3<br>Mode=6<br>dim 1=%{x}<br>dim 2=%{y}<extra></extra>",
         "legendgroup": "3, 6",
         "marker": {
          "color": "#EF553B",
          "symbol": "square"
         },
         "mode": "markers",
         "name": "3, 6",
         "orientation": "v",
         "showlegend": true,
         "type": "scatter",
         "x": [
          -0.5393682718276978
         ],
         "xaxis": "x",
         "y": [
          -0.5834324955940247
         ],
         "yaxis": "y"
        },
        {
         "hovertemplate": "Motif=3<br>Mode=8<br>dim 1=%{x}<br>dim 2=%{y}<extra></extra>",
         "legendgroup": "3, 8",
         "marker": {
          "color": "#EF553B",
          "symbol": "x"
         },
         "mode": "markers",
         "name": "3, 8",
         "orientation": "v",
         "showlegend": true,
         "type": "scatter",
         "x": [
          -0.05656042322516441
         ],
         "xaxis": "x",
         "y": [
          -0.05945887044072151
         ],
         "yaxis": "y"
        },
        {
         "hovertemplate": "Motif=3<br>Mode=7<br>dim 1=%{x}<br>dim 2=%{y}<extra></extra>",
         "legendgroup": "3, 7",
         "marker": {
          "color": "#EF553B",
          "symbol": "cross"
         },
         "mode": "markers",
         "name": "3, 7",
         "orientation": "v",
         "showlegend": true,
         "type": "scatter",
         "x": [
          0.12057846039533615
         ],
         "xaxis": "x",
         "y": [
          -0.09439978748559952
         ],
         "yaxis": "y"
        },
        {
         "hovertemplate": "Motif=1<br>Mode=1<br>dim 1=%{x}<br>dim 2=%{y}<extra></extra>",
         "legendgroup": "1, 1",
         "marker": {
          "color": "#00cc96",
          "symbol": "diamond"
         },
         "mode": "markers",
         "name": "1, 1",
         "orientation": "v",
         "showlegend": true,
         "type": "scatter",
         "x": [
          -0.4137645661830902
         ],
         "xaxis": "x",
         "y": [
          1.922290563583374
         ],
         "yaxis": "y"
        },
        {
         "hovertemplate": "Motif=1<br>Mode=5<br>dim 1=%{x}<br>dim 2=%{y}<extra></extra>",
         "legendgroup": "1, 5",
         "marker": {
          "color": "#00cc96",
          "symbol": "square"
         },
         "mode": "markers",
         "name": "1, 5",
         "orientation": "v",
         "showlegend": true,
         "type": "scatter",
         "x": [
          -1.161081075668335
         ],
         "xaxis": "x",
         "y": [
          2.2759389877319336
         ],
         "yaxis": "y"
        },
        {
         "hovertemplate": "Motif=1<br>Mode=3<br>dim 1=%{x}<br>dim 2=%{y}<extra></extra>",
         "legendgroup": "1, 3",
         "marker": {
          "color": "#00cc96",
          "symbol": "x"
         },
         "mode": "markers",
         "name": "1, 3",
         "orientation": "v",
         "showlegend": true,
         "type": "scatter",
         "x": [
          1.9003324508666992
         ],
         "xaxis": "x",
         "y": [
          1.4573009014129639
         ],
         "yaxis": "y"
        },
        {
         "hovertemplate": "Motif=1<br>Mode=2<br>dim 1=%{x}<br>dim 2=%{y}<extra></extra>",
         "legendgroup": "1, 2",
         "marker": {
          "color": "#00cc96",
          "symbol": "cross"
         },
         "mode": "markers",
         "name": "1, 2",
         "orientation": "v",
         "showlegend": true,
         "type": "scatter",
         "x": [
          -0.4639139771461487
         ],
         "xaxis": "x",
         "y": [
          1.2610230445861816
         ],
         "yaxis": "y"
        },
        {
         "hovertemplate": "Motif=1<br>Mode=4<br>dim 1=%{x}<br>dim 2=%{y}<extra></extra>",
         "legendgroup": "1, 4",
         "marker": {
          "color": "#00cc96",
          "symbol": "circle"
         },
         "mode": "markers",
         "name": "1, 4",
         "orientation": "v",
         "showlegend": true,
         "type": "scatter",
         "x": [
          -0.3128577470779419
         ],
         "xaxis": "x",
         "y": [
          0.4768190085887909
         ],
         "yaxis": "y"
        },
        {
         "hovertemplate": "Motif=1<br>Mode=9<br>dim 1=%{x}<br>dim 2=%{y}<extra></extra>",
         "legendgroup": "1, 9",
         "marker": {
          "color": "#00cc96",
          "symbol": "diamond"
         },
         "mode": "markers",
         "name": "1, 9",
         "orientation": "v",
         "showlegend": true,
         "type": "scatter",
         "x": [
          -0.3260805010795593
         ],
         "xaxis": "x",
         "y": [
          0.2029348611831665
         ],
         "yaxis": "y"
        },
        {
         "hovertemplate": "Motif=1<br>Mode=6<br>dim 1=%{x}<br>dim 2=%{y}<extra></extra>",
         "legendgroup": "1, 6",
         "marker": {
          "color": "#00cc96",
          "symbol": "square"
         },
         "mode": "markers",
         "name": "1, 6",
         "orientation": "v",
         "showlegend": true,
         "type": "scatter",
         "x": [
          -0.4699847400188446
         ],
         "xaxis": "x",
         "y": [
          -0.14810411632061005
         ],
         "yaxis": "y"
        },
        {
         "hovertemplate": "Motif=1<br>Mode=8<br>dim 1=%{x}<br>dim 2=%{y}<extra></extra>",
         "legendgroup": "1, 8",
         "marker": {
          "color": "#00cc96",
          "symbol": "x"
         },
         "mode": "markers",
         "name": "1, 8",
         "orientation": "v",
         "showlegend": true,
         "type": "scatter",
         "x": [
          0.21592476963996887
         ],
         "xaxis": "x",
         "y": [
          0.590318500995636
         ],
         "yaxis": "y"
        },
        {
         "hovertemplate": "Motif=1<br>Mode=7<br>dim 1=%{x}<br>dim 2=%{y}<extra></extra>",
         "legendgroup": "1, 7",
         "marker": {
          "color": "#00cc96",
          "symbol": "cross"
         },
         "mode": "markers",
         "name": "1, 7",
         "orientation": "v",
         "showlegend": true,
         "type": "scatter",
         "x": [
          0.03324328362941742
         ],
         "xaxis": "x",
         "y": [
          -0.0016936463071033359
         ],
         "yaxis": "y"
        },
        {
         "hovertemplate": "Motif=2<br>Mode=1<br>dim 1=%{x}<br>dim 2=%{y}<extra></extra>",
         "legendgroup": "2, 1",
         "marker": {
          "color": "#ab63fa",
          "symbol": "diamond"
         },
         "mode": "markers",
         "name": "2, 1",
         "orientation": "v",
         "showlegend": true,
         "type": "scatter",
         "x": [
          -1.4435663223266602
         ],
         "xaxis": "x",
         "y": [
          0.7027546763420105
         ],
         "yaxis": "y"
        },
        {
         "hovertemplate": "Motif=2<br>Mode=5<br>dim 1=%{x}<br>dim 2=%{y}<extra></extra>",
         "legendgroup": "2, 5",
         "marker": {
          "color": "#ab63fa",
          "symbol": "square"
         },
         "mode": "markers",
         "name": "2, 5",
         "orientation": "v",
         "showlegend": true,
         "type": "scatter",
         "x": [
          -2.2178962230682373
         ],
         "xaxis": "x",
         "y": [
          0.5333285927772522
         ],
         "yaxis": "y"
        },
        {
         "hovertemplate": "Motif=2<br>Mode=3<br>dim 1=%{x}<br>dim 2=%{y}<extra></extra>",
         "legendgroup": "2, 3",
         "marker": {
          "color": "#ab63fa",
          "symbol": "x"
         },
         "mode": "markers",
         "name": "2, 3",
         "orientation": "v",
         "showlegend": true,
         "type": "scatter",
         "x": [
          2.076502799987793
         ],
         "xaxis": "x",
         "y": [
          -1.0103791952133179
         ],
         "yaxis": "y"
        },
        {
         "hovertemplate": "Motif=2<br>Mode=2<br>dim 1=%{x}<br>dim 2=%{y}<extra></extra>",
         "legendgroup": "2, 2",
         "marker": {
          "color": "#ab63fa",
          "symbol": "cross"
         },
         "mode": "markers",
         "name": "2, 2",
         "orientation": "v",
         "showlegend": true,
         "type": "scatter",
         "x": [
          -1.235061526298523
         ],
         "xaxis": "x",
         "y": [
          -0.7002427577972412
         ],
         "yaxis": "y"
        },
        {
         "hovertemplate": "Motif=2<br>Mode=4<br>dim 1=%{x}<br>dim 2=%{y}<extra></extra>",
         "legendgroup": "2, 4",
         "marker": {
          "color": "#ab63fa",
          "symbol": "circle"
         },
         "mode": "markers",
         "name": "2, 4",
         "orientation": "v",
         "showlegend": true,
         "type": "scatter",
         "x": [
          -0.3769240081310272
         ],
         "xaxis": "x",
         "y": [
          -0.27477481961250305
         ],
         "yaxis": "y"
        },
        {
         "hovertemplate": "Motif=2<br>Mode=9<br>dim 1=%{x}<br>dim 2=%{y}<extra></extra>",
         "legendgroup": "2, 9",
         "marker": {
          "color": "#ab63fa",
          "symbol": "diamond"
         },
         "mode": "markers",
         "name": "2, 9",
         "orientation": "v",
         "showlegend": true,
         "type": "scatter",
         "x": [
          -0.24115978181362152
         ],
         "xaxis": "x",
         "y": [
          -0.6872935891151428
         ],
         "yaxis": "y"
        },
        {
         "hovertemplate": "Motif=2<br>Mode=6<br>dim 1=%{x}<br>dim 2=%{y}<extra></extra>",
         "legendgroup": "2, 6",
         "marker": {
          "color": "#ab63fa",
          "symbol": "square"
         },
         "mode": "markers",
         "name": "2, 6",
         "orientation": "v",
         "showlegend": true,
         "type": "scatter",
         "x": [
          -0.048596348613500595
         ],
         "xaxis": "x",
         "y": [
          -0.1734408438205719
         ],
         "yaxis": "y"
        },
        {
         "hovertemplate": "Motif=2<br>Mode=8<br>dim 1=%{x}<br>dim 2=%{y}<extra></extra>",
         "legendgroup": "2, 8",
         "marker": {
          "color": "#ab63fa",
          "symbol": "x"
         },
         "mode": "markers",
         "name": "2, 8",
         "orientation": "v",
         "showlegend": true,
         "type": "scatter",
         "x": [
          -0.010981965810060501
         ],
         "xaxis": "x",
         "y": [
          -0.028729034587740898
         ],
         "yaxis": "y"
        },
        {
         "hovertemplate": "Motif=2<br>Mode=7<br>dim 1=%{x}<br>dim 2=%{y}<extra></extra>",
         "legendgroup": "2, 7",
         "marker": {
          "color": "#ab63fa",
          "symbol": "cross"
         },
         "mode": "markers",
         "name": "2, 7",
         "orientation": "v",
         "showlegend": true,
         "type": "scatter",
         "x": [
          0.04763949662446976
         ],
         "xaxis": "x",
         "y": [
          -0.041325055062770844
         ],
         "yaxis": "y"
        },
        {
         "hovertemplate": "Motif=9<br>Mode=1<br>dim 1=%{x}<br>dim 2=%{y}<extra></extra>",
         "legendgroup": "9, 1",
         "marker": {
          "color": "#FFA15A",
          "symbol": "diamond"
         },
         "mode": "markers",
         "name": "9, 1",
         "orientation": "v",
         "showlegend": true,
         "type": "scatter",
         "x": [
          -0.9013703465461731
         ],
         "xaxis": "x",
         "y": [
          0.040221765637397766
         ],
         "yaxis": "y"
        },
        {
         "hovertemplate": "Motif=9<br>Mode=5<br>dim 1=%{x}<br>dim 2=%{y}<extra></extra>",
         "legendgroup": "9, 5",
         "marker": {
          "color": "#FFA15A",
          "symbol": "square"
         },
         "mode": "markers",
         "name": "9, 5",
         "orientation": "v",
         "showlegend": true,
         "type": "scatter",
         "x": [
          -2.0869908332824707
         ],
         "xaxis": "x",
         "y": [
          0.9028321504592896
         ],
         "yaxis": "y"
        },
        {
         "hovertemplate": "Motif=9<br>Mode=3<br>dim 1=%{x}<br>dim 2=%{y}<extra></extra>",
         "legendgroup": "9, 3",
         "marker": {
          "color": "#FFA15A",
          "symbol": "x"
         },
         "mode": "markers",
         "name": "9, 3",
         "orientation": "v",
         "showlegend": true,
         "type": "scatter",
         "x": [
          2.6906869411468506
         ],
         "xaxis": "x",
         "y": [
          -1.1443138122558594
         ],
         "yaxis": "y"
        },
        {
         "hovertemplate": "Motif=9<br>Mode=2<br>dim 1=%{x}<br>dim 2=%{y}<extra></extra>",
         "legendgroup": "9, 2",
         "marker": {
          "color": "#FFA15A",
          "symbol": "cross"
         },
         "mode": "markers",
         "name": "9, 2",
         "orientation": "v",
         "showlegend": true,
         "type": "scatter",
         "x": [
          -1.4242392778396606
         ],
         "xaxis": "x",
         "y": [
          -0.2949844002723694
         ],
         "yaxis": "y"
        },
        {
         "hovertemplate": "Motif=9<br>Mode=4<br>dim 1=%{x}<br>dim 2=%{y}<extra></extra>",
         "legendgroup": "9, 4",
         "marker": {
          "color": "#FFA15A",
          "symbol": "circle"
         },
         "mode": "markers",
         "name": "9, 4",
         "orientation": "v",
         "showlegend": true,
         "type": "scatter",
         "x": [
          -0.0018390208715572953
         ],
         "xaxis": "x",
         "y": [
          -0.9636011719703674
         ],
         "yaxis": "y"
        },
        {
         "hovertemplate": "Motif=9<br>Mode=9<br>dim 1=%{x}<br>dim 2=%{y}<extra></extra>",
         "legendgroup": "9, 9",
         "marker": {
          "color": "#FFA15A",
          "symbol": "diamond"
         },
         "mode": "markers",
         "name": "9, 9",
         "orientation": "v",
         "showlegend": true,
         "type": "scatter",
         "x": [
          -0.3874729573726654
         ],
         "xaxis": "x",
         "y": [
          -1.713346242904663
         ],
         "yaxis": "y"
        },
        {
         "hovertemplate": "Motif=9<br>Mode=6<br>dim 1=%{x}<br>dim 2=%{y}<extra></extra>",
         "legendgroup": "9, 6",
         "marker": {
          "color": "#FFA15A",
          "symbol": "square"
         },
         "mode": "markers",
         "name": "9, 6",
         "orientation": "v",
         "showlegend": true,
         "type": "scatter",
         "x": [
          -0.3851425051689148
         ],
         "xaxis": "x",
         "y": [
          0.013264446519315243
         ],
         "yaxis": "y"
        },
        {
         "hovertemplate": "Motif=9<br>Mode=8<br>dim 1=%{x}<br>dim 2=%{y}<extra></extra>",
         "legendgroup": "9, 8",
         "marker": {
          "color": "#FFA15A",
          "symbol": "x"
         },
         "mode": "markers",
         "name": "9, 8",
         "orientation": "v",
         "showlegend": true,
         "type": "scatter",
         "x": [
          0.004599395208060741
         ],
         "xaxis": "x",
         "y": [
          0.050262201577425
         ],
         "yaxis": "y"
        },
        {
         "hovertemplate": "Motif=9<br>Mode=7<br>dim 1=%{x}<br>dim 2=%{y}<extra></extra>",
         "legendgroup": "9, 7",
         "marker": {
          "color": "#FFA15A",
          "symbol": "cross"
         },
         "mode": "markers",
         "name": "9, 7",
         "orientation": "v",
         "showlegend": true,
         "type": "scatter",
         "x": [
          0.041564878076314926
         ],
         "xaxis": "x",
         "y": [
          -0.04271915555000305
         ],
         "yaxis": "y"
        },
        {
         "hovertemplate": "Motif=7<br>Mode=1<br>dim 1=%{x}<br>dim 2=%{y}<extra></extra>",
         "legendgroup": "7, 1",
         "marker": {
          "color": "#19d3f3",
          "symbol": "diamond"
         },
         "mode": "markers",
         "name": "7, 1",
         "orientation": "v",
         "showlegend": true,
         "type": "scatter",
         "x": [
          -0.7712686061859131
         ],
         "xaxis": "x",
         "y": [
          0.20680852234363556
         ],
         "yaxis": "y"
        },
        {
         "hovertemplate": "Motif=7<br>Mode=5<br>dim 1=%{x}<br>dim 2=%{y}<extra></extra>",
         "legendgroup": "7, 5",
         "marker": {
          "color": "#19d3f3",
          "symbol": "square"
         },
         "mode": "markers",
         "name": "7, 5",
         "orientation": "v",
         "showlegend": true,
         "type": "scatter",
         "x": [
          -1.7452008724212646
         ],
         "xaxis": "x",
         "y": [
          0.6856321692466736
         ],
         "yaxis": "y"
        },
        {
         "hovertemplate": "Motif=7<br>Mode=3<br>dim 1=%{x}<br>dim 2=%{y}<extra></extra>",
         "legendgroup": "7, 3",
         "marker": {
          "color": "#19d3f3",
          "symbol": "x"
         },
         "mode": "markers",
         "name": "7, 3",
         "orientation": "v",
         "showlegend": true,
         "type": "scatter",
         "x": [
          2.150664806365967
         ],
         "xaxis": "x",
         "y": [
          -0.9972733855247498
         ],
         "yaxis": "y"
        },
        {
         "hovertemplate": "Motif=7<br>Mode=2<br>dim 1=%{x}<br>dim 2=%{y}<extra></extra>",
         "legendgroup": "7, 2",
         "marker": {
          "color": "#19d3f3",
          "symbol": "cross"
         },
         "mode": "markers",
         "name": "7, 2",
         "orientation": "v",
         "showlegend": true,
         "type": "scatter",
         "x": [
          -1.063996434211731
         ],
         "xaxis": "x",
         "y": [
          -0.6931071877479553
         ],
         "yaxis": "y"
        },
        {
         "hovertemplate": "Motif=7<br>Mode=4<br>dim 1=%{x}<br>dim 2=%{y}<extra></extra>",
         "legendgroup": "7, 4",
         "marker": {
          "color": "#19d3f3",
          "symbol": "circle"
         },
         "mode": "markers",
         "name": "7, 4",
         "orientation": "v",
         "showlegend": true,
         "type": "scatter",
         "x": [
          -0.579225480556488
         ],
         "xaxis": "x",
         "y": [
          -0.5593952536582947
         ],
         "yaxis": "y"
        },
        {
         "hovertemplate": "Motif=7<br>Mode=9<br>dim 1=%{x}<br>dim 2=%{y}<extra></extra>",
         "legendgroup": "7, 9",
         "marker": {
          "color": "#19d3f3",
          "symbol": "diamond"
         },
         "mode": "markers",
         "name": "7, 9",
         "orientation": "v",
         "showlegend": true,
         "type": "scatter",
         "x": [
          -0.14382846653461456
         ],
         "xaxis": "x",
         "y": [
          -0.6031008958816528
         ],
         "yaxis": "y"
        },
        {
         "hovertemplate": "Motif=7<br>Mode=6<br>dim 1=%{x}<br>dim 2=%{y}<extra></extra>",
         "legendgroup": "7, 6",
         "marker": {
          "color": "#19d3f3",
          "symbol": "square"
         },
         "mode": "markers",
         "name": "7, 6",
         "orientation": "v",
         "showlegend": true,
         "type": "scatter",
         "x": [
          0.1846412867307663
         ],
         "xaxis": "x",
         "y": [
          0.06581588834524155
         ],
         "yaxis": "y"
        },
        {
         "hovertemplate": "Motif=7<br>Mode=8<br>dim 1=%{x}<br>dim 2=%{y}<extra></extra>",
         "legendgroup": "7, 8",
         "marker": {
          "color": "#19d3f3",
          "symbol": "x"
         },
         "mode": "markers",
         "name": "7, 8",
         "orientation": "v",
         "showlegend": true,
         "type": "scatter",
         "x": [
          -0.11127446591854095
         ],
         "xaxis": "x",
         "y": [
          -0.46620655059814453
         ],
         "yaxis": "y"
        },
        {
         "hovertemplate": "Motif=7<br>Mode=7<br>dim 1=%{x}<br>dim 2=%{y}<extra></extra>",
         "legendgroup": "7, 7",
         "marker": {
          "color": "#19d3f3",
          "symbol": "cross"
         },
         "mode": "markers",
         "name": "7, 7",
         "orientation": "v",
         "showlegend": true,
         "type": "scatter",
         "x": [
          0.03037523292005062
         ],
         "xaxis": "x",
         "y": [
          0.04013923555612564
         ],
         "yaxis": "y"
        },
        {
         "hovertemplate": "Motif=6<br>Mode=1<br>dim 1=%{x}<br>dim 2=%{y}<extra></extra>",
         "legendgroup": "6, 1",
         "marker": {
          "color": "#FF6692",
          "symbol": "diamond"
         },
         "mode": "markers",
         "name": "6, 1",
         "orientation": "v",
         "showlegend": true,
         "type": "scatter",
         "x": [
          -0.9773862361907959
         ],
         "xaxis": "x",
         "y": [
          -0.6775898933410645
         ],
         "yaxis": "y"
        },
        {
         "hovertemplate": "Motif=6<br>Mode=5<br>dim 1=%{x}<br>dim 2=%{y}<extra></extra>",
         "legendgroup": "6, 5",
         "marker": {
          "color": "#FF6692",
          "symbol": "square"
         },
         "mode": "markers",
         "name": "6, 5",
         "orientation": "v",
         "showlegend": true,
         "type": "scatter",
         "x": [
          -0.807740330696106
         ],
         "xaxis": "x",
         "y": [
          -0.2876027822494507
         ],
         "yaxis": "y"
        },
        {
         "hovertemplate": "Motif=6<br>Mode=3<br>dim 1=%{x}<br>dim 2=%{y}<extra></extra>",
         "legendgroup": "6, 3",
         "marker": {
          "color": "#FF6692",
          "symbol": "x"
         },
         "mode": "markers",
         "name": "6, 3",
         "orientation": "v",
         "showlegend": true,
         "type": "scatter",
         "x": [
          1.848426103591919
         ],
         "xaxis": "x",
         "y": [
          -2.304710626602173
         ],
         "yaxis": "y"
        },
        {
         "hovertemplate": "Motif=6<br>Mode=2<br>dim 1=%{x}<br>dim 2=%{y}<extra></extra>",
         "legendgroup": "6, 2",
         "marker": {
          "color": "#FF6692",
          "symbol": "cross"
         },
         "mode": "markers",
         "name": "6, 2",
         "orientation": "v",
         "showlegend": true,
         "type": "scatter",
         "x": [
          -0.5414755344390869
         ],
         "xaxis": "x",
         "y": [
          -0.907471776008606
         ],
         "yaxis": "y"
        },
        {
         "hovertemplate": "Motif=6<br>Mode=4<br>dim 1=%{x}<br>dim 2=%{y}<extra></extra>",
         "legendgroup": "6, 4",
         "marker": {
          "color": "#FF6692",
          "symbol": "circle"
         },
         "mode": "markers",
         "name": "6, 4",
         "orientation": "v",
         "showlegend": true,
         "type": "scatter",
         "x": [
          -0.5096181035041809
         ],
         "xaxis": "x",
         "y": [
          -0.1753418892621994
         ],
         "yaxis": "y"
        },
        {
         "hovertemplate": "Motif=6<br>Mode=9<br>dim 1=%{x}<br>dim 2=%{y}<extra></extra>",
         "legendgroup": "6, 9",
         "marker": {
          "color": "#FF6692",
          "symbol": "diamond"
         },
         "mode": "markers",
         "name": "6, 9",
         "orientation": "v",
         "showlegend": true,
         "type": "scatter",
         "x": [
          -0.0044914777390658855
         ],
         "xaxis": "x",
         "y": [
          0.010724141262471676
         ],
         "yaxis": "y"
        },
        {
         "hovertemplate": "Motif=6<br>Mode=6<br>dim 1=%{x}<br>dim 2=%{y}<extra></extra>",
         "legendgroup": "6, 6",
         "marker": {
          "color": "#FF6692",
          "symbol": "square"
         },
         "mode": "markers",
         "name": "6, 6",
         "orientation": "v",
         "showlegend": true,
         "type": "scatter",
         "x": [
          -0.1729755699634552
         ],
         "xaxis": "x",
         "y": [
          -0.3542039692401886
         ],
         "yaxis": "y"
        },
        {
         "hovertemplate": "Motif=6<br>Mode=8<br>dim 1=%{x}<br>dim 2=%{y}<extra></extra>",
         "legendgroup": "6, 8",
         "marker": {
          "color": "#FF6692",
          "symbol": "x"
         },
         "mode": "markers",
         "name": "6, 8",
         "orientation": "v",
         "showlegend": true,
         "type": "scatter",
         "x": [
          0.021512512117624283
         ],
         "xaxis": "x",
         "y": [
          0.03793652355670929
         ],
         "yaxis": "y"
        },
        {
         "hovertemplate": "Motif=6<br>Mode=7<br>dim 1=%{x}<br>dim 2=%{y}<extra></extra>",
         "legendgroup": "6, 7",
         "marker": {
          "color": "#FF6692",
          "symbol": "cross"
         },
         "mode": "markers",
         "name": "6, 7",
         "orientation": "v",
         "showlegend": true,
         "type": "scatter",
         "x": [
          0.49710381031036377
         ],
         "xaxis": "x",
         "y": [
          0.6914798021316528
         ],
         "yaxis": "y"
        },
        {
         "hovertemplate": "Motif=5<br>Mode=1<br>dim 1=%{x}<br>dim 2=%{y}<extra></extra>",
         "legendgroup": "5, 1",
         "marker": {
          "color": "#B6E880",
          "symbol": "diamond"
         },
         "mode": "markers",
         "name": "5, 1",
         "orientation": "v",
         "showlegend": true,
         "type": "scatter",
         "x": [
          -0.9373396635055542
         ],
         "xaxis": "x",
         "y": [
          0.3233659267425537
         ],
         "yaxis": "y"
        },
        {
         "hovertemplate": "Motif=5<br>Mode=5<br>dim 1=%{x}<br>dim 2=%{y}<extra></extra>",
         "legendgroup": "5, 5",
         "marker": {
          "color": "#B6E880",
          "symbol": "square"
         },
         "mode": "markers",
         "name": "5, 5",
         "orientation": "v",
         "showlegend": true,
         "type": "scatter",
         "x": [
          -1.4992852210998535
         ],
         "xaxis": "x",
         "y": [
          0.6630648374557495
         ],
         "yaxis": "y"
        },
        {
         "hovertemplate": "Motif=5<br>Mode=3<br>dim 1=%{x}<br>dim 2=%{y}<extra></extra>",
         "legendgroup": "5, 3",
         "marker": {
          "color": "#B6E880",
          "symbol": "x"
         },
         "mode": "markers",
         "name": "5, 3",
         "orientation": "v",
         "showlegend": true,
         "type": "scatter",
         "x": [
          2.0632545948028564
         ],
         "xaxis": "x",
         "y": [
          -0.7205395102500916
         ],
         "yaxis": "y"
        },
        {
         "hovertemplate": "Motif=5<br>Mode=2<br>dim 1=%{x}<br>dim 2=%{y}<extra></extra>",
         "legendgroup": "5, 2",
         "marker": {
          "color": "#B6E880",
          "symbol": "cross"
         },
         "mode": "markers",
         "name": "5, 2",
         "orientation": "v",
         "showlegend": true,
         "type": "scatter",
         "x": [
          -1.2520785331726074
         ],
         "xaxis": "x",
         "y": [
          -0.6990992426872253
         ],
         "yaxis": "y"
        },
        {
         "hovertemplate": "Motif=5<br>Mode=4<br>dim 1=%{x}<br>dim 2=%{y}<extra></extra>",
         "legendgroup": "5, 4",
         "marker": {
          "color": "#B6E880",
          "symbol": "circle"
         },
         "mode": "markers",
         "name": "5, 4",
         "orientation": "v",
         "showlegend": true,
         "type": "scatter",
         "x": [
          -0.5503644943237305
         ],
         "xaxis": "x",
         "y": [
          0.004219971131533384
         ],
         "yaxis": "y"
        },
        {
         "hovertemplate": "Motif=5<br>Mode=9<br>dim 1=%{x}<br>dim 2=%{y}<extra></extra>",
         "legendgroup": "5, 9",
         "marker": {
          "color": "#B6E880",
          "symbol": "diamond"
         },
         "mode": "markers",
         "name": "5, 9",
         "orientation": "v",
         "showlegend": true,
         "type": "scatter",
         "x": [
          -0.18646375834941864
         ],
         "xaxis": "x",
         "y": [
          -0.004331604111939669
         ],
         "yaxis": "y"
        },
        {
         "hovertemplate": "Motif=5<br>Mode=6<br>dim 1=%{x}<br>dim 2=%{y}<extra></extra>",
         "legendgroup": "5, 6",
         "marker": {
          "color": "#B6E880",
          "symbol": "square"
         },
         "mode": "markers",
         "name": "5, 6",
         "orientation": "v",
         "showlegend": true,
         "type": "scatter",
         "x": [
          0.6546329855918884
         ],
         "xaxis": "x",
         "y": [
          0.6861002445220947
         ],
         "yaxis": "y"
        },
        {
         "hovertemplate": "Motif=5<br>Mode=8<br>dim 1=%{x}<br>dim 2=%{y}<extra></extra>",
         "legendgroup": "5, 8",
         "marker": {
          "color": "#B6E880",
          "symbol": "x"
         },
         "mode": "markers",
         "name": "5, 8",
         "orientation": "v",
         "showlegend": true,
         "type": "scatter",
         "x": [
          0.0452304482460022
         ],
         "xaxis": "x",
         "y": [
          -0.009588279761373997
         ],
         "yaxis": "y"
        },
        {
         "hovertemplate": "Motif=5<br>Mode=7<br>dim 1=%{x}<br>dim 2=%{y}<extra></extra>",
         "legendgroup": "5, 7",
         "marker": {
          "color": "#B6E880",
          "symbol": "cross"
         },
         "mode": "markers",
         "name": "5, 7",
         "orientation": "v",
         "showlegend": true,
         "type": "scatter",
         "x": [
          0.0005203349282965064
         ],
         "xaxis": "x",
         "y": [
          0.0026622344739735126
         ],
         "yaxis": "y"
        },
        {
         "hovertemplate": "Motif=4<br>Mode=1<br>dim 1=%{x}<br>dim 2=%{y}<extra></extra>",
         "legendgroup": "4, 1",
         "marker": {
          "color": "#FF97FF",
          "symbol": "diamond"
         },
         "mode": "markers",
         "name": "4, 1",
         "orientation": "v",
         "showlegend": true,
         "type": "scatter",
         "x": [
          -0.9330008625984192
         ],
         "xaxis": "x",
         "y": [
          0.5186853408813477
         ],
         "yaxis": "y"
        },
        {
         "hovertemplate": "Motif=4<br>Mode=5<br>dim 1=%{x}<br>dim 2=%{y}<extra></extra>",
         "legendgroup": "4, 5",
         "marker": {
          "color": "#FF97FF",
          "symbol": "square"
         },
         "mode": "markers",
         "name": "4, 5",
         "orientation": "v",
         "showlegend": true,
         "type": "scatter",
         "x": [
          -1.2579208612442017
         ],
         "xaxis": "x",
         "y": [
          0.590598464012146
         ],
         "yaxis": "y"
        },
        {
         "hovertemplate": "Motif=4<br>Mode=3<br>dim 1=%{x}<br>dim 2=%{y}<extra></extra>",
         "legendgroup": "4, 3",
         "marker": {
          "color": "#FF97FF",
          "symbol": "x"
         },
         "mode": "markers",
         "name": "4, 3",
         "orientation": "v",
         "showlegend": true,
         "type": "scatter",
         "x": [
          1.4859542846679688
         ],
         "xaxis": "x",
         "y": [
          -0.7928481101989746
         ],
         "yaxis": "y"
        },
        {
         "hovertemplate": "Motif=4<br>Mode=2<br>dim 1=%{x}<br>dim 2=%{y}<extra></extra>",
         "legendgroup": "4, 2",
         "marker": {
          "color": "#FF97FF",
          "symbol": "cross"
         },
         "mode": "markers",
         "name": "4, 2",
         "orientation": "v",
         "showlegend": true,
         "type": "scatter",
         "x": [
          -0.6808382868766785
         ],
         "xaxis": "x",
         "y": [
          0.01760421134531498
         ],
         "yaxis": "y"
        },
        {
         "hovertemplate": "Motif=4<br>Mode=4<br>dim 1=%{x}<br>dim 2=%{y}<extra></extra>",
         "legendgroup": "4, 4",
         "marker": {
          "color": "#FF97FF",
          "symbol": "circle"
         },
         "mode": "markers",
         "name": "4, 4",
         "orientation": "v",
         "showlegend": true,
         "type": "scatter",
         "x": [
          0.05990754812955856
         ],
         "xaxis": "x",
         "y": [
          -0.3074505925178528
         ],
         "yaxis": "y"
        },
        {
         "hovertemplate": "Motif=4<br>Mode=9<br>dim 1=%{x}<br>dim 2=%{y}<extra></extra>",
         "legendgroup": "4, 9",
         "marker": {
          "color": "#FF97FF",
          "symbol": "diamond"
         },
         "mode": "markers",
         "name": "4, 9",
         "orientation": "v",
         "showlegend": true,
         "type": "scatter",
         "x": [
          -0.5359726548194885
         ],
         "xaxis": "x",
         "y": [
          -0.28520676493644714
         ],
         "yaxis": "y"
        },
        {
         "hovertemplate": "Motif=4<br>Mode=6<br>dim 1=%{x}<br>dim 2=%{y}<extra></extra>",
         "legendgroup": "4, 6",
         "marker": {
          "color": "#FF97FF",
          "symbol": "square"
         },
         "mode": "markers",
         "name": "4, 6",
         "orientation": "v",
         "showlegend": true,
         "type": "scatter",
         "x": [
          -0.09500398486852646
         ],
         "xaxis": "x",
         "y": [
          -0.10965700447559357
         ],
         "yaxis": "y"
        },
        {
         "hovertemplate": "Motif=4<br>Mode=8<br>dim 1=%{x}<br>dim 2=%{y}<extra></extra>",
         "legendgroup": "4, 8",
         "marker": {
          "color": "#FF97FF",
          "symbol": "x"
         },
         "mode": "markers",
         "name": "4, 8",
         "orientation": "v",
         "showlegend": true,
         "type": "scatter",
         "x": [
          0.0009091885876841843
         ],
         "xaxis": "x",
         "y": [
          0.11829482764005661
         ],
         "yaxis": "y"
        },
        {
         "hovertemplate": "Motif=4<br>Mode=7<br>dim 1=%{x}<br>dim 2=%{y}<extra></extra>",
         "legendgroup": "4, 7",
         "marker": {
          "color": "#FF97FF",
          "symbol": "cross"
         },
         "mode": "markers",
         "name": "4, 7",
         "orientation": "v",
         "showlegend": true,
         "type": "scatter",
         "x": [
          0.08605647087097168
         ],
         "xaxis": "x",
         "y": [
          -0.007263557054102421
         ],
         "yaxis": "y"
        },
        {
         "hovertemplate": "Motif=8<br>Mode=1<br>dim 1=%{x}<br>dim 2=%{y}<extra></extra>",
         "legendgroup": "8, 1",
         "marker": {
          "color": "#FECB52",
          "symbol": "diamond"
         },
         "mode": "markers",
         "name": "8, 1",
         "orientation": "v",
         "showlegend": true,
         "type": "scatter",
         "x": [
          0.3885585069656372
         ],
         "xaxis": "x",
         "y": [
          0.06971017271280289
         ],
         "yaxis": "y"
        },
        {
         "hovertemplate": "Motif=8<br>Mode=5<br>dim 1=%{x}<br>dim 2=%{y}<extra></extra>",
         "legendgroup": "8, 5",
         "marker": {
          "color": "#FECB52",
          "symbol": "square"
         },
         "mode": "markers",
         "name": "8, 5",
         "orientation": "v",
         "showlegend": true,
         "type": "scatter",
         "x": [
          -0.290608674287796
         ],
         "xaxis": "x",
         "y": [
          -0.026920964941382408
         ],
         "yaxis": "y"
        },
        {
         "hovertemplate": "Motif=8<br>Mode=3<br>dim 1=%{x}<br>dim 2=%{y}<extra></extra>",
         "legendgroup": "8, 3",
         "marker": {
          "color": "#FECB52",
          "symbol": "x"
         },
         "mode": "markers",
         "name": "8, 3",
         "orientation": "v",
         "showlegend": true,
         "type": "scatter",
         "x": [
          1.3189500570297241
         ],
         "xaxis": "x",
         "y": [
          -0.1784297376871109
         ],
         "yaxis": "y"
        },
        {
         "hovertemplate": "Motif=8<br>Mode=2<br>dim 1=%{x}<br>dim 2=%{y}<extra></extra>",
         "legendgroup": "8, 2",
         "marker": {
          "color": "#FECB52",
          "symbol": "cross"
         },
         "mode": "markers",
         "name": "8, 2",
         "orientation": "v",
         "showlegend": true,
         "type": "scatter",
         "x": [
          0.7902795076370239
         ],
         "xaxis": "x",
         "y": [
          0.48576727509498596
         ],
         "yaxis": "y"
        },
        {
         "hovertemplate": "Motif=8<br>Mode=4<br>dim 1=%{x}<br>dim 2=%{y}<extra></extra>",
         "legendgroup": "8, 4",
         "marker": {
          "color": "#FECB52",
          "symbol": "circle"
         },
         "mode": "markers",
         "name": "8, 4",
         "orientation": "v",
         "showlegend": true,
         "type": "scatter",
         "x": [
          -0.7414281368255615
         ],
         "xaxis": "x",
         "y": [
          0.13772621750831604
         ],
         "yaxis": "y"
        },
        {
         "hovertemplate": "Motif=8<br>Mode=9<br>dim 1=%{x}<br>dim 2=%{y}<extra></extra>",
         "legendgroup": "8, 9",
         "marker": {
          "color": "#FECB52",
          "symbol": "diamond"
         },
         "mode": "markers",
         "name": "8, 9",
         "orientation": "v",
         "showlegend": true,
         "type": "scatter",
         "x": [
          0.01931629702448845
         ],
         "xaxis": "x",
         "y": [
          0.005245284177362919
         ],
         "yaxis": "y"
        },
        {
         "hovertemplate": "Motif=8<br>Mode=6<br>dim 1=%{x}<br>dim 2=%{y}<extra></extra>",
         "legendgroup": "8, 6",
         "marker": {
          "color": "#FECB52",
          "symbol": "square"
         },
         "mode": "markers",
         "name": "8, 6",
         "orientation": "v",
         "showlegend": true,
         "type": "scatter",
         "x": [
          0.027235662564635277
         ],
         "xaxis": "x",
         "y": [
          0.036887526512145996
         ],
         "yaxis": "y"
        },
        {
         "hovertemplate": "Motif=8<br>Mode=8<br>dim 1=%{x}<br>dim 2=%{y}<extra></extra>",
         "legendgroup": "8, 8",
         "marker": {
          "color": "#FECB52",
          "symbol": "x"
         },
         "mode": "markers",
         "name": "8, 8",
         "orientation": "v",
         "showlegend": true,
         "type": "scatter",
         "x": [
          0.03750617429614067
         ],
         "xaxis": "x",
         "y": [
          -0.0031193203758448362
         ],
         "yaxis": "y"
        },
        {
         "hovertemplate": "Motif=8<br>Mode=7<br>dim 1=%{x}<br>dim 2=%{y}<extra></extra>",
         "legendgroup": "8, 7",
         "marker": {
          "color": "#FECB52",
          "symbol": "cross"
         },
         "mode": "markers",
         "name": "8, 7",
         "orientation": "v",
         "showlegend": true,
         "type": "scatter",
         "x": [
          0.004788591992110014
         ],
         "xaxis": "x",
         "y": [
          -0.00997824128717184
         ],
         "yaxis": "y"
        }
       ],
       "layout": {
        "legend": {
         "title": {
          "text": "Motif, Mode"
         },
         "tracegroupgap": 0
        },
        "margin": {
         "t": 60
        },
        "template": {
         "data": {
          "bar": [
           {
            "error_x": {
             "color": "#2a3f5f"
            },
            "error_y": {
             "color": "#2a3f5f"
            },
            "marker": {
             "line": {
              "color": "white",
              "width": 0.5
             },
             "pattern": {
              "fillmode": "overlay",
              "size": 10,
              "solidity": 0.2
             }
            },
            "type": "bar"
           }
          ],
          "barpolar": [
           {
            "marker": {
             "line": {
              "color": "white",
              "width": 0.5
             },
             "pattern": {
              "fillmode": "overlay",
              "size": 10,
              "solidity": 0.2
             }
            },
            "type": "barpolar"
           }
          ],
          "carpet": [
           {
            "aaxis": {
             "endlinecolor": "#2a3f5f",
             "gridcolor": "#C8D4E3",
             "linecolor": "#C8D4E3",
             "minorgridcolor": "#C8D4E3",
             "startlinecolor": "#2a3f5f"
            },
            "baxis": {
             "endlinecolor": "#2a3f5f",
             "gridcolor": "#C8D4E3",
             "linecolor": "#C8D4E3",
             "minorgridcolor": "#C8D4E3",
             "startlinecolor": "#2a3f5f"
            },
            "type": "carpet"
           }
          ],
          "choropleth": [
           {
            "colorbar": {
             "outlinewidth": 0,
             "ticks": ""
            },
            "type": "choropleth"
           }
          ],
          "contour": [
           {
            "colorbar": {
             "outlinewidth": 0,
             "ticks": ""
            },
            "colorscale": [
             [
              0,
              "#0d0887"
             ],
             [
              0.1111111111111111,
              "#46039f"
             ],
             [
              0.2222222222222222,
              "#7201a8"
             ],
             [
              0.3333333333333333,
              "#9c179e"
             ],
             [
              0.4444444444444444,
              "#bd3786"
             ],
             [
              0.5555555555555556,
              "#d8576b"
             ],
             [
              0.6666666666666666,
              "#ed7953"
             ],
             [
              0.7777777777777778,
              "#fb9f3a"
             ],
             [
              0.8888888888888888,
              "#fdca26"
             ],
             [
              1,
              "#f0f921"
             ]
            ],
            "type": "contour"
           }
          ],
          "contourcarpet": [
           {
            "colorbar": {
             "outlinewidth": 0,
             "ticks": ""
            },
            "type": "contourcarpet"
           }
          ],
          "heatmap": [
           {
            "colorbar": {
             "outlinewidth": 0,
             "ticks": ""
            },
            "colorscale": [
             [
              0,
              "#0d0887"
             ],
             [
              0.1111111111111111,
              "#46039f"
             ],
             [
              0.2222222222222222,
              "#7201a8"
             ],
             [
              0.3333333333333333,
              "#9c179e"
             ],
             [
              0.4444444444444444,
              "#bd3786"
             ],
             [
              0.5555555555555556,
              "#d8576b"
             ],
             [
              0.6666666666666666,
              "#ed7953"
             ],
             [
              0.7777777777777778,
              "#fb9f3a"
             ],
             [
              0.8888888888888888,
              "#fdca26"
             ],
             [
              1,
              "#f0f921"
             ]
            ],
            "type": "heatmap"
           }
          ],
          "heatmapgl": [
           {
            "colorbar": {
             "outlinewidth": 0,
             "ticks": ""
            },
            "colorscale": [
             [
              0,
              "#0d0887"
             ],
             [
              0.1111111111111111,
              "#46039f"
             ],
             [
              0.2222222222222222,
              "#7201a8"
             ],
             [
              0.3333333333333333,
              "#9c179e"
             ],
             [
              0.4444444444444444,
              "#bd3786"
             ],
             [
              0.5555555555555556,
              "#d8576b"
             ],
             [
              0.6666666666666666,
              "#ed7953"
             ],
             [
              0.7777777777777778,
              "#fb9f3a"
             ],
             [
              0.8888888888888888,
              "#fdca26"
             ],
             [
              1,
              "#f0f921"
             ]
            ],
            "type": "heatmapgl"
           }
          ],
          "histogram": [
           {
            "marker": {
             "pattern": {
              "fillmode": "overlay",
              "size": 10,
              "solidity": 0.2
             }
            },
            "type": "histogram"
           }
          ],
          "histogram2d": [
           {
            "colorbar": {
             "outlinewidth": 0,
             "ticks": ""
            },
            "colorscale": [
             [
              0,
              "#0d0887"
             ],
             [
              0.1111111111111111,
              "#46039f"
             ],
             [
              0.2222222222222222,
              "#7201a8"
             ],
             [
              0.3333333333333333,
              "#9c179e"
             ],
             [
              0.4444444444444444,
              "#bd3786"
             ],
             [
              0.5555555555555556,
              "#d8576b"
             ],
             [
              0.6666666666666666,
              "#ed7953"
             ],
             [
              0.7777777777777778,
              "#fb9f3a"
             ],
             [
              0.8888888888888888,
              "#fdca26"
             ],
             [
              1,
              "#f0f921"
             ]
            ],
            "type": "histogram2d"
           }
          ],
          "histogram2dcontour": [
           {
            "colorbar": {
             "outlinewidth": 0,
             "ticks": ""
            },
            "colorscale": [
             [
              0,
              "#0d0887"
             ],
             [
              0.1111111111111111,
              "#46039f"
             ],
             [
              0.2222222222222222,
              "#7201a8"
             ],
             [
              0.3333333333333333,
              "#9c179e"
             ],
             [
              0.4444444444444444,
              "#bd3786"
             ],
             [
              0.5555555555555556,
              "#d8576b"
             ],
             [
              0.6666666666666666,
              "#ed7953"
             ],
             [
              0.7777777777777778,
              "#fb9f3a"
             ],
             [
              0.8888888888888888,
              "#fdca26"
             ],
             [
              1,
              "#f0f921"
             ]
            ],
            "type": "histogram2dcontour"
           }
          ],
          "mesh3d": [
           {
            "colorbar": {
             "outlinewidth": 0,
             "ticks": ""
            },
            "type": "mesh3d"
           }
          ],
          "parcoords": [
           {
            "line": {
             "colorbar": {
              "outlinewidth": 0,
              "ticks": ""
             }
            },
            "type": "parcoords"
           }
          ],
          "pie": [
           {
            "automargin": true,
            "type": "pie"
           }
          ],
          "scatter": [
           {
            "fillpattern": {
             "fillmode": "overlay",
             "size": 10,
             "solidity": 0.2
            },
            "type": "scatter"
           }
          ],
          "scatter3d": [
           {
            "line": {
             "colorbar": {
              "outlinewidth": 0,
              "ticks": ""
             }
            },
            "marker": {
             "colorbar": {
              "outlinewidth": 0,
              "ticks": ""
             }
            },
            "type": "scatter3d"
           }
          ],
          "scattercarpet": [
           {
            "marker": {
             "colorbar": {
              "outlinewidth": 0,
              "ticks": ""
             }
            },
            "type": "scattercarpet"
           }
          ],
          "scattergeo": [
           {
            "marker": {
             "colorbar": {
              "outlinewidth": 0,
              "ticks": ""
             }
            },
            "type": "scattergeo"
           }
          ],
          "scattergl": [
           {
            "marker": {
             "colorbar": {
              "outlinewidth": 0,
              "ticks": ""
             }
            },
            "type": "scattergl"
           }
          ],
          "scattermapbox": [
           {
            "marker": {
             "colorbar": {
              "outlinewidth": 0,
              "ticks": ""
             }
            },
            "type": "scattermapbox"
           }
          ],
          "scatterpolar": [
           {
            "marker": {
             "colorbar": {
              "outlinewidth": 0,
              "ticks": ""
             }
            },
            "type": "scatterpolar"
           }
          ],
          "scatterpolargl": [
           {
            "marker": {
             "colorbar": {
              "outlinewidth": 0,
              "ticks": ""
             }
            },
            "type": "scatterpolargl"
           }
          ],
          "scatterternary": [
           {
            "marker": {
             "colorbar": {
              "outlinewidth": 0,
              "ticks": ""
             }
            },
            "type": "scatterternary"
           }
          ],
          "surface": [
           {
            "colorbar": {
             "outlinewidth": 0,
             "ticks": ""
            },
            "colorscale": [
             [
              0,
              "#0d0887"
             ],
             [
              0.1111111111111111,
              "#46039f"
             ],
             [
              0.2222222222222222,
              "#7201a8"
             ],
             [
              0.3333333333333333,
              "#9c179e"
             ],
             [
              0.4444444444444444,
              "#bd3786"
             ],
             [
              0.5555555555555556,
              "#d8576b"
             ],
             [
              0.6666666666666666,
              "#ed7953"
             ],
             [
              0.7777777777777778,
              "#fb9f3a"
             ],
             [
              0.8888888888888888,
              "#fdca26"
             ],
             [
              1,
              "#f0f921"
             ]
            ],
            "type": "surface"
           }
          ],
          "table": [
           {
            "cells": {
             "fill": {
              "color": "#EBF0F8"
             },
             "line": {
              "color": "white"
             }
            },
            "header": {
             "fill": {
              "color": "#C8D4E3"
             },
             "line": {
              "color": "white"
             }
            },
            "type": "table"
           }
          ]
         },
         "layout": {
          "annotationdefaults": {
           "arrowcolor": "#2a3f5f",
           "arrowhead": 0,
           "arrowwidth": 1
          },
          "autotypenumbers": "strict",
          "coloraxis": {
           "colorbar": {
            "outlinewidth": 0,
            "ticks": ""
           }
          },
          "colorscale": {
           "diverging": [
            [
             0,
             "#8e0152"
            ],
            [
             0.1,
             "#c51b7d"
            ],
            [
             0.2,
             "#de77ae"
            ],
            [
             0.3,
             "#f1b6da"
            ],
            [
             0.4,
             "#fde0ef"
            ],
            [
             0.5,
             "#f7f7f7"
            ],
            [
             0.6,
             "#e6f5d0"
            ],
            [
             0.7,
             "#b8e186"
            ],
            [
             0.8,
             "#7fbc41"
            ],
            [
             0.9,
             "#4d9221"
            ],
            [
             1,
             "#276419"
            ]
           ],
           "sequential": [
            [
             0,
             "#0d0887"
            ],
            [
             0.1111111111111111,
             "#46039f"
            ],
            [
             0.2222222222222222,
             "#7201a8"
            ],
            [
             0.3333333333333333,
             "#9c179e"
            ],
            [
             0.4444444444444444,
             "#bd3786"
            ],
            [
             0.5555555555555556,
             "#d8576b"
            ],
            [
             0.6666666666666666,
             "#ed7953"
            ],
            [
             0.7777777777777778,
             "#fb9f3a"
            ],
            [
             0.8888888888888888,
             "#fdca26"
            ],
            [
             1,
             "#f0f921"
            ]
           ],
           "sequentialminus": [
            [
             0,
             "#0d0887"
            ],
            [
             0.1111111111111111,
             "#46039f"
            ],
            [
             0.2222222222222222,
             "#7201a8"
            ],
            [
             0.3333333333333333,
             "#9c179e"
            ],
            [
             0.4444444444444444,
             "#bd3786"
            ],
            [
             0.5555555555555556,
             "#d8576b"
            ],
            [
             0.6666666666666666,
             "#ed7953"
            ],
            [
             0.7777777777777778,
             "#fb9f3a"
            ],
            [
             0.8888888888888888,
             "#fdca26"
            ],
            [
             1,
             "#f0f921"
            ]
           ]
          },
          "colorway": [
           "#636efa",
           "#EF553B",
           "#00cc96",
           "#ab63fa",
           "#FFA15A",
           "#19d3f3",
           "#FF6692",
           "#B6E880",
           "#FF97FF",
           "#FECB52"
          ],
          "font": {
           "color": "#2a3f5f"
          },
          "geo": {
           "bgcolor": "white",
           "lakecolor": "white",
           "landcolor": "white",
           "showlakes": true,
           "showland": true,
           "subunitcolor": "#C8D4E3"
          },
          "hoverlabel": {
           "align": "left"
          },
          "hovermode": "closest",
          "mapbox": {
           "style": "light"
          },
          "paper_bgcolor": "white",
          "plot_bgcolor": "white",
          "polar": {
           "angularaxis": {
            "gridcolor": "#EBF0F8",
            "linecolor": "#EBF0F8",
            "ticks": ""
           },
           "bgcolor": "white",
           "radialaxis": {
            "gridcolor": "#EBF0F8",
            "linecolor": "#EBF0F8",
            "ticks": ""
           }
          },
          "scene": {
           "xaxis": {
            "backgroundcolor": "white",
            "gridcolor": "#DFE8F3",
            "gridwidth": 2,
            "linecolor": "#EBF0F8",
            "showbackground": true,
            "ticks": "",
            "zerolinecolor": "#EBF0F8"
           },
           "yaxis": {
            "backgroundcolor": "white",
            "gridcolor": "#DFE8F3",
            "gridwidth": 2,
            "linecolor": "#EBF0F8",
            "showbackground": true,
            "ticks": "",
            "zerolinecolor": "#EBF0F8"
           },
           "zaxis": {
            "backgroundcolor": "white",
            "gridcolor": "#DFE8F3",
            "gridwidth": 2,
            "linecolor": "#EBF0F8",
            "showbackground": true,
            "ticks": "",
            "zerolinecolor": "#EBF0F8"
           }
          },
          "shapedefaults": {
           "line": {
            "color": "#2a3f5f"
           }
          },
          "ternary": {
           "aaxis": {
            "gridcolor": "#DFE8F3",
            "linecolor": "#A2B1C6",
            "ticks": ""
           },
           "baxis": {
            "gridcolor": "#DFE8F3",
            "linecolor": "#A2B1C6",
            "ticks": ""
           },
           "bgcolor": "white",
           "caxis": {
            "gridcolor": "#DFE8F3",
            "linecolor": "#A2B1C6",
            "ticks": ""
           }
          },
          "title": {
           "x": 0.05
          },
          "xaxis": {
           "automargin": true,
           "gridcolor": "#EBF0F8",
           "linecolor": "#EBF0F8",
           "ticks": "",
           "title": {
            "standoff": 15
           },
           "zerolinecolor": "#EBF0F8",
           "zerolinewidth": 2
          },
          "yaxis": {
           "automargin": true,
           "gridcolor": "#EBF0F8",
           "linecolor": "#EBF0F8",
           "ticks": "",
           "title": {
            "standoff": 15
           },
           "zerolinecolor": "#EBF0F8",
           "zerolinewidth": 2
          }
         }
        },
        "xaxis": {
         "anchor": "y",
         "domain": [
          0,
          1
         ],
         "title": {
          "text": "dim 1"
         }
        },
        "yaxis": {
         "anchor": "x",
         "domain": [
          0,
          1
         ],
         "title": {
          "text": "dim 2"
         }
        }
       }
      }
     },
     "metadata": {},
     "output_type": "display_data"
    }
   ],
   "source": [
    "df_embedding = pd.DataFrame(columns=[\"Mode\", \"Motif\", \"x\", \"y\"])\n",
    "df_embedding[[\"x\", \"y\"]] = mob2vec.embedding_layer.embeddings[:, :2]\n",
    "df_embedding[[\"Mode\", \"Motif\"]] = list(data_getter.vocab.keys())\n",
    "\n",
    "px.scatter(df_embedding, x=\"x\", y=\"y\", color=\"Motif\", symbol=\"Mode\", template=\"plotly_white\",\n",
    "    labels={\"x\": \"dim 1\", \"y\": \"dim 2\"},)"
   ]
  },
  {
   "attachments": {},
   "cell_type": "markdown",
   "metadata": {},
   "source": [
    "## <a id='toc1_3_'></a>[RNN vector to Sequence](#toc0_)"
   ]
  },
  {
   "attachments": {},
   "cell_type": "markdown",
   "metadata": {},
   "source": [
    "### <a id='toc1_3_1_'></a>[Description du modèle](#toc0_)\n",
    "\n",
    "Instanciation d'un RNN \"vector to sequence\".\n",
    "\n",
    "- **Input** : données scoio économique d'un individu (csp, nb de voitures, type de commune) à l'instant t=0, et 0 à l'instant t>0. L'input est de dimension (n_individus, trajectory_len, n_features). Les features ont été \"one-hot encoded\".\n",
    "- **Output** : séquence de déplacements sur une journée. Un déplacement est défini par le triplet (motif, mode, distance). L'output est de dimension (n_individus, trajectory_len, embedding_dim+1). "
   ]
  },
  {
   "cell_type": "code",
   "execution_count": 10,
   "metadata": {},
   "outputs": [],
   "source": [
    "feats2traj = Features2Trajectory(data_getter, mob2vec)\n",
    "feats2traj.get_trajectories_for_rnn()\n",
    "feats2traj.get_feature_for_rnn()"
   ]
  },
  {
   "cell_type": "code",
   "execution_count": 11,
   "metadata": {},
   "outputs": [
    {
     "name": "stdout",
     "output_type": "stream",
     "text": [
      "Model: \"sequential_1\"\n",
      "_________________________________________________________________\n",
      " Layer (type)                Output Shape              Param #   \n",
      "=================================================================\n",
      " lstm (LSTM)                 (None, 18, 10)            1080      \n",
      "                                                                 \n",
      " dense_1 (Dense)             (None, 18, 3)             33        \n",
      "                                                                 \n",
      "=================================================================\n",
      "Total params: 1,113\n",
      "Trainable params: 1,113\n",
      "Non-trainable params: 0\n",
      "_________________________________________________________________\n"
     ]
    }
   ],
   "source": [
    "feats2traj.model.summary()"
   ]
  },
  {
   "attachments": {},
   "cell_type": "markdown",
   "metadata": {},
   "source": [
    "### <a id='toc1_3_2_'></a>[Entrainement du modèle](#toc0_)"
   ]
  },
  {
   "cell_type": "code",
   "execution_count": 12,
   "metadata": {},
   "outputs": [
    {
     "name": "stdout",
     "output_type": "stream",
     "text": [
      "Epoch 1/10\n",
      "67/67 [==============================] - 1s 8ms/step - loss: 1.6090 - val_loss: 1.1735\n",
      "Epoch 2/10\n",
      "67/67 [==============================] - 0s 7ms/step - loss: 0.8431 - val_loss: 0.6429\n",
      "Epoch 3/10\n",
      "67/67 [==============================] - 0s 5ms/step - loss: 0.6203 - val_loss: 0.5521\n",
      "Epoch 4/10\n",
      "67/67 [==============================] - 0s 5ms/step - loss: 0.5677 - val_loss: 0.5154\n",
      "Epoch 5/10\n",
      "67/67 [==============================] - 0s 5ms/step - loss: 0.5395 - val_loss: 0.4913\n",
      "Epoch 6/10\n",
      "67/67 [==============================] - 0s 5ms/step - loss: 0.5193 - val_loss: 0.4742\n",
      "Epoch 7/10\n",
      "67/67 [==============================] - 0s 6ms/step - loss: 0.5027 - val_loss: 0.4582\n",
      "Epoch 8/10\n",
      "67/67 [==============================] - 0s 5ms/step - loss: 0.4908 - val_loss: 0.4485\n",
      "Epoch 9/10\n",
      "67/67 [==============================] - 0s 6ms/step - loss: 0.4824 - val_loss: 0.4414\n",
      "Epoch 10/10\n",
      "67/67 [==============================] - 0s 6ms/step - loss: 0.4769 - val_loss: 0.4373\n"
     ]
    }
   ],
   "source": [
    "feats2traj.fit(test_size=0.33, batch_size=100, epochs=10)"
   ]
  },
  {
   "cell_type": "code",
   "execution_count": 13,
   "metadata": {},
   "outputs": [
    {
     "data": {
      "application/vnd.plotly.v1+json": {
       "config": {
        "plotlyServerURL": "https://plot.ly"
       },
       "data": [
        {
         "hovertemplate": "variable=loss<br>epochs=%{x}<br>loss=%{y}<extra></extra>",
         "legendgroup": "loss",
         "line": {
          "color": "#636efa",
          "dash": "solid"
         },
         "marker": {
          "symbol": "circle"
         },
         "mode": "lines",
         "name": "loss",
         "orientation": "v",
         "showlegend": true,
         "type": "scatter",
         "x": [
          0,
          1,
          2,
          3,
          4,
          5,
          6,
          7,
          8,
          9
         ],
         "xaxis": "x",
         "y": [
          1.6090149879455566,
          0.8431328535079956,
          0.6203077435493469,
          0.5676697492599487,
          0.53947514295578,
          0.5193015933036804,
          0.5027324557304382,
          0.4908347725868225,
          0.4824112355709076,
          0.4769282341003418
         ],
         "yaxis": "y"
        },
        {
         "hovertemplate": "variable=val_loss<br>epochs=%{x}<br>loss=%{y}<extra></extra>",
         "legendgroup": "val_loss",
         "line": {
          "color": "#EF553B",
          "dash": "solid"
         },
         "marker": {
          "symbol": "circle"
         },
         "mode": "lines",
         "name": "val_loss",
         "orientation": "v",
         "showlegend": true,
         "type": "scatter",
         "x": [
          0,
          1,
          2,
          3,
          4,
          5,
          6,
          7,
          8,
          9
         ],
         "xaxis": "x",
         "y": [
          1.1735073328018188,
          0.642853319644928,
          0.5520566701889038,
          0.5153692960739136,
          0.4912590980529785,
          0.4741794168949127,
          0.45820778608322144,
          0.4484638273715973,
          0.4414396584033966,
          0.437270849943161
         ],
         "yaxis": "y"
        }
       ],
       "layout": {
        "legend": {
         "title": {
          "text": "variable"
         },
         "tracegroupgap": 0
        },
        "margin": {
         "t": 60
        },
        "template": {
         "data": {
          "bar": [
           {
            "error_x": {
             "color": "#2a3f5f"
            },
            "error_y": {
             "color": "#2a3f5f"
            },
            "marker": {
             "line": {
              "color": "white",
              "width": 0.5
             },
             "pattern": {
              "fillmode": "overlay",
              "size": 10,
              "solidity": 0.2
             }
            },
            "type": "bar"
           }
          ],
          "barpolar": [
           {
            "marker": {
             "line": {
              "color": "white",
              "width": 0.5
             },
             "pattern": {
              "fillmode": "overlay",
              "size": 10,
              "solidity": 0.2
             }
            },
            "type": "barpolar"
           }
          ],
          "carpet": [
           {
            "aaxis": {
             "endlinecolor": "#2a3f5f",
             "gridcolor": "#C8D4E3",
             "linecolor": "#C8D4E3",
             "minorgridcolor": "#C8D4E3",
             "startlinecolor": "#2a3f5f"
            },
            "baxis": {
             "endlinecolor": "#2a3f5f",
             "gridcolor": "#C8D4E3",
             "linecolor": "#C8D4E3",
             "minorgridcolor": "#C8D4E3",
             "startlinecolor": "#2a3f5f"
            },
            "type": "carpet"
           }
          ],
          "choropleth": [
           {
            "colorbar": {
             "outlinewidth": 0,
             "ticks": ""
            },
            "type": "choropleth"
           }
          ],
          "contour": [
           {
            "colorbar": {
             "outlinewidth": 0,
             "ticks": ""
            },
            "colorscale": [
             [
              0,
              "#0d0887"
             ],
             [
              0.1111111111111111,
              "#46039f"
             ],
             [
              0.2222222222222222,
              "#7201a8"
             ],
             [
              0.3333333333333333,
              "#9c179e"
             ],
             [
              0.4444444444444444,
              "#bd3786"
             ],
             [
              0.5555555555555556,
              "#d8576b"
             ],
             [
              0.6666666666666666,
              "#ed7953"
             ],
             [
              0.7777777777777778,
              "#fb9f3a"
             ],
             [
              0.8888888888888888,
              "#fdca26"
             ],
             [
              1,
              "#f0f921"
             ]
            ],
            "type": "contour"
           }
          ],
          "contourcarpet": [
           {
            "colorbar": {
             "outlinewidth": 0,
             "ticks": ""
            },
            "type": "contourcarpet"
           }
          ],
          "heatmap": [
           {
            "colorbar": {
             "outlinewidth": 0,
             "ticks": ""
            },
            "colorscale": [
             [
              0,
              "#0d0887"
             ],
             [
              0.1111111111111111,
              "#46039f"
             ],
             [
              0.2222222222222222,
              "#7201a8"
             ],
             [
              0.3333333333333333,
              "#9c179e"
             ],
             [
              0.4444444444444444,
              "#bd3786"
             ],
             [
              0.5555555555555556,
              "#d8576b"
             ],
             [
              0.6666666666666666,
              "#ed7953"
             ],
             [
              0.7777777777777778,
              "#fb9f3a"
             ],
             [
              0.8888888888888888,
              "#fdca26"
             ],
             [
              1,
              "#f0f921"
             ]
            ],
            "type": "heatmap"
           }
          ],
          "heatmapgl": [
           {
            "colorbar": {
             "outlinewidth": 0,
             "ticks": ""
            },
            "colorscale": [
             [
              0,
              "#0d0887"
             ],
             [
              0.1111111111111111,
              "#46039f"
             ],
             [
              0.2222222222222222,
              "#7201a8"
             ],
             [
              0.3333333333333333,
              "#9c179e"
             ],
             [
              0.4444444444444444,
              "#bd3786"
             ],
             [
              0.5555555555555556,
              "#d8576b"
             ],
             [
              0.6666666666666666,
              "#ed7953"
             ],
             [
              0.7777777777777778,
              "#fb9f3a"
             ],
             [
              0.8888888888888888,
              "#fdca26"
             ],
             [
              1,
              "#f0f921"
             ]
            ],
            "type": "heatmapgl"
           }
          ],
          "histogram": [
           {
            "marker": {
             "pattern": {
              "fillmode": "overlay",
              "size": 10,
              "solidity": 0.2
             }
            },
            "type": "histogram"
           }
          ],
          "histogram2d": [
           {
            "colorbar": {
             "outlinewidth": 0,
             "ticks": ""
            },
            "colorscale": [
             [
              0,
              "#0d0887"
             ],
             [
              0.1111111111111111,
              "#46039f"
             ],
             [
              0.2222222222222222,
              "#7201a8"
             ],
             [
              0.3333333333333333,
              "#9c179e"
             ],
             [
              0.4444444444444444,
              "#bd3786"
             ],
             [
              0.5555555555555556,
              "#d8576b"
             ],
             [
              0.6666666666666666,
              "#ed7953"
             ],
             [
              0.7777777777777778,
              "#fb9f3a"
             ],
             [
              0.8888888888888888,
              "#fdca26"
             ],
             [
              1,
              "#f0f921"
             ]
            ],
            "type": "histogram2d"
           }
          ],
          "histogram2dcontour": [
           {
            "colorbar": {
             "outlinewidth": 0,
             "ticks": ""
            },
            "colorscale": [
             [
              0,
              "#0d0887"
             ],
             [
              0.1111111111111111,
              "#46039f"
             ],
             [
              0.2222222222222222,
              "#7201a8"
             ],
             [
              0.3333333333333333,
              "#9c179e"
             ],
             [
              0.4444444444444444,
              "#bd3786"
             ],
             [
              0.5555555555555556,
              "#d8576b"
             ],
             [
              0.6666666666666666,
              "#ed7953"
             ],
             [
              0.7777777777777778,
              "#fb9f3a"
             ],
             [
              0.8888888888888888,
              "#fdca26"
             ],
             [
              1,
              "#f0f921"
             ]
            ],
            "type": "histogram2dcontour"
           }
          ],
          "mesh3d": [
           {
            "colorbar": {
             "outlinewidth": 0,
             "ticks": ""
            },
            "type": "mesh3d"
           }
          ],
          "parcoords": [
           {
            "line": {
             "colorbar": {
              "outlinewidth": 0,
              "ticks": ""
             }
            },
            "type": "parcoords"
           }
          ],
          "pie": [
           {
            "automargin": true,
            "type": "pie"
           }
          ],
          "scatter": [
           {
            "fillpattern": {
             "fillmode": "overlay",
             "size": 10,
             "solidity": 0.2
            },
            "type": "scatter"
           }
          ],
          "scatter3d": [
           {
            "line": {
             "colorbar": {
              "outlinewidth": 0,
              "ticks": ""
             }
            },
            "marker": {
             "colorbar": {
              "outlinewidth": 0,
              "ticks": ""
             }
            },
            "type": "scatter3d"
           }
          ],
          "scattercarpet": [
           {
            "marker": {
             "colorbar": {
              "outlinewidth": 0,
              "ticks": ""
             }
            },
            "type": "scattercarpet"
           }
          ],
          "scattergeo": [
           {
            "marker": {
             "colorbar": {
              "outlinewidth": 0,
              "ticks": ""
             }
            },
            "type": "scattergeo"
           }
          ],
          "scattergl": [
           {
            "marker": {
             "colorbar": {
              "outlinewidth": 0,
              "ticks": ""
             }
            },
            "type": "scattergl"
           }
          ],
          "scattermapbox": [
           {
            "marker": {
             "colorbar": {
              "outlinewidth": 0,
              "ticks": ""
             }
            },
            "type": "scattermapbox"
           }
          ],
          "scatterpolar": [
           {
            "marker": {
             "colorbar": {
              "outlinewidth": 0,
              "ticks": ""
             }
            },
            "type": "scatterpolar"
           }
          ],
          "scatterpolargl": [
           {
            "marker": {
             "colorbar": {
              "outlinewidth": 0,
              "ticks": ""
             }
            },
            "type": "scatterpolargl"
           }
          ],
          "scatterternary": [
           {
            "marker": {
             "colorbar": {
              "outlinewidth": 0,
              "ticks": ""
             }
            },
            "type": "scatterternary"
           }
          ],
          "surface": [
           {
            "colorbar": {
             "outlinewidth": 0,
             "ticks": ""
            },
            "colorscale": [
             [
              0,
              "#0d0887"
             ],
             [
              0.1111111111111111,
              "#46039f"
             ],
             [
              0.2222222222222222,
              "#7201a8"
             ],
             [
              0.3333333333333333,
              "#9c179e"
             ],
             [
              0.4444444444444444,
              "#bd3786"
             ],
             [
              0.5555555555555556,
              "#d8576b"
             ],
             [
              0.6666666666666666,
              "#ed7953"
             ],
             [
              0.7777777777777778,
              "#fb9f3a"
             ],
             [
              0.8888888888888888,
              "#fdca26"
             ],
             [
              1,
              "#f0f921"
             ]
            ],
            "type": "surface"
           }
          ],
          "table": [
           {
            "cells": {
             "fill": {
              "color": "#EBF0F8"
             },
             "line": {
              "color": "white"
             }
            },
            "header": {
             "fill": {
              "color": "#C8D4E3"
             },
             "line": {
              "color": "white"
             }
            },
            "type": "table"
           }
          ]
         },
         "layout": {
          "annotationdefaults": {
           "arrowcolor": "#2a3f5f",
           "arrowhead": 0,
           "arrowwidth": 1
          },
          "autotypenumbers": "strict",
          "coloraxis": {
           "colorbar": {
            "outlinewidth": 0,
            "ticks": ""
           }
          },
          "colorscale": {
           "diverging": [
            [
             0,
             "#8e0152"
            ],
            [
             0.1,
             "#c51b7d"
            ],
            [
             0.2,
             "#de77ae"
            ],
            [
             0.3,
             "#f1b6da"
            ],
            [
             0.4,
             "#fde0ef"
            ],
            [
             0.5,
             "#f7f7f7"
            ],
            [
             0.6,
             "#e6f5d0"
            ],
            [
             0.7,
             "#b8e186"
            ],
            [
             0.8,
             "#7fbc41"
            ],
            [
             0.9,
             "#4d9221"
            ],
            [
             1,
             "#276419"
            ]
           ],
           "sequential": [
            [
             0,
             "#0d0887"
            ],
            [
             0.1111111111111111,
             "#46039f"
            ],
            [
             0.2222222222222222,
             "#7201a8"
            ],
            [
             0.3333333333333333,
             "#9c179e"
            ],
            [
             0.4444444444444444,
             "#bd3786"
            ],
            [
             0.5555555555555556,
             "#d8576b"
            ],
            [
             0.6666666666666666,
             "#ed7953"
            ],
            [
             0.7777777777777778,
             "#fb9f3a"
            ],
            [
             0.8888888888888888,
             "#fdca26"
            ],
            [
             1,
             "#f0f921"
            ]
           ],
           "sequentialminus": [
            [
             0,
             "#0d0887"
            ],
            [
             0.1111111111111111,
             "#46039f"
            ],
            [
             0.2222222222222222,
             "#7201a8"
            ],
            [
             0.3333333333333333,
             "#9c179e"
            ],
            [
             0.4444444444444444,
             "#bd3786"
            ],
            [
             0.5555555555555556,
             "#d8576b"
            ],
            [
             0.6666666666666666,
             "#ed7953"
            ],
            [
             0.7777777777777778,
             "#fb9f3a"
            ],
            [
             0.8888888888888888,
             "#fdca26"
            ],
            [
             1,
             "#f0f921"
            ]
           ]
          },
          "colorway": [
           "#636efa",
           "#EF553B",
           "#00cc96",
           "#ab63fa",
           "#FFA15A",
           "#19d3f3",
           "#FF6692",
           "#B6E880",
           "#FF97FF",
           "#FECB52"
          ],
          "font": {
           "color": "#2a3f5f"
          },
          "geo": {
           "bgcolor": "white",
           "lakecolor": "white",
           "landcolor": "white",
           "showlakes": true,
           "showland": true,
           "subunitcolor": "#C8D4E3"
          },
          "hoverlabel": {
           "align": "left"
          },
          "hovermode": "closest",
          "mapbox": {
           "style": "light"
          },
          "paper_bgcolor": "white",
          "plot_bgcolor": "white",
          "polar": {
           "angularaxis": {
            "gridcolor": "#EBF0F8",
            "linecolor": "#EBF0F8",
            "ticks": ""
           },
           "bgcolor": "white",
           "radialaxis": {
            "gridcolor": "#EBF0F8",
            "linecolor": "#EBF0F8",
            "ticks": ""
           }
          },
          "scene": {
           "xaxis": {
            "backgroundcolor": "white",
            "gridcolor": "#DFE8F3",
            "gridwidth": 2,
            "linecolor": "#EBF0F8",
            "showbackground": true,
            "ticks": "",
            "zerolinecolor": "#EBF0F8"
           },
           "yaxis": {
            "backgroundcolor": "white",
            "gridcolor": "#DFE8F3",
            "gridwidth": 2,
            "linecolor": "#EBF0F8",
            "showbackground": true,
            "ticks": "",
            "zerolinecolor": "#EBF0F8"
           },
           "zaxis": {
            "backgroundcolor": "white",
            "gridcolor": "#DFE8F3",
            "gridwidth": 2,
            "linecolor": "#EBF0F8",
            "showbackground": true,
            "ticks": "",
            "zerolinecolor": "#EBF0F8"
           }
          },
          "shapedefaults": {
           "line": {
            "color": "#2a3f5f"
           }
          },
          "ternary": {
           "aaxis": {
            "gridcolor": "#DFE8F3",
            "linecolor": "#A2B1C6",
            "ticks": ""
           },
           "baxis": {
            "gridcolor": "#DFE8F3",
            "linecolor": "#A2B1C6",
            "ticks": ""
           },
           "bgcolor": "white",
           "caxis": {
            "gridcolor": "#DFE8F3",
            "linecolor": "#A2B1C6",
            "ticks": ""
           }
          },
          "title": {
           "x": 0.05
          },
          "xaxis": {
           "automargin": true,
           "gridcolor": "#EBF0F8",
           "linecolor": "#EBF0F8",
           "ticks": "",
           "title": {
            "standoff": 15
           },
           "zerolinecolor": "#EBF0F8",
           "zerolinewidth": 2
          },
          "yaxis": {
           "automargin": true,
           "gridcolor": "#EBF0F8",
           "linecolor": "#EBF0F8",
           "ticks": "",
           "title": {
            "standoff": 15
           },
           "zerolinecolor": "#EBF0F8",
           "zerolinewidth": 2
          }
         }
        },
        "xaxis": {
         "anchor": "y",
         "domain": [
          0,
          1
         ],
         "title": {
          "text": "epochs"
         }
        },
        "yaxis": {
         "anchor": "x",
         "domain": [
          0,
          1
         ],
         "title": {
          "text": "loss"
         }
        }
       }
      }
     },
     "metadata": {},
     "output_type": "display_data"
    }
   ],
   "source": [
    "px.line(\n",
    "    pd.DataFrame(feats2traj.history.history),\n",
    "    template=\"plotly_white\",\n",
    "    labels={\"index\": \"epochs\", \"value\": \"loss\"},\n",
    ")"
   ]
  },
  {
   "attachments": {},
   "cell_type": "markdown",
   "metadata": {},
   "source": [
    "### <a id='toc1_3_3_'></a>[Exemple de prédiction](#toc0_)"
   ]
  },
  {
   "cell_type": "code",
   "execution_count": 14,
   "metadata": {},
   "outputs": [
    {
     "name": "stdout",
     "output_type": "stream",
     "text": [
      "1/1 [==============================] - 0s 169ms/step\n"
     ]
    }
   ],
   "source": [
    "trajectory_pred_lib, trajectory_true_lib = feats2traj.compare_pred_true(indiv=0)"
   ]
  },
  {
   "cell_type": "code",
   "execution_count": 15,
   "metadata": {},
   "outputs": [
    {
     "name": "stdout",
     "output_type": "stream",
     "text": [
      "Vérité :\n"
     ]
    },
    {
     "data": {
      "text/plain": [
       "[('3', '3', 8.0000000001),\n",
       " ('3', '2', 7.8000000008),\n",
       " ('3', '2', 8.0000000001),\n",
       " ('3', '1', 2.0),\n",
       " ('3', '1', 7.8000000008),\n",
       " ('<pad>', '<pad>', 0.0),\n",
       " ('<pad>', '<pad>', 0.0),\n",
       " ('<pad>', '<pad>', 0.0),\n",
       " ('<pad>', '<pad>', 0.0),\n",
       " ('<pad>', '<pad>', 0.0),\n",
       " ('<pad>', '<pad>', 0.0),\n",
       " ('<pad>', '<pad>', 0.0),\n",
       " ('<pad>', '<pad>', 0.0),\n",
       " ('<pad>', '<pad>', 0.0),\n",
       " ('<pad>', '<pad>', 0.0),\n",
       " ('<pad>', '<pad>', 0.0),\n",
       " ('<pad>', '<pad>', 0.0),\n",
       " ('<pad>', '<pad>', 0.0)]"
      ]
     },
     "execution_count": 15,
     "metadata": {},
     "output_type": "execute_result"
    }
   ],
   "source": [
    "print(\"Vérité :\")\n",
    "trajectory_true_lib"
   ]
  },
  {
   "cell_type": "code",
   "execution_count": 16,
   "metadata": {},
   "outputs": [
    {
     "name": "stdout",
     "output_type": "stream",
     "text": [
      "Prédiction :\n"
     ]
    },
    {
     "data": {
      "text/plain": [
       "[('3', '8', 11.016173),\n",
       " ('3', '8', 9.300759),\n",
       " ('3', '1', 6.362087),\n",
       " ('<pad>', '<pad>', 3.7639718),\n",
       " ('<pad>', '<pad>', 1.8977649),\n",
       " ('<pad>', '<pad>', 0.8792459),\n",
       " ('<pad>', '<pad>', 0.44650474),\n",
       " ('<pad>', '<pad>', 0.29411134),\n",
       " ('<pad>', '<pad>', 0.24714239),\n",
       " ('<pad>', '<pad>', 0.22717844),\n",
       " ('<pad>', '<pad>', 0.20622703),\n",
       " ('<pad>', '<pad>', 0.17980559),\n",
       " ('<pad>', '<pad>', 0.15198486),\n",
       " ('<pad>', '<pad>', 0.12776168),\n",
       " ('<pad>', '<pad>', 0.11014915),\n",
       " ('<pad>', '<pad>', 0.09988136),\n",
       " ('<pad>', '<pad>', 0.0961483),\n",
       " ('<pad>', '<pad>', 0.097441204)]"
      ]
     },
     "execution_count": 16,
     "metadata": {},
     "output_type": "execute_result"
    }
   ],
   "source": [
    "print(\"Prédiction :\")\n",
    "trajectory_pred_lib"
   ]
  }
 ],
 "metadata": {
  "kernelspec": {
   "display_name": "flotes-dev",
   "language": "python",
   "name": "python3"
  },
  "language_info": {
   "codemirror_mode": {
    "name": "ipython",
    "version": 3
   },
   "file_extension": ".py",
   "mimetype": "text/x-python",
   "name": "python",
   "nbconvert_exporter": "python",
   "pygments_lexer": "ipython3",
   "version": "3.11.3"
  },
  "orig_nbformat": 4
 },
 "nbformat": 4,
 "nbformat_minor": 2
}
